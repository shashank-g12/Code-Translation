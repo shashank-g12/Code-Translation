{
 "cells": [
  {
   "cell_type": "code",
   "execution_count": 1,
   "id": "4f164bc5-2a60-47ff-b5c1-40879938a1fe",
   "metadata": {},
   "outputs": [
    {
     "name": "stdout",
     "output_type": "stream",
     "text": [
      "\n",
      "     active environment : pl_codelingua\n",
      "    active env location : /home/cse/dual/cs5190439/.conda/envs/pl_codelingua\n",
      "            shell level : 2\n",
      "       user config file : /home/cse/dual/cs5190439/.condarc\n",
      " populated config files : \n",
      "          conda version : 4.9.2\n",
      "    conda-build version : 3.17.8\n",
      "         python version : 3.6.10.final.0\n",
      "       virtual packages : __glibc=2.17=0\n",
      "                          __unix=0=0\n",
      "                          __archspec=1=x86_64\n",
      "       base environment : /home/apps/anaconda3_2018/4.6.9  (read only)\n",
      "           channel URLs : https://repo.anaconda.com/pkgs/main/linux-64\n",
      "                          https://repo.anaconda.com/pkgs/main/noarch\n",
      "                          https://repo.anaconda.com/pkgs/r/linux-64\n",
      "                          https://repo.anaconda.com/pkgs/r/noarch\n",
      "          package cache : /home/apps/anaconda3_2018/4.6.9/pkgs\n",
      "                          /home/cse/dual/cs5190439/.conda/pkgs\n",
      "       envs directories : /home/cse/dual/cs5190439/.conda/envs\n",
      "                          /home/apps/anaconda3_2018/4.6.9/envs\n",
      "               platform : linux-64\n",
      "             user-agent : conda/4.9.2 requests/2.24.0 CPython/3.6.10 Linux/3.10.0-1160.el7.x86_64 centos/7.9.2009 glibc/2.17\n",
      "                UID:GID : 88479:11382\n",
      "             netrc file : None\n",
      "           offline mode : False\n",
      "\n"
     ]
    }
   ],
   "source": [
    "!conda info"
   ]
  },
  {
   "cell_type": "code",
   "execution_count": 2,
   "id": "88979357-eb51-4768-8587-b1085aaf1b11",
   "metadata": {},
   "outputs": [
    {
     "name": "stdout",
     "output_type": "stream",
     "text": [
      "/bin/bash: nvidia-smi: command not found\n"
     ]
    }
   ],
   "source": [
    "!nvidia-smi"
   ]
  },
  {
   "cell_type": "code",
   "execution_count": 3,
   "id": "83d49d87-4045-4743-a663-1f26b96e9bb9",
   "metadata": {},
   "outputs": [],
   "source": [
    "# internet allow way\n",
    "import os\n",
    "# run internet\n",
    "os.environ['http_proxy']=\"http://proxy62.iitd.ac.in:3128\"\n",
    "os.environ['ftp_proxy']=\"http://proxy62.iitd.ac.in:3128\"\n",
    "os.environ['https_proxy']=\"http://proxy62.iitd.ac.in:3128\""
   ]
  },
  {
   "cell_type": "code",
   "execution_count": 4,
   "id": "a7c69d87-cdeb-48a9-9059-0abbce8837f3",
   "metadata": {},
   "outputs": [
    {
     "name": "stdout",
     "output_type": "stream",
     "text": [
      "Internet connection active!\n"
     ]
    }
   ],
   "source": [
    "\n",
    "import requests\n",
    "try:\n",
    "  # Check any accessible URL, like Google's homepage\n",
    "  response = requests.get(\"https://www.google.com/\")\n",
    "  if response.status_code == 200:\n",
    "    print(\"Internet connection active!\")\n",
    "  else:\n",
    "    print(\"Internet connection available, but unable to reach the specified URL.\")\n",
    "except requests.exceptions.ConnectionError:\n",
    "  print(\"No internet connection available.\")"
   ]
  },
  {
   "cell_type": "code",
   "execution_count": 9,
   "id": "4434f5f1-03b1-42a8-843c-2d64147733f2",
   "metadata": {},
   "outputs": [
    {
     "data": {
      "text/plain": [
       "DatasetDict({\n",
       "    train: Dataset({\n",
       "        features: ['language', 'id', 'dataset', 'code', 'test_IO'],\n",
       "        num_rows: 500\n",
       "    })\n",
       "})"
      ]
     },
     "execution_count": 9,
     "metadata": {},
     "output_type": "execute_result"
    }
   ],
   "source": [
    "from datasets import load_from_disk\n",
    "dataset= load_from_disk(\"/scratch/cse/dual/cs5190439/MTP1/PLTranslation_data/dataset/avatar_dataset\")\n",
    "# dataset= load_from_disk(\"/home/cse/dual/cs5190439/.cache/huggingface/datasets/iidai___avatar/default/0.0.0/467ea00ccebd534c96faaf6d640c73720819bad6\")\n",
    "# /home/cse/dual/cs5190439/.cache/huggingface/datasets/iidai___avatar/default/0.0.0/467ea00ccebd534c96faaf6d640c73720819bad6\n",
    "dataset"
   ]
  },
  {
   "cell_type": "code",
   "execution_count": 8,
   "id": "a303726e-6160-408e-97b0-4347c54e6dd5",
   "metadata": {},
   "outputs": [
    {
     "data": {
      "application/vnd.jupyter.widget-view+json": {
       "model_id": "794730ed9f5d42ccaa5d728bbe14ac60",
       "version_major": 2,
       "version_minor": 0
      },
      "text/plain": [
       "Saving the dataset (0/1 shards):   0%|          | 0/1000 [00:00<?, ? examples/s]"
      ]
     },
     "metadata": {},
     "output_type": "display_data"
    }
   ],
   "source": [
    "from datasets import load_dataset\n",
    "\n",
    "dataset = load_dataset(\"iidai/codenet\", cache_dir=\"/home/cse/dual/cs5190439/.cache/huggingface/datasets\")\n",
    "# Save the dataset to a specific directory\n",
    "dataset.save_to_disk(\"/scratch/cse/dual/cs5190439/MTP1/PLTranslation_data/dataset/codenet_dataset\")"
   ]
  },
  {
   "cell_type": "code",
   "execution_count": 6,
   "id": "ae4b0267-0c73-498f-8277-fbb05d908d1f",
   "metadata": {},
   "outputs": [
    {
     "data": {
      "application/vnd.jupyter.widget-view+json": {
       "model_id": "05341068792140ae89f1afb7df41f890",
       "version_major": 2,
       "version_minor": 0
      },
      "text/plain": [
       "Saving the dataset (0/4 shards):   0%|          | 0/500 [00:00<?, ? examples/s]"
      ]
     },
     "metadata": {},
     "output_type": "display_data"
    }
   ],
   "source": [
    "from datasets import load_dataset\n",
    "\n",
    "dataset = load_dataset(\"iidai/avatar\", cache_dir=\"/home/cse/dual/cs5190439/.cache/huggingface/datasets\")\n",
    "# Save the dataset to a specific directory\n",
    "dataset.save_to_disk(\"/scratch/cse/dual/cs5190439/MTP1/PLTranslation_data/dataset/avatar_dataset\")"
   ]
  },
  {
   "cell_type": "code",
   "execution_count": 7,
   "id": "7909298b-54e7-4ab0-adf9-f834460c7587",
   "metadata": {},
   "outputs": [
    {
     "data": {
      "text/plain": [
       "DatasetDict({\n",
       "    train: Dataset({\n",
       "        features: ['language', 'id', 'dataset', 'code', 'test_IO'],\n",
       "        num_rows: 500\n",
       "    })\n",
       "})"
      ]
     },
     "execution_count": 7,
     "metadata": {},
     "output_type": "execute_result"
    }
   ],
   "source": [
    "dataset"
   ]
  },
  {
   "cell_type": "code",
   "execution_count": 8,
   "id": "aae9cc2b-ef16-4cff-803c-367259285e0a",
   "metadata": {},
   "outputs": [
    {
     "data": {
      "text/plain": [
       "1"
      ]
     },
     "execution_count": 8,
     "metadata": {},
     "output_type": "execute_result"
    }
   ],
   "source": [
    "len(dataset)"
   ]
  },
  {
   "cell_type": "code",
   "execution_count": 9,
   "id": "1906d9bf-b013-4349-92a2-837c350f2cf9",
   "metadata": {},
   "outputs": [
    {
     "name": "stdout",
     "output_type": "stream",
     "text": [
      "{'language': 'Python', 'id': 'codeforces_23_B', 'dataset': 'avatar', 'code': 'n = int(input())\\nfor i in range(n):\\n    a = int(input())\\n    if a < 2:\\n        print(0)\\n    if a >= 2:\\n        print(a - 2)\\n', 'test_IO': [{'input': '1\\n3\\n', 'output': '1\\n'}]}\n"
     ]
    }
   ],
   "source": [
    "print(dataset['train'][0])"
   ]
  },
  {
   "cell_type": "code",
   "execution_count": 10,
   "id": "aa633ee6-76e1-4c2f-ac7a-6a98619be7cd",
   "metadata": {},
   "outputs": [],
   "source": [
    "# train data onwards-\n",
    "dataset=dataset['train']"
   ]
  },
  {
   "cell_type": "code",
   "execution_count": 11,
   "id": "97ecc864-fa90-4453-af86-6c3bf74311f6",
   "metadata": {},
   "outputs": [
    {
     "name": "stdout",
     "output_type": "stream",
     "text": [
      "j 250\n",
      "p 250\n"
     ]
    }
   ],
   "source": [
    "p=0\n",
    "j=0\n",
    "for x in dataset:\n",
    "    if (x['language']=='Java'):\n",
    "        j+=1\n",
    "    if (x['language']=='Python'):\n",
    "        p+=1\n",
    "print(\"j\",j)\n",
    "print(\"p\",p)"
   ]
  },
  {
   "cell_type": "code",
   "execution_count": 12,
   "id": "00fdd1c8-9ef3-449a-a434-4f7b10d454c8",
   "metadata": {},
   "outputs": [],
   "source": [
    "lj =[]\n",
    "lp=[]\n",
    "for x in dataset:\n",
    "    if (x['language']=='Java'):\n",
    "        j+=1\n",
    "        lj.append(x['id'])\n",
    "    if (x['language']=='Python'):\n",
    "        p+=1\n",
    "        lp.append(x['id'])"
   ]
  },
  {
   "cell_type": "code",
   "execution_count": 16,
   "id": "ab1f8aa1-1403-4141-b85c-ebc6b8b06d19",
   "metadata": {},
   "outputs": [
    {
     "data": {
      "text/plain": [
       "250"
      ]
     },
     "execution_count": 16,
     "metadata": {},
     "output_type": "execute_result"
    }
   ],
   "source": [
    "len(set(lj))"
   ]
  },
  {
   "cell_type": "code",
   "execution_count": 17,
   "id": "35443eb1-dfd5-4fbd-a5ac-8912767dd959",
   "metadata": {},
   "outputs": [
    {
     "data": {
      "text/plain": [
       "250"
      ]
     },
     "execution_count": 17,
     "metadata": {},
     "output_type": "execute_result"
    }
   ],
   "source": [
    "len(set(lp))"
   ]
  },
  {
   "cell_type": "code",
   "execution_count": 13,
   "id": "dbb59822-3bd9-4972-8efb-663160d35d94",
   "metadata": {},
   "outputs": [
    {
     "name": "stdout",
     "output_type": "stream",
     "text": [
      "{'language': 'Python', 'id': 'atcoder_ABC042_A', 'dataset': 'avatar', 'code': \"ABC = tuple(map(int, input().split()))\\nif ABC.count(5) == 2:\\n    print('YES' if sum(ABC) == 17 else 'NO')\\nelse:\\n    print('NO')\\n\", 'test_IO': [{'input': '7 5 5\\n', 'output': 'YES\\n'}, {'input': '5 7 5\\n', 'output': 'YES\\n'}, {'input': '7 7 5\\n', 'output': 'NO\\n'}, {'input': '5 7 7\\n', 'output': 'NO\\n'}, {'input': '5 5 7\\n', 'output': 'YES\\n'}]}\n",
      "**********\n",
      "{'language': 'Java', 'id': 'atcoder_ABC042_A', 'dataset': 'avatar', 'code': 'import java.io.BufferedReader;\\nimport java.io.IOException;\\nimport java.io.InputStreamReader;\\n\\npublic class atcoder_ABC042_A {\\n    public static void main(String[] args) throws IOException {\\n        BufferedReader br = new BufferedReader(new InputStreamReader(System.in));\\n        String line = br.readLine();\\n        String[] list = line.split(\" \");\\n        int x = Integer.parseInt(list[0]);\\n        int a = Integer.parseInt(list[1]);\\n        int y = Integer.parseInt(list[2]);\\n        String h = \"NO\";\\n        if (x == 5 | x == 7 | a == 5 | a == 7 | y == 5 | y == 7) {\\n            if (x + y + a == 17) {\\n                h = \"YES\";\\n            }\\n        }\\n        System.out.println(h);\\n    }\\n}\\n', 'test_IO': [{'input': '7 5 5\\n', 'output': 'YES\\n'}, {'input': '5 7 5\\n', 'output': 'YES\\n'}, {'input': '7 7 5\\n', 'output': 'NO\\n'}, {'input': '5 7 7\\n', 'output': 'NO\\n'}, {'input': '5 5 7\\n', 'output': 'YES\\n'}]}\n",
      "**********\n"
     ]
    }
   ],
   "source": [
    "# atcoder_ABC042_A_0\n",
    "\n",
    "for x in dataset:\n",
    "    if x['id']==\"atcoder_ABC042_A\":\n",
    "        print(x)\n",
    "        print(\"*\"*10)\n",
    "    "
   ]
  },
  {
   "cell_type": "code",
   "execution_count": 14,
   "id": "435253ce-a9fc-425b-a044-0609287090d4",
   "metadata": {},
   "outputs": [
    {
     "name": "stdout",
     "output_type": "stream",
     "text": [
      "['codeforces_379_A', 'atcoder_ABC150_D', 'codeforces_313_B', 'codeforces_267_A', 'atcoder_ABC125_C', 'codeforces_459_A', 'atcoder_ABC152_E', 'codeforces_189_A', 'codeforces_99_A', 'codeforces_412_A', 'atcoder_AGC011_C', 'codeforces_95_A', 'atcoder_ABC153_A', 'atcoder_AGC046_B', 'atcoder_ABC127_B', 'codeforces_474_B', 'atcoder_ABC105_D', 'codeforces_500_A', 'atcoder_ABC139_B', 'codeforces_400_A', 'codeforces_351_A', 'atcoder_AGC003_C', 'codeforces_55_B', 'codeforces_672_A', 'codeforces_110_B', 'codeforces_31_A', 'codeforces_296_A', 'atcoder_ARC086_B', 'codeforces_637_A', 'codeforces_61_B', 'codeforces_629_A', 'codeforces_632_B', 'codeforces_203_B', 'atcoder_ABC123_D', 'codeforces_445_A', 'atcoder_ABC140_D', 'atcoder_ABC070_B', 'atcoder_AGC006_A', 'atcoder_ABC174_E', 'codeforces_306_A', 'atcoder_AGC029_C', 'codeforces_272_B', 'atcoder_ABC107_D', 'atcoder_AGC027_B', 'atcoder_ABC132_A', 'atcoder_ABC158_B', 'atcoder_ABC051_A', 'atcoder_ABC151_A', 'atcoder_ABC125_B', 'atcoder_ABC164_D', 'atcoder_AGC035_B', 'atcoder_ABC133_E', 'codeforces_519_B', 'atcoder_ABC143_A', 'atcoder_ABC111_C', 'codeforces_222_A', 'atcoder_ABC150_E', 'codeforces_621_A', 'atcoder_ABC089_C', 'codeforces_581_B', 'codeforces_624_B', 'codeforces_108_B', 'codeforces_11_A', 'codeforces_154_A', 'codeforces_397_B', 'codeforces_678_A', 'codeforces_612_B', 'codeforces_146_A', 'atcoder_ABC124_A', 'codeforces_514_A', 'atcoder_AGC038_A', 'codeforces_469_A', 'codeforces_96_B', 'codeforces_569_A', 'atcoder_ABC168_C', 'atcoder_ABC133_B', 'atcoder_ABC129_E', 'atcoder_ABC172_D', 'atcoder_ABC132_F', 'atcoder_ABC107_C', 'codeforces_334_A', 'atcoder_ARC102_C', 'atcoder_ABC109_B', 'atcoder_ABC152_C', 'codeforces_544_B', 'atcoder_ABC135_D', 'codeforces_276_B', 'atcoder_AGC002_A', 'codeforces_302_A', 'atcoder_ABC112_A', 'codeforces_682_B', 'atcoder_ABC123_C', 'atcoder_ABC178_B', 'atcoder_ABC162_D', 'atcoder_ABC123_B', 'codeforces_342_B', 'codeforces_242_B', 'codeforces_567_A', 'codeforces_404_A', 'atcoder_ABC166_C', 'atcoder_AGC007_C', 'codeforces_579_A', 'atcoder_AGC028_A', 'atcoder_AGC021_B', 'codeforces_350_B', 'atcoder_AGC037_E', 'atcoder_ABC174_C', 'codeforces_462_B', 'codeforces_333_B', 'atcoder_AGC033_B', 'atcoder_ABC146_D', 'atcoder_AGC012_A', 'atcoder_ABC142_C', 'atcoder_ABC119_B', 'atcoder_AGC005_B', 'atcoder_ABC168_B', 'atcoder_ABC150_C', 'atcoder_ABC137_D', 'codeforces_598_A', 'codeforces_67_B', 'codeforces_583_B', 'codeforces_106_B', 'codeforces_37_A', 'codeforces_7_B', 'codeforces_387_B', 'codeforces_25_A', 'codeforces_607_A', 'codeforces_32_B', 'codeforces_70_B', 'codeforces_79_A', 'codeforces_299_A', 'codeforces_387_A', 'codeforces_287_A', 'codeforces_148_B', 'codeforces_58_B', 'codeforces_282_B', 'codeforces_673_A', 'codeforces_242_A', 'atcoder_ABC127_F', 'atcoder_AGC014_D', 'atcoder_AGC028_B', 'atcoder_ABC149_B', 'codeforces_86_A', 'atcoder_ABC112_C', 'codeforces_408_B', 'atcoder_ABC145_B', 'atcoder_AGC024_B', 'atcoder_ABC167_D', 'atcoder_AGC033_A', 'atcoder_ABC148_F', 'atcoder_ABC169_E', 'atcoder_ABC128_C', 'atcoder_ABC164_A', 'codeforces_274_A', 'atcoder_ABC143_D', 'codeforces_546_A', 'atcoder_ABC124_C', 'atcoder_AGC017_A', 'atcoder_AGC004_D', 'codeforces_231_A', 'atcoder_ABC136_B', 'atcoder_ABC042_A', 'atcoder_ABC142_A', 'atcoder_ABC110_C', 'atcoder_ABC169_D', 'codeforces_340_A', 'codeforces_518_B', 'atcoder_AGC034_B', 'codeforces_268_A', 'atcoder_ABC145_C', 'atcoder_ABC122_D', 'atcoder_AGC002_B', 'atcoder_ABC149_C', 'codeforces_373_B', 'codeforces_456_A', 'atcoder_ABC178_A', 'atcoder_ABC171_B', 'atcoder_AGC010_B', 'atcoder_AGC019_A', 'codeforces_596_B', 'codeforces_581_A', 'codeforces_705_B', 'codeforces_678_B', 'codeforces_30_A', 'codeforces_617_B', 'codeforces_56_B', 'codeforces_609_B', 'atcoder_ABC171_E', 'codeforces_203_A', 'atcoder_ABC108_B', 'codeforces_369_B', 'atcoder_ABC122_C', 'atcoder_ABC170_A', 'codeforces_265_B', 'codeforces_534_B', 'atcoder_ABC126_D', 'atcoder_ARC062_B', 'atcoder_AGC006_B', 'codeforces_327_A', 'codeforces_190_A', 'atcoder_ABC114_C', 'atcoder_AGC027_A', 'atcoder_ABC155_E', 'atcoder_ABC169_C', 'atcoder_ABC158_A', 'atcoder_ABC125_A', 'atcoder_ABC154_A', 'codeforces_92_A', 'atcoder_ABC106_C', 'atcoder_ABC043_B', 'atcoder_ABC118_C', 'codeforces_356_A', 'atcoder_ABC165_C', 'codeforces_8_B', 'codeforces_608_A', 'codeforces_49_A', 'codeforces_23_B', 'codeforces_147_A', 'codeforces_629_B', 'codeforces_171_A', 'codeforces_651_A', 'codeforces_131_B', 'codeforces_669_A', 'codeforces_55_A', 'codeforces_134_A', 'codeforces_665_A', 'codeforces_59_A', 'codeforces_644_B', 'codeforces_653_A', 'codeforces_622_A', 'atcoder_AGC004_B', 'codeforces_421_A', 'atcoder_ABC120_C', 'atcoder_AGC013_A', 'atcoder_ABC147_D', 'codeforces_216_B', 'codeforces_450_A', 'codeforces_459_B', 'atcoder_ABC155_D', 'codeforces_354_A', 'atcoder_ABC167_C', 'atcoder_ABC126_E', 'atcoder_ABC145_E', 'atcoder_ABC104_C', 'atcoder_AGC043_B', 'atcoder_ABC140_F', 'atcoder_AGC046_A', 'atcoder_ABC134_E', 'atcoder_AGC025_A', 'codeforces_400_B']\n"
     ]
    }
   ],
   "source": [
    "print(lj)"
   ]
  },
  {
   "cell_type": "code",
   "execution_count": 15,
   "id": "6c282393-6ce4-4cde-96a8-d2cf0ac5aed3",
   "metadata": {},
   "outputs": [
    {
     "name": "stdout",
     "output_type": "stream",
     "text": [
      "['codeforces_23_B', 'codeforces_669_A', 'codeforces_373_B', 'atcoder_ABC152_C', 'atcoder_ABC170_A', 'codeforces_148_B', 'codeforces_147_A', 'codeforces_518_B', 'atcoder_AGC017_A', 'atcoder_ABC147_D', 'atcoder_ABC132_F', 'atcoder_ABC145_B', 'codeforces_8_B', 'atcoder_ABC168_C', 'codeforces_653_A', 'codeforces_203_A', 'atcoder_AGC037_E', 'atcoder_ABC150_E', 'codeforces_534_B', 'codeforces_58_B', 'atcoder_AGC034_B', 'codeforces_242_A', 'codeforces_665_A', 'atcoder_AGC043_B', 'codeforces_282_B', 'codeforces_327_A', 'codeforces_274_A', 'atcoder_AGC002_B', 'codeforces_673_A', 'codeforces_369_B', 'codeforces_608_A', 'codeforces_171_A', 'atcoder_ABC149_B', 'atcoder_ABC167_D', 'codeforces_596_B', 'atcoder_AGC003_C', 'atcoder_ARC062_B', 'codeforces_216_B', 'atcoder_ABC042_A', 'atcoder_ABC108_B', 'atcoder_ABC126_D', 'atcoder_ABC125_C', 'atcoder_ABC151_A', 'codeforces_55_B', 'codeforces_189_A', 'atcoder_ABC124_C', 'codeforces_581_B', 'atcoder_ABC109_B', 'codeforces_598_A', 'atcoder_ABC165_C', 'codeforces_313_B', 'codeforces_37_A', 'atcoder_ABC133_B', 'codeforces_672_A', 'codeforces_222_A', 'codeforces_387_B', 'atcoder_ABC149_C', 'codeforces_96_B', 'codeforces_99_A', 'atcoder_ABC126_E', 'atcoder_ABC125_B', 'atcoder_ABC171_E', 'codeforces_306_A', 'atcoder_AGC035_B', 'atcoder_ABC128_C', 'codeforces_351_A', 'atcoder_ABC148_F', 'atcoder_ABC169_C', 'codeforces_469_A', 'atcoder_ABC145_C', 'codeforces_412_A', 'codeforces_108_B', 'codeforces_276_B', 'codeforces_629_A', 'codeforces_296_A', 'codeforces_333_B', 'atcoder_ABC112_C', 'codeforces_445_A', 'atcoder_ABC168_B', 'atcoder_ABC146_D', 'codeforces_500_A', 'atcoder_ABC104_C', 'atcoder_ABC150_D', 'codeforces_146_A', 'codeforces_519_B', 'codeforces_95_A', 'codeforces_404_A', 'atcoder_ABC107_D', 'codeforces_400_B', 'codeforces_622_A', 'atcoder_AGC004_B', 'codeforces_30_A', 'atcoder_AGC029_C', 'atcoder_AGC027_A', 'atcoder_AGC028_B', 'atcoder_ABC174_C', 'codeforces_705_B', 'atcoder_ABC123_C', 'atcoder_ABC089_C', 'codeforces_617_B', 'codeforces_546_A', 'atcoder_AGC046_A', 'codeforces_92_A', 'codeforces_268_A', 'codeforces_287_A', 'atcoder_ABC142_C', 'atcoder_AGC024_B', 'codeforces_340_A', 'codeforces_356_A', 'atcoder_AGC033_B', 'atcoder_ARC086_B', 'codeforces_11_A', 'codeforces_678_A', 'codeforces_32_B', 'atcoder_ABC139_B', 'atcoder_ABC114_C', 'atcoder_AGC006_A', 'atcoder_ABC140_D', 'atcoder_ABC178_B', 'atcoder_ABC158_B', 'atcoder_ABC122_C', 'codeforces_567_A', 'atcoder_ABC137_D', 'atcoder_ABC119_B', 'codeforces_342_B', 'codeforces_31_A', 'atcoder_ABC070_B', 'atcoder_AGC005_B', 'atcoder_ABC118_C', 'codeforces_459_A', 'atcoder_ABC123_B', 'codeforces_544_B', 'codeforces_397_B', 'codeforces_682_B', 'atcoder_ABC154_A', 'atcoder_AGC033_A', 'atcoder_AGC011_C', 'codeforces_421_A', 'atcoder_ABC122_D', 'codeforces_134_A', 'atcoder_AGC007_C', 'codeforces_49_A', 'atcoder_ABC142_A', 'atcoder_AGC004_D', 'atcoder_AGC025_A', 'atcoder_ABC136_B', 'codeforces_678_B', 'atcoder_AGC006_B', 'atcoder_ABC178_A', 'atcoder_AGC010_B', 'atcoder_ABC174_E', 'codeforces_231_A', 'atcoder_ABC158_A', 'atcoder_ARC102_C', 'codeforces_354_A', 'codeforces_86_A', 'atcoder_ABC143_D', 'atcoder_AGC013_A', 'codeforces_265_B', 'atcoder_ABC155_D', 'codeforces_70_B', 'codeforces_456_A', 'codeforces_459_B', 'codeforces_400_A', 'codeforces_379_A', 'atcoder_AGC012_A', 'codeforces_154_A', 'codeforces_67_B', 'codeforces_272_B', 'codeforces_462_B', 'atcoder_AGC027_B', 'atcoder_AGC028_A', 'codeforces_569_A', 'atcoder_ABC155_E', 'codeforces_474_B', 'codeforces_302_A', 'atcoder_AGC046_B', 'codeforces_25_A', 'codeforces_637_A', 'codeforces_267_A', 'atcoder_ABC134_E', 'codeforces_334_A', 'codeforces_621_A', 'atcoder_ABC143_A', 'atcoder_ABC162_D', 'atcoder_ABC140_F', 'atcoder_ABC135_D', 'atcoder_ABC051_A', 'atcoder_ABC123_D', 'atcoder_ABC120_C', 'codeforces_55_A', 'atcoder_ABC152_E', 'codeforces_581_A', 'atcoder_ABC043_B', 'codeforces_131_B', 'codeforces_651_A', 'codeforces_609_B', 'codeforces_190_A', 'atcoder_ABC169_D', 'codeforces_387_A', 'atcoder_ABC111_C', 'atcoder_ABC164_A', 'atcoder_ABC107_C', 'atcoder_ABC129_E', 'codeforces_450_A', 'codeforces_79_A', 'atcoder_ABC150_C', 'atcoder_ABC125_A', 'codeforces_408_B', 'codeforces_56_B', 'codeforces_59_A', 'atcoder_AGC014_D', 'codeforces_644_B', 'atcoder_ABC166_C', 'codeforces_299_A', 'atcoder_ABC133_E', 'codeforces_629_B', 'atcoder_ABC171_B', 'atcoder_AGC019_A', 'codeforces_110_B', 'atcoder_ABC127_B', 'codeforces_106_B', 'atcoder_ABC164_D', 'codeforces_7_B', 'codeforces_203_B', 'atcoder_ABC167_C', 'atcoder_ABC112_A', 'codeforces_350_B', 'codeforces_583_B', 'codeforces_612_B', 'codeforces_242_B', 'atcoder_ABC172_D', 'atcoder_ABC153_A', 'atcoder_ABC105_D', 'atcoder_ABC124_A', 'codeforces_514_A', 'atcoder_ABC106_C', 'atcoder_ABC127_F', 'codeforces_632_B', 'codeforces_61_B', 'atcoder_ABC110_C', 'atcoder_AGC002_A', 'codeforces_624_B', 'atcoder_ABC132_A', 'atcoder_ABC169_E', 'codeforces_607_A', 'atcoder_AGC021_B', 'codeforces_579_A', 'atcoder_ABC145_E', 'atcoder_AGC038_A']\n"
     ]
    }
   ],
   "source": [
    "print(lp)"
   ]
  },
  {
   "cell_type": "code",
   "execution_count": 18,
   "id": "675284a2-f749-4daf-afa9-fce430cc9125",
   "metadata": {},
   "outputs": [],
   "source": [
    "# local data\n",
    "local_j =['atcoder_ABC070_B', 'atcoder_ABC155_D', 'codeforces_30_A', 'codeforces_544_B', 'codeforces_242_B', 'codeforces_67_B', 'atcoder_ABC108_B', 'codeforces_421_A', 'codeforces_106_B', 'atcoder_ABC125_B', 'codeforces_546_A', 'atcoder_ABC167_C', 'codeforces_189_A', 'atcoder_ABC089_C', 'codeforces_624_B', 'codeforces_678_B', 'atcoder_ABC107_D', 'atcoder_ABC118_C', 'atcoder_ABC142_A', 'codeforces_387_B', 'atcoder_ABC146_D', 'atcoder_ABC169_E', 'atcoder_AGC028_A', 'codeforces_203_B', 'codeforces_629_B', 'atcoder_ABC122_D', 'atcoder_AGC006_B', 'codeforces_609_B', 'atcoder_ABC152_C', 'atcoder_ABC150_D', 'codeforces_673_A', 'codeforces_302_A', 'codeforces_146_A', 'atcoder_ABC158_A', 'atcoder_ABC110_C', 'codeforces_607_A', 'codeforces_672_A', 'codeforces_637_A', 'codeforces_412_A', 'atcoder_AGC029_C', 'atcoder_ABC107_C', 'atcoder_ABC109_B', 'atcoder_ABC169_D', 'codeforces_400_B', 'codeforces_518_B', 'codeforces_96_B', 'atcoder_ABC174_C', 'codeforces_108_B', 'codeforces_92_A', 'atcoder_ARC062_B', 'atcoder_ABC169_C', 'atcoder_ABC135_D', 'codeforces_276_B', 'atcoder_ABC104_C', 'codeforces_387_A', 'atcoder_ABC167_D', 'codeforces_462_B', 'codeforces_567_A', 'atcoder_ABC166_C', 'codeforces_268_A', 'codeforces_644_B', 'codeforces_154_A', 'codeforces_32_B', 'codeforces_669_A', 'codeforces_581_B', 'atcoder_AGC024_B', 'atcoder_AGC004_D', 'codeforces_612_B', 'codeforces_8_B', 'codeforces_282_B', 'atcoder_AGC005_B', 'atcoder_ABC120_C', 'codeforces_354_A', 'codeforces_299_A', 'atcoder_AGC046_A', 'codeforces_134_A', 'atcoder_ABC147_D', 'atcoder_ABC170_A', 'atcoder_ABC145_E', 'codeforces_287_A', 'atcoder_AGC037_E', 'codeforces_579_A', 'atcoder_AGC038_A', 'atcoder_ABC140_F', 'codeforces_459_A', 'atcoder_ABC178_A', 'codeforces_37_A', 'atcoder_ABC165_C', 'atcoder_ABC168_C', 'atcoder_AGC035_B', 'atcoder_ABC106_C', 'atcoder_ABC133_B', 'atcoder_AGC046_B', 'atcoder_ABC127_F', 'codeforces_450_A', 'codeforces_445_A', 'codeforces_265_B', 'atcoder_ABC122_C', 'codeforces_274_A', 'atcoder_ABC155_E', 'codeforces_351_A', 'codeforces_333_B', 'codeforces_404_A', 'codeforces_99_A', 'atcoder_AGC019_A', 'atcoder_ABC164_A', 'atcoder_AGC003_C', 'codeforces_534_B', 'codeforces_705_B', 'codeforces_651_A', 'atcoder_ABC168_B', 'codeforces_148_B', 'atcoder_ABC136_B', 'codeforces_682_B', 'codeforces_190_A', 'codeforces_342_B', 'codeforces_110_B', 'atcoder_ABC132_A', 'codeforces_31_A', 'codeforces_25_A', 'codeforces_7_B', 'codeforces_23_B', 'atcoder_AGC013_A', 'codeforces_242_A', 'atcoder_AGC004_B', 'atcoder_AGC033_B', 'atcoder_ARC086_B', 'codeforces_56_B', 'codeforces_583_B', 'atcoder_AGC007_C', 'codeforces_397_B', 'atcoder_AGC027_B', 'codeforces_598_A', 'codeforces_203_A', 'atcoder_ABC126_D', 'atcoder_ABC162_D', 'atcoder_AGC002_A', 'atcoder_ABC125_A', 'atcoder_ABC132_F', 'codeforces_340_A', 'codeforces_379_A', 'codeforces_617_B', 'atcoder_ABC127_B', 'codeforces_622_A', 'atcoder_ABC171_B', 'codeforces_369_B', 'atcoder_ABC143_A', 'codeforces_79_A', 'codeforces_569_A', 'atcoder_ABC171_E', 'atcoder_ABC174_E', 'codeforces_216_B', 'codeforces_296_A', 'codeforces_313_B', 'codeforces_665_A', 'atcoder_ABC114_C', 'atcoder_ABC178_B', 'atcoder_ABC128_C', 'codeforces_629_A', 'atcoder_ABC152_E', 'codeforces_147_A', 'codeforces_131_B', 'atcoder_ABC124_A', 'atcoder_ABC051_A', 'atcoder_ABC145_C', 'codeforces_61_B', 'codeforces_222_A', 'atcoder_AGC025_A', 'atcoder_ABC150_E', 'atcoder_AGC017_A', 'codeforces_55_A', 'atcoder_ABC111_C', 'codeforces_632_B', 'atcoder_ABC153_A', 'atcoder_ABC123_C', 'codeforces_55_B', 'codeforces_400_A', 'atcoder_ABC043_B', 'atcoder_AGC010_B', 'codeforces_59_A', 'atcoder_AGC043_B', 'codeforces_653_A', 'atcoder_ABC125_C', 'atcoder_ABC133_E', 'atcoder_ABC150_C', 'atcoder_AGC012_A', 'atcoder_ABC105_D', 'codeforces_408_B', 'atcoder_ABC123_D', 'codeforces_596_B', 'codeforces_474_B', 'atcoder_ABC137_D', 'atcoder_ABC149_B', 'codeforces_514_A', 'codeforces_11_A', 'codeforces_327_A', 'codeforces_49_A', 'atcoder_AGC027_A', 'codeforces_334_A', 'codeforces_171_A', 'atcoder_ABC149_C', 'atcoder_ABC143_D', 'atcoder_ABC126_E', 'atcoder_ABC123_B', 'codeforces_95_A', 'codeforces_621_A', 'atcoder_ABC151_A', 'atcoder_AGC014_D', 'atcoder_ABC148_F', 'codeforces_678_A', 'atcoder_ABC154_A', 'atcoder_ABC042_A', 'codeforces_456_A', 'atcoder_AGC033_A', 'codeforces_306_A', 'atcoder_ABC129_E', 'codeforces_356_A', 'atcoder_AGC034_B', 'atcoder_ARC102_C', 'atcoder_AGC021_B', 'atcoder_ABC139_B', 'atcoder_AGC006_A', 'atcoder_ABC145_B', 'codeforces_70_B', 'atcoder_AGC011_C', 'codeforces_469_A', 'atcoder_ABC124_C', 'codeforces_231_A', 'codeforces_500_A', 'atcoder_AGC028_B', 'atcoder_ABC172_D', 'codeforces_272_B', 'codeforces_267_A', 'codeforces_350_B', 'codeforces_608_A', 'atcoder_ABC158_B', 'atcoder_ABC112_C', 'codeforces_519_B', 'codeforces_86_A', 'atcoder_ABC140_D', 'atcoder_ABC142_C', 'atcoder_AGC002_B', 'codeforces_581_A', 'atcoder_ABC119_B', 'atcoder_ABC112_A', 'codeforces_58_B', 'atcoder_ABC164_D', 'codeforces_459_B', 'atcoder_ABC134_E']"
   ]
  },
  {
   "cell_type": "code",
   "execution_count": 19,
   "id": "40ec3adf-8e46-4bd2-9f52-8034a0f77179",
   "metadata": {},
   "outputs": [],
   "source": [
    "local_j =set(local_j)\n",
    "lj =set(lj)"
   ]
  },
  {
   "cell_type": "code",
   "execution_count": 20,
   "id": "e65fd4b9-7510-463f-b1a3-911d692a1cd8",
   "metadata": {},
   "outputs": [
    {
     "data": {
      "text/plain": [
       "set()"
      ]
     },
     "execution_count": 20,
     "metadata": {},
     "output_type": "execute_result"
    }
   ],
   "source": [
    "local_j -lj "
   ]
  },
  {
   "cell_type": "code",
   "execution_count": 21,
   "id": "ae6de020-522e-4977-853f-86a95f4acec1",
   "metadata": {},
   "outputs": [
    {
     "data": {
      "text/plain": [
       "{'codeforces_373_B'}"
      ]
     },
     "execution_count": 21,
     "metadata": {},
     "output_type": "execute_result"
    }
   ],
   "source": [
    "lj -local_j"
   ]
  },
  {
   "cell_type": "code",
   "execution_count": 23,
   "id": "e21e6ed8-4f08-4e8c-ac9b-5971b63145eb",
   "metadata": {},
   "outputs": [
    {
     "data": {
      "text/plain": [
       "250"
      ]
     },
     "execution_count": 23,
     "metadata": {},
     "output_type": "execute_result"
    }
   ],
   "source": [
    "# intersection of huggingface \n",
    "lp =set(lp)\n",
    "len(lj&lp)"
   ]
  },
  {
   "cell_type": "code",
   "execution_count": 26,
   "id": "74244e53-42c9-4ced-b657-4d842137fb9f",
   "metadata": {},
   "outputs": [
    {
     "name": "stdout",
     "output_type": "stream",
     "text": [
      "{'language': 'Python', 'id': 'codeforces_373_B', 'dataset': 'avatar', 'code': 'def sum(k):\\n    ret = 0\\n    pw = 10\\n    len = 1\\n    while 1 == 1:\\n        cur = min(pw - 1, k)\\n        prev = pw // 10\\n        ret += (cur - prev + 1) * len\\n        if (pw - 1 >= k):\\n            break\\n        len += 1\\n        pw *= 10\\n    return ret\\n\\n\\nw, m, k = map(int, input().split())\\nlo = 0\\nhi = int(1e18)\\nwhile hi - lo > 1:\\n    md = (lo + hi) // 2\\n    c = sum(m + md - 1) - sum(m - 1)\\n    if c * k <= w:\\n        lo = md\\n    else:\\n        hi = md\\nprint(lo)\\n', 'test_IO': [{'input': '462 183 8\\n', 'output': '19\\n'}, {'input': '121212121 3434343434 56\\n', 'output': '216450\\n'}, {'input': '3 1 4\\n', 'output': '0\\n'}, {'input': '77 7 7\\n', 'output': '7\\n'}, {'input': '1 1000000000000000 1000000000\\n', 'output': '0\\n'}, {'input': '10000000000000000 9999999999999999 1\\n', 'output': '588235294117647\\n'}, {'input': '462 183 8\\n', 'output': '19\\n'}, {'input': '9230573804495452 8577408935470783 90893866\\n', 'output': '6347082\\n'}, {'input': '1 1 2\\n', 'output': '0\\n'}, {'input': '462 183 8\\n', 'output': '19\\n'}, {'input': '9999999999999999 1 1\\n', 'output': '674074074074073\\n'}, {'input': '10000000000000000 10000000000000000 1\\n', 'output': '588235294117647\\n'}, {'input': '114 5 14\\n', 'output': '6\\n'}, {'input': '10000000000000000 10000000000000000 1000000000\\n', 'output': '588235\\n'}, {'input': '10000000000000000 10000000000000000 1\\n', 'output': '588235294117647\\n'}, {'input': '462 183 8\\n', 'output': '19\\n'}, {'input': '5363062262667637 2932858345469643 449197576\\n', 'output': '746200\\n'}, {'input': '462 183 8\\n', 'output': '19\\n'}, {'input': '98 55 1\\n', 'output': '47\\n'}, {'input': '1 1000000000000000 1\\n', 'output': '0\\n'}, {'input': '10000000000000000 1 1\\n', 'output': '674074074074073\\n'}, {'input': '552719169048748 7822730034794389 374302919\\n', 'output': '92291\\n'}, {'input': '10000000000000000 1000000000000001 1000000000\\n', 'output': '625000\\n'}, {'input': '3663662721733869 4845943245608254 787880219\\n', 'output': '290626\\n'}, {'input': '6289344232651169 4170875805886064 618522710\\n', 'output': '635520\\n'}, {'input': '462 183 8\\n', 'output': '19\\n'}, {'input': '9999999999999998 1 1\\n', 'output': '674074074074072\\n'}, {'input': '1 1 1\\n', 'output': '1\\n'}, {'input': '2155990066796462 2710473050636183 563261158\\n', 'output': '239230\\n'}, {'input': '9 1 1\\n', 'output': '9\\n'}, {'input': '6895788044242644 3474119895793364 732614708\\n', 'output': '588285\\n'}, {'input': '111984789523940 8017182602114316 976839488\\n', 'output': '7164\\n'}, {'input': '1 10000000000000000 123456\\n', 'output': '0\\n'}, {'input': '1951414609070432 8979282171178729 260239468\\n', 'output': '468658\\n'}, {'input': '462 183 8\\n', 'output': '19\\n'}]}\n",
      "**********\n",
      "{'language': 'Java', 'id': 'codeforces_373_B', 'dataset': 'avatar', 'code': 'import java.io.*;\\nimport java.util.*;\\n\\npublic class codeforces_373_B {\\n    public static long ans = 0;\\n\\n    public static long get(long a) {\\n        long ret = 0;\\n        long now = 1;\\n        long t = 1;\\n        for (; ; ) {\\n            if (now * 10 > a) {\\n                ret += (a - now + 1) * t;\\n                break;\\n            }\\n            ret += now * 9 * t;\\n            now *= 10;\\n            t++;\\n        }\\n        return ret;\\n    }\\n\\n    public static long binarySearch(long k, long l, long r, long x) {\\n        if (r >= l) {\\n            long mid = l + (r - l) / 2;\\n            if (mid > ans && mid * k <= x) ans = mid;\\n\\n            if (k * mid == x) return mid;\\n\\n            if (k * mid > x) return binarySearch(k, l, mid - 1, x);\\n\\n            return binarySearch(k, mid + 1, r, x);\\n        }\\n\\n        return -1;\\n    }\\n\\n    public static BufferedReader br = new BufferedReader(new InputStreamReader(System.in));\\n    public static PrintWriter pw = new PrintWriter(System.out);\\n\\n    public static void main(String[] args) throws IOException {\\n        Scanner S = new Scanner(System.in);\\n        long gen, st, tim;\\n        gen = S.nextLong();\\n        st = S.nextLong();\\n        tim = S.nextLong();\\n        gen /= tim;\\n        long beg = st - 1, end = (long) Math.pow(10, 18);\\n        while (true) {\\n            long med = (beg + end) / 2 + 1;\\n            if (get(med) - get(st - 1) > gen) {\\n                end = med - 1;\\n            } else {\\n                beg = med;\\n            }\\n            if (beg == end) {\\n                System.out.println(beg - st + 1);\\n                break;\\n            }\\n        }\\n    }\\n}\\n', 'test_IO': [{'input': '462 183 8\\n', 'output': '19\\n'}, {'input': '121212121 3434343434 56\\n', 'output': '216450\\n'}, {'input': '3 1 4\\n', 'output': '0\\n'}, {'input': '77 7 7\\n', 'output': '7\\n'}, {'input': '1 1000000000000000 1000000000\\n', 'output': '0\\n'}, {'input': '10000000000000000 9999999999999999 1\\n', 'output': '588235294117647\\n'}, {'input': '462 183 8\\n', 'output': '19\\n'}, {'input': '9230573804495452 8577408935470783 90893866\\n', 'output': '6347082\\n'}, {'input': '1 1 2\\n', 'output': '0\\n'}, {'input': '462 183 8\\n', 'output': '19\\n'}, {'input': '9999999999999999 1 1\\n', 'output': '674074074074073\\n'}, {'input': '10000000000000000 10000000000000000 1\\n', 'output': '588235294117647\\n'}, {'input': '114 5 14\\n', 'output': '6\\n'}, {'input': '10000000000000000 10000000000000000 1000000000\\n', 'output': '588235\\n'}, {'input': '10000000000000000 10000000000000000 1\\n', 'output': '588235294117647\\n'}, {'input': '462 183 8\\n', 'output': '19\\n'}, {'input': '5363062262667637 2932858345469643 449197576\\n', 'output': '746200\\n'}, {'input': '462 183 8\\n', 'output': '19\\n'}, {'input': '98 55 1\\n', 'output': '47\\n'}, {'input': '1 1000000000000000 1\\n', 'output': '0\\n'}, {'input': '10000000000000000 1 1\\n', 'output': '674074074074073\\n'}, {'input': '552719169048748 7822730034794389 374302919\\n', 'output': '92291\\n'}, {'input': '10000000000000000 1000000000000001 1000000000\\n', 'output': '625000\\n'}, {'input': '3663662721733869 4845943245608254 787880219\\n', 'output': '290626\\n'}, {'input': '6289344232651169 4170875805886064 618522710\\n', 'output': '635520\\n'}, {'input': '462 183 8\\n', 'output': '19\\n'}, {'input': '9999999999999998 1 1\\n', 'output': '674074074074072\\n'}, {'input': '1 1 1\\n', 'output': '1\\n'}, {'input': '2155990066796462 2710473050636183 563261158\\n', 'output': '239230\\n'}, {'input': '9 1 1\\n', 'output': '9\\n'}, {'input': '6895788044242644 3474119895793364 732614708\\n', 'output': '588285\\n'}, {'input': '111984789523940 8017182602114316 976839488\\n', 'output': '7164\\n'}, {'input': '1 10000000000000000 123456\\n', 'output': '0\\n'}, {'input': '1951414609070432 8979282171178729 260239468\\n', 'output': '468658\\n'}, {'input': '462 183 8\\n', 'output': '19\\n'}]}\n",
      "**********\n"
     ]
    }
   ],
   "source": [
    "# codeforces_373_B case\n",
    "for x in dataset:\n",
    "    if x['id']==\"codeforces_373_B\":\n",
    "        print(x)\n",
    "        print(\"*\"*10)"
   ]
  },
  {
   "cell_type": "code",
   "execution_count": 27,
   "id": "cccd6b3d-e446-40b8-9853-6aeb81ab169f",
   "metadata": {},
   "outputs": [
    {
     "name": "stdout",
     "output_type": "stream",
     "text": [
      "import java.io.*;\n",
      "import java.util.*;\n",
      "\n",
      "public class codeforces_373_B {\n",
      "    public static long ans = 0;\n",
      "\n",
      "    public static long get(long a) {\n",
      "        long ret = 0;\n",
      "        long now = 1;\n",
      "        long t = 1;\n",
      "        for (; ; ) {\n",
      "            if (now * 10 > a) {\n",
      "                ret += (a - now + 1) * t;\n",
      "                break;\n",
      "            }\n",
      "            ret += now * 9 * t;\n",
      "            now *= 10;\n",
      "            t++;\n",
      "        }\n",
      "        return ret;\n",
      "    }\n",
      "\n",
      "    public static long binarySearch(long k, long l, long r, long x) {\n",
      "        if (r >= l) {\n",
      "            long mid = l + (r - l) / 2;\n",
      "            if (mid > ans && mid * k <= x) ans = mid;\n",
      "\n",
      "            if (k * mid == x) return mid;\n",
      "\n",
      "            if (k * mid > x) return binarySearch(k, l, mid - 1, x);\n",
      "\n",
      "            return binarySearch(k, mid + 1, r, x);\n",
      "        }\n",
      "\n",
      "        return -1;\n",
      "    }\n",
      "\n",
      "    public static BufferedReader br = new BufferedReader(new InputStreamReader(System.in));\n",
      "    public static PrintWriter pw = new PrintWriter(System.out);\n",
      "\n",
      "    public static void main(String[] args) throws IOException {\n",
      "        Scanner S = new Scanner(System.in);\n",
      "        long gen, st, tim;\n",
      "        gen = S.nextLong();\n",
      "        st = S.nextLong();\n",
      "        tim = S.nextLong();\n",
      "        gen /= tim;\n",
      "        long beg = st - 1, end = (long) Math.pow(10, 18);\n",
      "        while (true) {\n",
      "            long med = (beg + end) / 2 + 1;\n",
      "            if (get(med) - get(st - 1) > gen) {\n",
      "                end = med - 1;\n",
      "            } else {\n",
      "                beg = med;\n",
      "            }\n",
      "            if (beg == end) {\n",
      "                System.out.println(beg - st + 1);\n",
      "                break;\n",
      "            }\n",
      "        }\n",
      "    }\n",
      "}\n",
      "\n"
     ]
    }
   ],
   "source": [
    "# java code of above\n",
    "code =\"import java.io.*;\\nimport java.util.*;\\n\\npublic class codeforces_373_B {\\n    public static long ans = 0;\\n\\n    public static long get(long a) {\\n        long ret = 0;\\n        long now = 1;\\n        long t = 1;\\n        for (; ; ) {\\n            if (now * 10 > a) {\\n                ret += (a - now + 1) * t;\\n                break;\\n            }\\n            ret += now * 9 * t;\\n            now *= 10;\\n            t++;\\n        }\\n        return ret;\\n    }\\n\\n    public static long binarySearch(long k, long l, long r, long x) {\\n        if (r >= l) {\\n            long mid = l + (r - l) / 2;\\n            if (mid > ans && mid * k <= x) ans = mid;\\n\\n            if (k * mid == x) return mid;\\n\\n            if (k * mid > x) return binarySearch(k, l, mid - 1, x);\\n\\n            return binarySearch(k, mid + 1, r, x);\\n        }\\n\\n        return -1;\\n    }\\n\\n    public static BufferedReader br = new BufferedReader(new InputStreamReader(System.in));\\n    public static PrintWriter pw = new PrintWriter(System.out);\\n\\n    public static void main(String[] args) throws IOException {\\n        Scanner S = new Scanner(System.in);\\n        long gen, st, tim;\\n        gen = S.nextLong();\\n        st = S.nextLong();\\n        tim = S.nextLong();\\n        gen /= tim;\\n        long beg = st - 1, end = (long) Math.pow(10, 18);\\n        while (true) {\\n            long med = (beg + end) / 2 + 1;\\n            if (get(med) - get(st - 1) > gen) {\\n                end = med - 1;\\n            } else {\\n                beg = med;\\n            }\\n            if (beg == end) {\\n                System.out.println(beg - st + 1);\\n                break;\\n            }\\n        }\\n    }\\n}\\n\"\n",
    "print(code)"
   ]
  },
  {
   "cell_type": "code",
   "execution_count": null,
   "id": "e22f6df2-fe34-4da1-8e3e-40c18070c8e3",
   "metadata": {},
   "outputs": [],
   "source": [
    "# test_cases check ?"
   ]
  },
  {
   "cell_type": "code",
   "execution_count": 24,
   "id": "e848dcf4-3f80-49e1-a6e9-0894a72f4828",
   "metadata": {},
   "outputs": [
    {
     "name": "stdout",
     "output_type": "stream",
     "text": [
      "/home/cse/dual/cs5190439/.cache/huggingface/datasets\n"
     ]
    }
   ],
   "source": [
    "from datasets import config\n",
    "\n",
    "print(config.HF_DATASETS_CACHE)"
   ]
  },
  {
   "cell_type": "code",
   "execution_count": 1,
   "id": "69d872f4-56ee-4e49-98a6-baf2c156cf30",
   "metadata": {},
   "outputs": [
    {
     "data": {
      "text/plain": [
       "72"
      ]
     },
     "execution_count": 1,
     "metadata": {},
     "output_type": "execute_result"
    }
   ],
   "source": [
    "# cpus\n",
    "import multiprocessing\n",
    "multiprocessing.cpu_count()"
   ]
  },
  {
   "cell_type": "code",
   "execution_count": 1,
   "id": "3c81ea06-fbda-43b0-aecb-2346f38cca66",
   "metadata": {},
   "outputs": [
    {
     "name": "stdout",
     "output_type": "stream",
     "text": [
      "openjdk 13.0.2 2020-01-14\n",
      "OpenJDK Runtime Environment (build 13.0.2+8)\n",
      "OpenJDK 64-Bit Server VM (build 13.0.2+8, mixed mode, sharing)\n"
     ]
    }
   ],
   "source": [
    "! java --version"
   ]
  },
  {
   "cell_type": "code",
   "execution_count": null,
   "id": "707bc58e-fc97-4228-81c6-e167a3bff6fe",
   "metadata": {},
   "outputs": [],
   "source": [
    "# runs\n",
    "!python3 /home/cse/dual/cs5190439/MTP1/codetlingua/translate/translate.py --model=granite-20b-code-instruct --dataset=avatar --source_lang=Java --target_lang=Python --prompt_type=vanilla --temperature=0.2 --n_samples=10 --batch_size=10 --max_length=4090 --ngpus=2 --resume"
   ]
  },
  {
   "cell_type": "code",
   "execution_count": 12,
   "id": "83520d65-cb36-4628-aec2-371247d917d4",
   "metadata": {},
   "outputs": [
    {
     "name": "stderr",
     "output_type": "stream",
     "text": [
      "2000it [00:32, 61.62it/s]\n"
     ]
    }
   ],
   "source": [
    "%run /home/cse/dual/cs5190439/MTP1/codetlingua/tools/sanitize.py --samples=\"/scratch/cse/dual/cs5190439/MTP1/PLTranslation_data/codetlingua/autocot2d/codenet/granite-8b-code-instruct/Java/Python/temperature_0.2/\" \\\n",
    "    --source_lang=\"Java\" \\\n",
    "    --target_lang=\"Python\" \\\n",
    "    --remove_prompt \\\n",
    "    --eofs \"# <END-OF-CODE>\" \"// <END-OF-CODE>\" \"<END-OF-CODE>\" \"END-OF-CODE\" \"C++\" \"cpp\" \"c++\" \"C\" \"Python\" \"python\" \"Java\" \"java\" \"Go\" \"go\" \"Python:\" \"Java:\" \"C:\" \"C++:\" \"Go:\" \"# Answer:\" \"C Code:\" \"C++ Code:\" \"Java Code:\" \"Python Code:\" \"Go Code:\" \"Translate the above\" \\\n",
    "    \"# 2nd solution:\" \"Note\" \"Input:\" \"1.\" \"Explanation\" \"A:\" \\\n",
    "    --rm-prefix-lines '\"\"\"' \"Here\" \"[PYTHON]\" \"[JAVA]\" \"[C]\" \"[C++]\" \"[GO]\" \"The\" \"Please\" \"This\" \"That\" \"After\" \"You\" \"-\" \"In\" \"Also\" \"To\" \"Key\" \"```\" \n"
   ]
  },
  {
   "cell_type": "code",
   "execution_count": 13,
   "id": "21ea213c-2dad-4329-aee0-c307158e3be4",
   "metadata": {},
   "outputs": [
    {
     "name": "stderr",
     "output_type": "stream",
     "text": [
      "Using the latest cached version of the dataset since iidai/codenet couldn't be found on the Hugging Face Hub\n",
      "Found the latest cached dataset configuration 'default' at /home/cse/dual/cs5190439/.cache/huggingface/datasets/iidai___codenet/default/0.0.0/0ad077534e56111e1739aee057f893c5eee1b322 (last modified on Thu May 30 02:13:31 2024).\n"
     ]
    },
    {
     "name": "stdout",
     "output_type": "stream",
     "text": [
      "ProcessPoolExecutor started-\n",
      "Reading samples...\n"
     ]
    },
    {
     "name": "stderr",
     "output_type": "stream",
     "text": [
      "2000it [00:02, 805.51it/s] \n"
     ]
    },
    {
     "name": "stdout",
     "output_type": "stream",
     "text": [
      "debug n_samples 2000 remainings 2000 completion_id 200 problems 200\n",
      "completion_id[task_id] s745776078 10\n",
      "remainings-0 /scratch/cse/dual/cs5190439/MTP1/PLTranslation_data/codetlingua/autocot2d/codenet/granite-8b-code-instruct/Java/Python/temperature_0.2-sanitized/s902370101/6.py\n"
     ]
    },
    {
     "name": "stderr",
     "output_type": "stream",
     "text": [
      "100%|█████████████████████████████████████████████████████████████████████████████████████████████████████████████████████████████████████████████████████████████████████████████████████████████████████| 2000/2000 [02:37<00:00, 12.68it/s]"
     ]
    },
    {
     "name": "stdout",
     "output_type": "stream",
     "text": [
      "\u001b[31mcodenet (Java -> Python)\u001b[0m\n",
      "\u001b[31mpass @ 1 :\t0.482\u001b[0m\n",
      "\u001b[31mpass @ 5 :\t0.643\u001b[0m\n"
     ]
    },
    {
     "name": "stderr",
     "output_type": "stream",
     "text": [
      "\n"
     ]
    }
   ],
   "source": [
    "%run /home/cse/dual/cs5190439/MTP1/codetlingua/tools/evaluate.py   --samples=\"/scratch/cse/dual/cs5190439/MTP1/PLTranslation_data/codetlingua/autocot2d/codenet/granite-8b-code-instruct/Java/Python/temperature_0.2-sanitized/\" \\\n",
    "                            --dataset=\"codenet\" \\\n",
    "                            --source_lang=\"Java\" \\\n",
    "                            --target_lang=\"Python\" \\\n",
    "                            --parallel=20"
   ]
  },
  {
   "cell_type": "code",
   "execution_count": 2,
   "id": "92864109-7480-4db9-b790-fe49de122fb0",
   "metadata": {},
   "outputs": [
    {
     "name": "stderr",
     "output_type": "stream",
     "text": [
      "2500it [00:31, 79.11it/s] \n"
     ]
    }
   ],
   "source": [
    "%run /home/cse/dual/cs5190439/MTP1/codetlingua/tools/sanitize.py --samples=\"/scratch/cse/dual/cs5190439/MTP1/PLTranslation_data/codetlingua/vanilla/avatar/starcoder/Python/Java/temperature_0.2/\" \\\n",
    "    --source_lang=\"Python\" \\\n",
    "    --target_lang=\"Java\" \\\n",
    "    --remove_prompt \\\n",
    "    --eofs \"# <END-OF-CODE>\" \"// <END-OF-CODE>\" \"<END-OF-CODE>\" \"END-OF-CODE\" \"C++\" \"cpp\" \"c++\" \"Python\" \"python\" \"Java\" \"Python:\" \"Java:\" \"C:\" \"C++:\" \"Go:\" \"# Answer:\" \"C Code:\" \"C++ Code:\" \"Java Code:\" \"Python Code:\" \"Go Code:\" \"Translate the above\" \\\n",
    "    \"# 2nd solution:\" \"Note\" \"Input:\" \"Explanation\" \"A:\" \\\n",
    "    --rm-prefix-lines '\"\"\"' \"Here\" \"[PYTHON]\" \"[JAVA]\" \"[C]\" \"[C++]\" \"[GO]\" \"The\" \"Please\" \"This\" \"That\" \"After\" \"You\" \"-\" \"In\" \"Also\" \"To\" \"Key\" \"```\""
   ]
  },
  {
   "cell_type": "code",
   "execution_count": null,
   "id": "1d29ea54-679b-46b8-84ae-8f5ae06036d0",
   "metadata": {},
   "outputs": [
    {
     "name": "stderr",
     "output_type": "stream",
     "text": [
      "Using the latest cached version of the dataset since iidai/avatar couldn't be found on the Hugging Face Hub\n",
      "Found the latest cached dataset configuration 'default' at /home/cse/dual/cs5190439/.cache/huggingface/datasets/iidai___avatar/default/0.0.0/467ea00ccebd534c96faaf6d640c73720819bad6 (last modified on Thu May 30 00:34:10 2024).\n"
     ]
    },
    {
     "name": "stdout",
     "output_type": "stream",
     "text": [
      "ProcessPoolExecutor started-\n",
      "Reading samples...\n"
     ]
    },
    {
     "name": "stderr",
     "output_type": "stream",
     "text": [
      "2500it [00:05, 454.72it/s]\n"
     ]
    },
    {
     "name": "stdout",
     "output_type": "stream",
     "text": [
      "debug n_samples 2500 remainings 2500 completion_id 250 problems 250\n",
      "completion_id[task_id] atcoder_ABC134_E 10\n",
      "remainings-0 /scratch/cse/dual/cs5190439/MTP1/PLTranslation_data/codetlingua/vanilla/avatar/starcoder/Python/Java/temperature_0.2-sanitized/atcoder_ABC174_C/3.java\n"
     ]
    },
    {
     "name": "stderr",
     "output_type": "stream",
     "text": [
      " 83%|███████████████████████████████████████████████████████████████████████████▋               | 2080/2500 [10:39<11:49:51, 101.41s/it]IOStream.flush timed out\n",
      " 83%|███████████████████████████████████████████████████████████████████████████▋               | 2081/2500 [13:05<14:06:40, 121.24s/it]IOStream.flush timed out\n",
      " 86%|███████████████████████████████████████████████████████████████████████████████▉             | 2149/2500 [25:58<3:06:11, 31.83s/it]IOStream.flush timed out\n",
      " 95%|████████████████████████████████████████████████████████████████████████████████████████     | 2367/2500 [1:17:54<03:58,  1.79s/it]IOStream.flush timed out\n",
      " 98%|███████████████████████████████████████████████████████████████████████████████████████████▌ | 2461/2500 [1:20:16<00:21,  1.84it/s]IOStream.flush timed out\n",
      "100%|████████████████████████████████████████████████████████████████████████████████████████████▉| 2498/2500 [1:21:36<00:01,  1.48it/s]"
     ]
    }
   ],
   "source": [
    "%run /home/cse/dual/cs5190439/MTP1/codetlingua/tools/evaluate.py   --samples=\"/scratch/cse/dual/cs5190439/MTP1/PLTranslation_data/codetlingua/vanilla/avatar/starcoder/Python/Java/temperature_0.2-sanitized/\" \\\n",
    "                            --dataset=\"avatar\" \\\n",
    "                            --source_lang=\"Python\" \\\n",
    "                            --target_lang=\"Java\" \\\n",
    "                            --parallel=20 "
   ]
  },
  {
   "cell_type": "code",
   "execution_count": null,
   "id": "4032b903-8eb1-46ab-b072-802bcd8a4b4a",
   "metadata": {},
   "outputs": [],
   "source": [
    "# %run  P2J case"
   ]
  },
  {
   "cell_type": "code",
   "execution_count": 8,
   "id": "b2b38ca4-f23b-45cc-a619-4b01b7ce807b",
   "metadata": {},
   "outputs": [
    {
     "name": "stderr",
     "output_type": "stream",
     "text": [
      "2500it [00:30, 82.93it/s] \n"
     ]
    }
   ],
   "source": [
    "%run /home/cse/dual/cs5190439/MTP1/codetlingua/tools/sanitize.py --samples=\"/scratch/cse/dual/cs5190439/MTP1/PLTranslation_data/codetlingua/vanilla/avatar/starcoder/Python/Java/temperature_0.2/\" \\\n",
    "    --source_lang=\"Python\" \\\n",
    "    --target_lang=\"Java\" \\\n",
    "    --remove_prompt \\\n",
    "    --eofs \"# <END-OF-CODE>\" \"// <END-OF-CODE>\" \"<END-OF-CODE>\" \"END-OF-CODE\" \"C++\" \"cpp\" \"c++\" \"C\" \"Python\" \"python\" \"Java\" \"java\" \"Go\" \"go\" \"Python:\" \"Java:\" \"C:\" \"C++:\" \"Go:\" \"# Answer:\" \"C Code:\" \"C++ Code:\" \"Java Code:\" \"Python Code:\" \"Go Code:\" \"Translate the above\" \\\n",
    "    \"# 2nd solution:\" \"Note\" \"Input:\" \"1.\" \"Explanation\" \"A:\" \\\n",
    "    --rm-prefix-lines '\"\"\"' \"Here\" \"[PYTHON]\" \"[JAVA]\" \"[C]\" \"[C++]\" \"[GO]\" \"The\" \"Please\" \"This\" \"That\" \"After\" \"You\" \"-\" \"In\" \"Also\" \"To\" \"Key\" \"```\" \n"
   ]
  },
  {
   "cell_type": "code",
   "execution_count": 9,
   "id": "17c06d23-3e93-492b-9e42-3b5db9316df6",
   "metadata": {},
   "outputs": [
    {
     "name": "stdout",
     "output_type": "stream",
     "text": [
      "ProcessPoolExecutor started-\n",
      "Reading samples...\n"
     ]
    },
    {
     "name": "stderr",
     "output_type": "stream",
     "text": [
      "2500it [00:03, 713.25it/s] \n"
     ]
    },
    {
     "name": "stdout",
     "output_type": "stream",
     "text": [
      "debug n_samples 2500 remainings 2500 completion_id 250 problems 250\n",
      "completion_id[task_id] atcoder_ABC134_E 10\n",
      "remainings-0 /scratch/cse/dual/cs5190439/MTP1/PLTranslation_data/codetlingua/vanilla/avatar/starcoder/Python/Java/temperature_0.2-sanitized/codeforces_412_A/8.java\n"
     ]
    },
    {
     "name": "stderr",
     "output_type": "stream",
     "text": [
      "100%|█████████████████████████████████████████████████████████████████████████████████████████████████████████████████████████| 2500/2500 [00:35<00:00, 70.50it/s]"
     ]
    },
    {
     "name": "stdout",
     "output_type": "stream",
     "text": [
      "\u001b[31mavatar (Python -> Java)\u001b[0m\n",
      "\u001b[31mpass @ 1 :\t0.000\u001b[0m\n",
      "\u001b[31mpass @ 5 :\t0.000\u001b[0m\n"
     ]
    },
    {
     "name": "stderr",
     "output_type": "stream",
     "text": [
      "\n"
     ]
    }
   ],
   "source": [
    "\n",
    "python3 /home/cse/dual/cs5190439/MTP1/codetlingua/tools/evaluate.py   --samples=\"/scratch/cse/dual/cs5190439/MTP1/PLTranslation_data/codetlingua/vanilla/avatar/starcoder/Python/Java/temperature_0.2-sanitized/\" \\\n",
    "                            --dataset=\"avatar\" \\\n",
    "                            --source_lang=\"Python\" \\\n",
    "                            --target_lang=\"Java\" \\\n",
    "                            --parallel=20\n",
    "                            --re_run"
   ]
  },
  {
   "cell_type": "code",
   "execution_count": null,
   "id": "24a5085d-ce6e-4b6a-8493-5c3e79f2f338",
   "metadata": {},
   "outputs": [],
   "source": [
    "python3 /home/cse/dual/cs5190439/MTP1/codetlingua/tools/evaluate.py   --samples=\"/scratch/cse/dual/cs5190439/MTP1/PLTranslation_data/codetlingua/autocot2d/avatar/granite-8b-code-instruct/Java/Python/temperature_0.2-sanitized/\" \\\n",
    "                            --dataset=\"avatar\" \\\n",
    "                            --source_lang=\"Java\" \\\n",
    "                            --target_lang=\"Python\" \\\n",
    "                            --parallel=20"
   ]
  },
  {
   "cell_type": "code",
   "execution_count": 30,
   "id": "b2f5ef0e-6c03-488d-88e1-29a9b9c763cc",
   "metadata": {},
   "outputs": [
    {
     "name": "stdout",
     "output_type": "stream",
     "text": [
      "\n",
      "pbshpc: \n",
      "                                                            Req'd  Req'd   Elap\n",
      "Job ID          Username Queue    Jobname    SessID NDS TSK Memory Time  S Time\n",
      "--------------- -------- -------- ---------- ------ --- --- ------ ----- - -----\n",
      "94949.pbshpc    cs51904* scai_q   llm2_1      37411   1   2    --  24:00 R 20:37\n"
     ]
    }
   ],
   "source": [
    "!qstat -u cs5190439"
   ]
  },
  {
   "cell_type": "code",
   "execution_count": null,
   "id": "142c4927-ddfc-4024-ba09-24a78904dc15",
   "metadata": {},
   "outputs": [],
   "source": [
    "# greedy evals"
   ]
  },
  {
   "cell_type": "code",
   "execution_count": null,
   "id": "63be04e0-d75a-4bac-8075-a4ef6096dc5d",
   "metadata": {},
   "outputs": [],
   "source": [
    "!python3 /home/cse/dual/cs5190439/MTP1/codetlingua/translate/translate.py --model=granite-20b-code-instruct --dataset=avatar --source_lang=Python --target_lang=Java --prompt_type=autocot2d --temperature=0.2 --n_samples=10 --batch_size=10 --max_length=4090 --ngpus=1 --greedy --resume"
   ]
  },
  {
   "cell_type": "code",
   "execution_count": 1,
   "id": "e1f8491f-7c54-4f16-82ca-962684899aa5",
   "metadata": {},
   "outputs": [],
   "source": [
    "!module load compiler/java/JDK/13.0.2"
   ]
  },
  {
   "cell_type": "code",
   "execution_count": 3,
   "id": "efe46995-876d-4474-9595-01aa8efef6e0",
   "metadata": {},
   "outputs": [],
   "source": [
    "python3 /home/cse/dual/cs5190439/MTP1/codetlingua/clean_generations.py --source_lang Python --target_lang Java --model granite-20b-code-instruct --approach autocot2d --dataset avatar\n"
   ]
  },
  {
   "cell_type": "code",
   "execution_count": 4,
   "id": "c9743c09-e0a7-4fbf-b1ac-be3159d28864",
   "metadata": {
    "scrolled": true
   },
   "outputs": [
    {
     "name": "stdout",
     "output_type": "stream",
     "text": [
      "testing translations\n",
      "Filename:  codeforces_608_A.java\n",
      "Filename:  atcoder_ABC169_D.java\n",
      "Filename:  atcoder_ABC153_A.java\n",
      "Filename:  atcoder_AGC027_A.java\n",
      "Filename:  atcoder_ABC128_C.java\n",
      "Filename:  codeforces_216_B.java\n",
      "Filename:  atcoder_ARC102_C.java\n",
      "Filename:  atcoder_ABC137_D.java\n",
      "Filename:  codeforces_474_B.java\n",
      "Filename:  codeforces_678_B.java\n",
      "Filename:  codeforces_23_B.java\n",
      "Filename:  atcoder_ABC108_B.java\n",
      "Filename:  codeforces_351_A.java\n",
      "Filename:  codeforces_665_A.java\n",
      "Filename:  atcoder_AGC005_B.java\n",
      "Filename:  codeforces_350_B.java\n",
      "Filename:  codeforces_609_B.java\n",
      "Filename:  atcoder_ABC070_B.java\n",
      "Filename:  atcoder_AGC046_B.java\n",
      "Filename:  codeforces_272_B.java\n",
      "Filename:  codeforces_637_A.java\n",
      "Filename:  atcoder_ABC089_C.java\n",
      "Filename:  atcoder_AGC028_B.java\n",
      "Filename:  atcoder_ABC112_A.java\n",
      "Filename:  codeforces_79_A.java\n",
      "Filename:  atcoder_AGC033_A.java\n",
      "Filename:  atcoder_ABC169_E.java\n",
      "Filename:  atcoder_AGC011_C.java\n",
      "Filename:  atcoder_ABC145_E.java\n",
      "Filename:  atcoder_ABC150_D.java\n",
      "Filename:  codeforces_222_A.java\n",
      "Filename:  codeforces_203_A.java\n",
      "Filename:  atcoder_AGC025_A.java\n",
      "Filename:  codeforces_617_B.java\n",
      "Filename:  codeforces_131_B.java\n",
      "Filename:  codeforces_354_A.java\n",
      "Filename:  codeforces_327_A.java\n",
      "Filename:  atcoder_AGC012_A.java\n",
      "Filename:  codeforces_287_A.java\n",
      "Filename:  codeforces_340_A.java\n",
      "Filename:  atcoder_AGC014_D.java\n",
      "Filename:  codeforces_147_A.java\n",
      "Filename:  codeforces_302_A.java\n",
      "Filename:  atcoder_ABC123_C.java\n",
      "Filename:  codeforces_148_B.java\n",
      "Filename:  atcoder_ABC127_F.java\n",
      "Filename:  atcoder_ABC122_D.java\n",
      "Filename:  codeforces_598_A.java\n",
      "Filename:  codeforces_276_B.java\n",
      "Filename:  atcoder_ABC125_B.java\n",
      "Filename:  codeforces_231_A.java\n",
      "Filename:  codeforces_356_A.java\n",
      "Filename:  atcoder_ABC125_A.java\n",
      "Filename:  atcoder_ARC062_B.java\n",
      "Filename:  codeforces_59_A.java\n",
      "Filename:  atcoder_ABC133_E.java\n",
      "Filename:  codeforces_459_B.java\n",
      "Filename:  codeforces_11_A.java\n",
      "Filename:  atcoder_ABC042_A.java\n",
      "Filename:  codeforces_242_A.java\n",
      "Filename:  atcoder_AGC006_B.java\n",
      "Filename:  atcoder_ABC112_C.java\n",
      "Filename:  codeforces_49_A.java\n",
      "Filename:  atcoder_ABC043_B.java\n",
      "Filename:  atcoder_ABC174_E.java\n",
      "Filename:  atcoder_ABC148_F.java\n",
      "Filename:  codeforces_333_B.java\n",
      "Filename:  codeforces_678_A.java\n",
      "Filename:  atcoder_ABC145_C.java\n",
      "Filename:  atcoder_AGC017_A.java\n",
      "Filename:  atcoder_AGC024_B.java\n",
      "Filename:  codeforces_8_B.java\n",
      "Filename:  codeforces_456_A.java\n",
      "Filename:  atcoder_ABC178_B.java\n",
      "Filename:  atcoder_AGC019_A.java\n",
      "Filename:  codeforces_95_A.java\n",
      "Filename:  codeforces_514_A.java\n",
      "Filename:  atcoder_AGC010_B.java\n",
      "Filename:  atcoder_ABC143_D.java\n",
      "Filename:  atcoder_ABC150_E.java\n",
      "Filename:  atcoder_ABC104_C.java\n",
      "Filename:  atcoder_ABC155_E.java\n",
      "Filename:  atcoder_ABC171_B.java\n",
      "Filename:  codeforces_644_B.java\n",
      "Filename:  atcoder_AGC037_E.java\n",
      "Filename:  atcoder_AGC002_A.java\n",
      "Filename:  codeforces_108_B.java\n",
      "Filename:  atcoder_ABC174_C.java\n",
      "Filename:  atcoder_ABC158_A.java\n",
      "Filename:  codeforces_705_B.java\n",
      "Filename:  atcoder_ABC140_F.java\n",
      "Filename:  codeforces_32_B.java\n",
      "Filename:  atcoder_ABC126_D.java\n",
      "Filename:  codeforces_37_A.java\n",
      "Filename:  atcoder_ABC134_E.java\n",
      "Filename:  atcoder_AGC029_C.java\n",
      "Filename:  codeforces_242_B.java\n",
      "Filename:  codeforces_146_A.java\n",
      "Filename:  codeforces_154_A.java\n",
      "Filename:  atcoder_ABC168_C.java\n",
      "Filename:  atcoder_ABC107_C.java\n",
      "Filename:  atcoder_AGC003_C.java\n",
      "Filename:  atcoder_AGC006_A.java\n",
      "Filename:  codeforces_86_A.java\n",
      "Filename:  atcoder_ABC149_B.java\n",
      "Filename:  atcoder_AGC043_B.java\n",
      "Filename:  codeforces_67_B.java\n",
      "Filename:  atcoder_ABC142_A.java\n",
      "Filename:  atcoder_ABC171_E.java\n",
      "Filename:  atcoder_AGC004_B.java\n",
      "Filename:  codeforces_58_B.java\n",
      "Filename:  atcoder_ABC166_C.java\n",
      "Filename:  codeforces_299_A.java\n",
      "Filename:  codeforces_500_A.java\n",
      "Filename:  atcoder_AGC028_A.java\n",
      "Filename:  atcoder_ABC120_C.java\n",
      "Filename:  atcoder_AGC027_B.java\n",
      "Filename:  codeforces_450_A.java\n",
      "Filename:  codeforces_651_A.java\n",
      "Filename:  atcoder_ABC158_B.java\n",
      "Filename:  atcoder_ABC135_D.java\n",
      "Filename:  codeforces_579_A.java\n",
      "Filename:  atcoder_ABC127_B.java\n",
      "Filename:  atcoder_ABC143_A.java\n",
      "Filename:  codeforces_462_B.java\n",
      "Filename:  codeforces_519_B.java\n",
      "Filename:  atcoder_ABC164_D.java\n",
      "Filename:  codeforces_70_B.java\n",
      "Filename:  codeforces_106_B.java\n",
      "Filename:  atcoder_ABC162_D.java\n",
      "Filename:  codeforces_632_B.java\n",
      "Filename:  codeforces_61_B.java\n",
      "Filename:  codeforces_544_B.java\n",
      "Filename:  codeforces_55_A.java\n",
      "Filename:  codeforces_274_A.java\n",
      "Filename:  atcoder_ABC147_D.java\n",
      "Filename:  atcoder_ABC123_B.java\n",
      "Filename:  codeforces_404_A.java\n",
      "Filename:  atcoder_AGC002_B.java\n",
      "Filename:  atcoder_ABC133_B.java\n",
      "Filename:  atcoder_ABC139_B.java\n",
      "Filename:  atcoder_ABC142_C.java\n",
      "Filename:  codeforces_459_A.java\n",
      "Filename:  atcoder_ABC132_A.java\n",
      "Filename:  atcoder_ABC111_C.java\n",
      "Filename:  codeforces_296_A.java\n",
      "Filename:  codeforces_672_A.java\n",
      "Filename:  atcoder_ABC125_C.java\n",
      "Filename:  codeforces_546_A.java\n",
      "Filename:  codeforces_518_B.java\n",
      "Filename:  atcoder_ABC149_C.java\n",
      "Filename:  codeforces_7_B.java\n",
      "Filename:  atcoder_ABC118_C.java\n",
      "Filename:  atcoder_ABC129_E.java\n",
      "Filename:  codeforces_387_B.java\n",
      "Filename:  codeforces_581_B.java\n",
      "Filename:  atcoder_AGC013_A.java\n",
      "Filename:  codeforces_629_B.java\n",
      "Filename:  codeforces_171_A.java\n",
      "Filename:  atcoder_ABC106_C.java\n",
      "Filename:  atcoder_ABC154_A.java\n",
      "Filename:  codeforces_306_A.java\n",
      "Filename:  atcoder_ABC146_D.java\n",
      "Filename:  codeforces_469_A.java\n",
      "Filename:  codeforces_624_B.java\n",
      "Filename:  atcoder_AGC007_C.java\n",
      "Filename:  codeforces_268_A.java\n",
      "Filename:  codeforces_189_A.java\n",
      "Filename:  codeforces_203_B.java\n",
      "Filename:  atcoder_ABC119_B.java\n",
      "Filename:  atcoder_ABC178_A.java\n",
      "Filename:  atcoder_ABC151_A.java\n",
      "Filename:  codeforces_265_B.java\n",
      "Filename:  codeforces_653_A.java\n",
      "Filename:  atcoder_ABC152_E.java\n",
      "Filename:  codeforces_313_B.java\n",
      "Filename:  codeforces_596_B.java\n",
      "Filename:  atcoder_ABC124_C.java\n",
      "Filename:  codeforces_673_A.java\n",
      "Filename:  codeforces_282_B.java\n",
      "Filename:  codeforces_342_B.java\n",
      "Filename:  atcoder_AGC021_B.java\n",
      "Filename:  atcoder_ABC145_B.java\n",
      "Filename:  codeforces_682_B.java\n",
      "Filename:  codeforces_408_B.java\n",
      "Filename:  atcoder_ABC109_B.java\n",
      "Filename:  codeforces_25_A.java\n",
      "Filename:  codeforces_267_A.java\n",
      "Filename:  codeforces_534_B.java\n",
      "Filename:  codeforces_445_A.java\n",
      "Filename:  codeforces_373_B.java\n",
      "Filename:  atcoder_ABC164_A.java\n",
      "Filename:  atcoder_ABC169_C.java\n",
      "Filename:  codeforces_607_A.java\n",
      "Filename:  codeforces_110_B.java\n",
      "Filename:  atcoder_AGC046_A.java\n",
      "Filename:  codeforces_92_A.java\n",
      "Filename:  atcoder_ABC123_D.java\n",
      "Filename:  atcoder_ABC051_A.java\n",
      "Filename:  codeforces_622_A.java\n",
      "Filename:  atcoder_ABC122_C.java\n",
      "Filename:  codeforces_190_A.java\n",
      "Filename:  atcoder_ABC150_C.java\n",
      "Filename:  codeforces_369_B.java\n",
      "Filename:  codeforces_387_A.java\n",
      "Filename:  atcoder_ABC132_F.java\n",
      "Filename:  atcoder_ARC086_B.java\n",
      "Filename:  codeforces_30_A.java\n",
      "Filename:  codeforces_569_A.java\n",
      "Filename:  atcoder_ABC167_D.java\n",
      "Filename:  codeforces_421_A.java\n",
      "Filename:  codeforces_612_B.java\n",
      "Filename:  codeforces_621_A.java\n",
      "Filename:  codeforces_629_A.java\n",
      "Filename:  atcoder_AGC033_B.java\n",
      "Filename:  atcoder_ABC105_D.java\n",
      "Filename:  codeforces_669_A.java\n",
      "Filename:  atcoder_ABC167_C.java\n",
      "Filename:  codeforces_581_A.java\n",
      "Filename:  atcoder_AGC035_B.java\n",
      "Filename:  codeforces_397_B.java\n",
      "Filename:  codeforces_334_A.java\n",
      "Filename:  atcoder_ABC140_D.java\n",
      "Filename:  atcoder_ABC110_C.java\n",
      "Filename:  atcoder_AGC038_A.java\n",
      "Filename:  codeforces_96_B.java\n",
      "Filename:  atcoder_AGC034_B.java\n",
      "Filename:  atcoder_ABC124_A.java\n",
      "Filename:  codeforces_99_A.java\n",
      "Filename:  codeforces_583_B.java\n",
      "Filename:  codeforces_379_A.java\n",
      "Filename:  atcoder_ABC107_D.java\n",
      "Filename:  codeforces_56_B.java\n",
      "Filename:  atcoder_ABC165_C.java\n",
      "Filename:  atcoder_ABC152_C.java\n",
      "Filename:  atcoder_ABC114_C.java\n",
      "Filename:  codeforces_567_A.java\n",
      "Filename:  codeforces_400_A.java\n",
      "Filename:  codeforces_134_A.java\n",
      "Filename:  atcoder_AGC004_D.java\n",
      "Filename:  atcoder_ABC136_B.java\n",
      "Filename:  codeforces_400_B.java\n",
      "Filename:  codeforces_31_A.java\n",
      "Filename:  atcoder_ABC126_E.java\n",
      "Filename:  atcoder_ABC168_B.java\n",
      "Filename:  codeforces_55_B.java\n",
      "Filename:  codeforces_412_A.java\n",
      "Filename:  atcoder_ABC172_D.java\n",
      "Filename:  atcoder_ABC170_A.java\n",
      "Filename:  atcoder_ABC155_D.java\n",
      "Accuracy: 0.0\n"
     ]
    }
   ],
   "source": [
    "python3 /home/cse/dual/cs5190439/MTP1/codetlingua/compile_codenet.py --source_lang Python --target_lang Java --model starcoder --approach vanilla\n"
   ]
  },
  {
   "cell_type": "code",
   "execution_count": 5,
   "id": "9b029c42-2abc-4cb3-beb4-7435e74cda64",
   "metadata": {
    "scrolled": true
   },
   "outputs": [
    {
     "name": "stdout",
     "output_type": "stream",
     "text": [
      "found 200 input files with extn .java \n",
      "s210889193.java 1059\n",
      "s557080041.java 644\n",
      "s706119740.java 460\n",
      "s273727373.java 666\n",
      "s662673721.java 505\n",
      "s681170949.java 262\n",
      "s961772658.java 583\n",
      "s225615697.java 798\n",
      "s151217193.java 311\n",
      "s398580870.java 584\n",
      "s768331281.java 477\n",
      "s609392609.java 778\n",
      "s411244720.java 750\n",
      "s214672212.java 415\n",
      "s191853417.java 471\n",
      "s952264435.java 621\n",
      "s893778513.java 628\n",
      "s087080706.java 793\n",
      "s058944700.java 823\n",
      "s454986054.java 262\n",
      "s167793578.java 417\n",
      "s062747389.java 343\n",
      "s964794058.java 1107\n",
      "s122565091.java 743\n",
      "s763208424.java 671\n",
      "s269975433.java 1188\n",
      "s676839884.java 432\n",
      "s636592395.java 445\n",
      "s997947249.java 395\n",
      "s952876397.java 1033\n",
      "s615966179.java 566\n",
      "s355314304.java 363\n",
      "s353603279.java 422\n",
      "s747093551.java 755\n",
      "s539244923.java 381\n",
      "s453478465.java 445\n",
      "s419623944.java 409\n",
      "s870744379.java 353\n",
      "s504709360.java 1116\n",
      "s170274782.java 868\n",
      "s534639230.java 1109\n",
      "s975943078.java 1304\n",
      "s031459110.java 794\n",
      "s858647829.java 449\n",
      "s267172486.java 475\n",
      "s759499751.java 926\n",
      "s043174379.java 470\n",
      "s179314665.java 471\n",
      "s423256012.java 422\n",
      "s666154520.java 345\n",
      "s491954463.java 786\n",
      "s922746568.java 1151\n",
      "s636719275.java 844\n",
      "s831456551.java 372\n",
      "s759547301.java 477\n",
      "s225521100.java 938\n",
      "s331817031.java 866\n",
      "s208095748.java 510\n",
      "s091400419.java 470\n",
      "s060838372.java 681\n",
      "s708549466.java 1012\n",
      "s103029464.java 902\n",
      "s182651529.java 948\n",
      "s546174362.java 875\n",
      "s441329208.java 446\n",
      "s923405856.java 631\n",
      "s025428739.java 504\n",
      "s232279435.java 806\n",
      "s554858080.java 459\n",
      "s246930871.java 555\n",
      "s500828884.java 369\n",
      "s695100304.java 472\n",
      "s777789287.java 718\n",
      "s934308496.java 495\n",
      "s621701371.java 1217\n",
      "s146553386.java 1213\n",
      "s785944322.java 468\n",
      "s195311365.java 395\n",
      "s267613210.java 762\n",
      "s869207096.java 528\n",
      "s694958625.java 362\n",
      "s185068963.java 377\n",
      "s949655009.java 1441\n",
      "s663509070.java 973\n",
      "s048491063.java 1142\n",
      "s451465602.java 421\n",
      "s763097776.java 808\n",
      "s813548165.java 588\n",
      "s013976107.java 590\n",
      "s131946120.java 391\n",
      "s797394058.java 982\n",
      "total files with ###$  91\n"
     ]
    }
   ],
   "source": [
    "# 20b problems in evaln -EOS \n",
    "# in_folder=\"/scratch/cse/dual/cs5190439/MTP1/PLTranslation_data/codetlingua/autocot2d/codenet/granite-20b-code-instruct/Python/Java/temperature_0\"\n",
    "!python3 /home/cse/dual/cs5190439/MTP1/PLTranslationEmpirical/src/translation/custom_work.py\n",
    "# total files with ###$  91"
   ]
  },
  {
   "cell_type": "code",
   "execution_count": 8,
   "id": "039c29fa-610c-4533-abaa-ef41f82ad7f6",
   "metadata": {
    "scrolled": true
   },
   "outputs": [
    {
     "name": "stdout",
     "output_type": "stream",
     "text": [
      "found 250 input files with extn .java \n",
      "atcoder_ABC128_C.java 1601\n",
      "codeforces_216_B.java 2037\n",
      "codeforces_474_B.java 606\n",
      "codeforces_23_B.java 476\n",
      "codeforces_350_B.java 1311\n",
      "codeforces_609_B.java 1073\n",
      "atcoder_ABC070_B.java 471\n",
      "atcoder_AGC028_B.java 1629\n",
      "atcoder_ABC169_E.java 961\n",
      "atcoder_AGC011_C.java 1644\n",
      "atcoder_ABC112_C.java 1418\n",
      "atcoder_AGC017_A.java 1594\n",
      "codeforces_514_A.java 848\n",
      "atcoder_ABC171_B.java 641\n",
      "codeforces_146_A.java 988\n",
      "atcoder_AGC003_C.java 658\n",
      "atcoder_ABC149_B.java 605\n",
      "codeforces_67_B.java 777\n",
      "atcoder_ABC171_E.java 621\n",
      "codeforces_58_B.java 422\n",
      "atcoder_ABC143_A.java 410\n",
      "codeforces_462_B.java 946\n",
      "codeforces_519_B.java 1057\n",
      "codeforces_296_A.java 605\n",
      "atcoder_ABC154_A.java 621\n",
      "codeforces_203_B.java 1074\n",
      "atcoder_ABC178_A.java 469\n",
      "codeforces_25_A.java 616\n",
      "codeforces_445_A.java 851\n",
      "atcoder_ABC123_D.java 1687\n",
      "atcoder_ABC150_C.java 1134\n",
      "codeforces_387_A.java 521\n",
      "codeforces_421_A.java 893\n",
      "codeforces_612_B.java 680\n",
      "codeforces_669_A.java 274\n",
      "codeforces_581_A.java 425\n",
      "codeforces_334_A.java 448\n",
      "atcoder_AGC038_A.java 1102\n",
      "codeforces_96_B.java 820\n",
      "codeforces_55_B.java 1438\n",
      "codeforces_412_A.java 936\n",
      "atcoder_ABC155_D.java 1845\n",
      "total files with ###$  42\n"
     ]
    }
   ],
   "source": [
    "# in_folder=\"/scratch/cse/dual/cs5190439/MTP1/PLTranslation_data/codetlingua/autocot2d/avatar/granite-20b-code-instruct/Python/Java/temperature_0\"\n",
    "!python3 /home/cse/dual/cs5190439/MTP1/PLTranslationEmpirical/src/translation/custom_work.py\n",
    "# total files with ###$  42"
   ]
  },
  {
   "cell_type": "code",
   "execution_count": 7,
   "id": "b5248bef-36b7-4714-bb03-0788ec79acb8",
   "metadata": {},
   "outputs": [
    {
     "name": "stdout",
     "output_type": "stream",
     "text": [
      "found 200 input files with extn .java \n",
      "total files with ###$  0\n"
     ]
    }
   ],
   "source": [
    "# in_folder=\"/scratch/cse/dual/cs5190439/MTP1/PLTranslation_data/codetlingua/autocot2d/codenet/granite-8b-code-instruct/Python/Java/temperature_0\"\n",
    "# in starcoder also \n",
    "!python3 /home/cse/dual/cs5190439/MTP1/PLTranslationEmpirical/src/translation/custom_work.py"
   ]
  },
  {
   "cell_type": "code",
   "execution_count": 10,
   "id": "700b2c5b-fc55-4c04-b508-3dbc3415f69e",
   "metadata": {},
   "outputs": [
    {
     "name": "stdout",
     "output_type": "stream",
     "text": [
      "found 250 input files with extn .java \n",
      "atcoder_ABC166_C.java 1547\n",
      "total files with ###$  1\n"
     ]
    }
   ],
   "source": [
    "# in_folder=\"/scratch/cse/dual/cs5190439/MTP1/PLTranslation_data/codetlingua/autocot2d/avatar/starcoder/Python/Java/temperature_0\"\n",
    "!python3 /home/cse/dual/cs5190439/MTP1/PLTranslationEmpirical/src/translation/custom_work.py"
   ]
  },
  {
   "cell_type": "code",
   "execution_count": null,
   "id": "853f693f-6dec-43e3-bab2-60b9671bbfe3",
   "metadata": {},
   "outputs": [],
   "source": [
    "# results pending update in excel"
   ]
  },
  {
   "cell_type": "code",
   "execution_count": null,
   "id": "65d1a09f-4341-4a4c-b85d-a7d9d50d58c2",
   "metadata": {},
   "outputs": [],
   "source": [
    "python3 /home/cse/dual/cs5190439/MTP1/codetlingua/clean_generations.py --source_lang Python --target_lang Java --model granite-20b-code-instruct --approach vanilla --dataset avatar"
   ]
  },
  {
   "cell_type": "code",
   "execution_count": null,
   "id": "aeec8d69-e434-4a16-a343-ecbee6ad1938",
   "metadata": {},
   "outputs": [],
   "source": [
    "python3 /home/cse/dual/cs5190439/MTP1/codetlingua/compile_avatar.py --source_lang Python --target_lang Java --model granite-20b-code-instruct --approach vanilla"
   ]
  },
  {
   "cell_type": "code",
   "execution_count": null,
   "id": "4ae9f6e5-32b0-40ae-9663-293617b4bf68",
   "metadata": {},
   "outputs": [],
   "source": [
    "# whole evalns- use below command for cleaning \n",
    "# avatar P2J"
   ]
  },
  {
   "cell_type": "code",
   "execution_count": 3,
   "id": "ef40600c-2ba8-4eb3-969f-d845df26058f",
   "metadata": {},
   "outputs": [
    {
     "name": "stdout",
     "output_type": "stream",
     "text": [
      "start\n"
     ]
    }
   ],
   "source": [
    "print(\"start\")"
   ]
  },
  {
   "cell_type": "code",
   "execution_count": 1,
   "id": "9e511168-2fec-475c-831f-015c91d77019",
   "metadata": {},
   "outputs": [
    {
     "ename": "SyntaxError",
     "evalue": "cannot assign to expression (2492016424.py, line 1)",
     "output_type": "error",
     "traceback": [
      "\u001b[0;36m  Cell \u001b[0;32mIn[1], line 1\u001b[0;36m\u001b[0m\n\u001b[0;31m    python3 /home/cse/dual/cs5190439/MTP1/codetlingua/tools/sanitize.py --samples=\"/scratch/cse/dual/cs5190439/MTP1/PLTranslation_data/codetlingua/vanilla/avatar/starcoder/Python/Java/temperature_0.2/\" \\\u001b[0m\n\u001b[0m    ^\u001b[0m\n\u001b[0;31mSyntaxError\u001b[0m\u001b[0;31m:\u001b[0m cannot assign to expression\n"
     ]
    }
   ],
   "source": [
    "%run /home/cse/dual/cs5190439/MTP1/codetlingua/tools/sanitize.py --samples=\"/scratch/cse/dual/cs5190439/MTP1/PLTranslation_data/codetlingua/vanilla/avatar/starcoder/Python/Java/temperature_0.2/\" \\\n",
    "    --source_lang=\"Python\" \\\n",
    "    --target_lang=\"Java\" \\\n",
    "    --remove_prompt \\\n",
    "    --eofs \"# <END-OF-CODE>\" \"// <END-OF-CODE>\" \"<END-OF-CODE>\" \"END-OF-CODE\" \"C++\" \"cpp\" \"c++\" \"Python\" \"python\" \"Java\" \"Python:\" \"Java:\" \"C:\" \"C++:\" \"Go:\" \"# Answer:\" \"C Code:\" \"C++ Code:\" \"Java Code:\" \"Python Code:\" \"Go Code:\" \"Translate the above\" \\\n",
    "    \"# 2nd solution:\" \"Note\" \"Input:\" \"Explanation\" \"A:\" \\\n",
    "    --rm-prefix-lines '\"\"\"' \"Here\" \"[PYTHON]\" \"[JAVA]\" \"[C]\" \"[C++]\" \"[GO]\" \"The\" \"Please\" \"This\" \"That\" \"After\" \"You\" \"-\" \"In\" \"Also\" \"To\" \"Key\" \"```\""
   ]
  },
  {
   "cell_type": "code",
   "execution_count": null,
   "id": "84d321ff-fc96-4981-ad6c-6fcc09492922",
   "metadata": {},
   "outputs": [
    {
     "name": "stdout",
     "output_type": "stream",
     "text": [
      "ProcessPoolExecutor started-\n",
      "Reading samples...\n"
     ]
    },
    {
     "name": "stderr",
     "output_type": "stream",
     "text": [
      "2500it [00:15, 158.23it/s]\n"
     ]
    },
    {
     "name": "stdout",
     "output_type": "stream",
     "text": [
      "debug n_samples 2500 remainings 2500 completion_id 250 problems 250\n",
      "completion_id[task_id] atcoder_ABC146_D 10\n",
      "remainings-0 /scratch/cse/dual/cs5190439/MTP1/PLTranslation_data/codetlingua/vanilla/avatar/starcoder/Python/Java/temperature_0.2-sanitized/codeforces_459_B/4.java\n"
     ]
    },
    {
     "name": "stderr",
     "output_type": "stream",
     "text": [
      " 40%|██████████████████████████████████████████████████████████████████████████████████████▋                                                                                                                                    | 989/2500 [21:48<2:00:52,  4.80s/it]IOStream.flush timed out\n",
      "100%|████████████████████████████████████████████████████████████████████████████████████████████████████████████████████████████████████████████████████████████████████████████████████████████████████████████████████████▋| 2496/2500 [11:24:21<01:05, 16.45s/it]\n"
     ]
    }
   ],
   "source": [
    "%run /home/cse/dual/cs5190439/MTP1/codetlingua/tools/evaluate.py   --samples=\"/scratch/cse/dual/cs5190439/MTP1/PLTranslation_data/codetlingua/vanilla/avatar/starcoder/Python/Java/temperature_0.2-sanitized/\" \\\n",
    "                            --dataset=\"avatar\" \\\n",
    "                            --source_lang=\"Python\" \\\n",
    "                            --target_lang=\"Java\" \\\n",
    "                            --parallel=30"
   ]
  },
  {
   "cell_type": "code",
   "execution_count": null,
   "id": "1a71a9b2-84bf-48d5-a318-6c588873e5bd",
   "metadata": {},
   "outputs": [],
   "source": [
    "!top -u cs5190439 -b -n 1 | grep java | awk '{print $1}' | xargs kill"
   ]
  },
  {
   "cell_type": "code",
   "execution_count": 1,
   "id": "98b48c23-b73d-462e-af58-63b0156d2c38",
   "metadata": {},
   "outputs": [
    {
     "name": "stderr",
     "output_type": "stream",
     "text": [
      "2500it [00:41, 60.84it/s]\n"
     ]
    }
   ],
   "source": [
    "%run /home/cse/dual/cs5190439/MTP1/codetlingua/tools/sanitize.py --samples=\"/scratch/cse/dual/cs5190439/MTP1/PLTranslation_data/codetlingua/autocot2d/avatar/starcoder/Python/Java/temperature_0.2/\" \\\n",
    "    --source_lang=\"Python\" \\\n",
    "    --target_lang=\"Java\" \\\n",
    "    --remove_prompt \\\n",
    "    --eofs \"# <END-OF-CODE>\" \"// <END-OF-CODE>\" \"<END-OF-CODE>\" \"END-OF-CODE\" \"C++\" \"cpp\" \"c++\" \"Python\" \"python\" \"Java\" \"Python:\" \"Java:\" \"C:\" \"C++:\" \"Go:\" \"# Answer:\" \"C Code:\" \"C++ Code:\" \"Java Code:\" \"Python Code:\" \"Go Code:\" \"Translate the above\" \\\n",
    "    \"# 2nd solution:\" \"Note\" \"Input:\" \"Explanation\" \"A:\" \\\n",
    "    --rm-prefix-lines '\"\"\"' \"Here\" \"[PYTHON]\" \"[JAVA]\" \"[C]\" \"[C++]\" \"[GO]\" \"The\" \"Please\" \"This\" \"That\" \"After\" \"You\" \"-\" \"In\" \"Also\" \"To\" \"Key\" \"```\""
   ]
  },
  {
   "cell_type": "code",
   "execution_count": 8,
   "id": "45d7f3fa-add8-4357-b866-e786ae1f80a8",
   "metadata": {},
   "outputs": [
    {
     "name": "stdout",
     "output_type": "stream",
     "text": [
      "next\n"
     ]
    }
   ],
   "source": [
    "print(\"next\")"
   ]
  },
  {
   "cell_type": "code",
   "execution_count": null,
   "id": "d883c9ad-5a7a-4539-a419-6da2946f1668",
   "metadata": {},
   "outputs": [],
   "source": [
    "%run \n",
    "python3 /home/cse/dual/cs5190439/MTP1/codetlingua/tools/evaluate.py   --samples=\"/scratch/cse/dual/cs5190439/MTP1/PLTranslation_data/codetlingua/autocot2d/avatar/starcoder/Python/Java/temperature_0.2-sanitized/\" \\\n",
    "                            --dataset=\"avatar\" \\\n",
    "                            --source_lang=\"Python\" \\\n",
    "                            --target_lang=\"Java\" \\\n",
    "                            --parallel=30"
   ]
  },
  {
   "cell_type": "code",
   "execution_count": null,
   "id": "32b33090-9bc5-4e24-8658-2106e966b6b3",
   "metadata": {},
   "outputs": [],
   "source": [
    "!top -u cs5190439 -b -n 1 | grep java | awk '{print $1}' | xargs kill"
   ]
  },
  {
   "cell_type": "code",
   "execution_count": 1,
   "id": "4bb9d9dc-8209-4773-82cf-3cf152dbcd73",
   "metadata": {},
   "outputs": [
    {
     "name": "stderr",
     "output_type": "stream",
     "text": [
      "2500it [00:56, 44.57it/s]\n"
     ]
    }
   ],
   "source": [
    "%run /home/cse/dual/cs5190439/MTP1/codetlingua/tools/sanitize.py --samples=\"/scratch/cse/dual/cs5190439/MTP1/PLTranslation_data/codetlingua/autocot2d/avatar/granite-20b-code-instruct/Python/Java/temperature_0.2/\" \\\n",
    "    --source_lang=\"Python\" \\\n",
    "    --target_lang=\"Java\" \\\n",
    "    --remove_prompt \\\n",
    "    --eofs \"# <END-OF-CODE>\" \"// <END-OF-CODE>\" \"<END-OF-CODE>\" \"END-OF-CODE\" \"C++\" \"cpp\" \"c++\" \"Python\" \"python\" \"Java\" \"Python:\" \"Java:\" \"C:\" \"C++:\" \"Go:\" \"# Answer:\" \"C Code:\" \"C++ Code:\" \"Java Code:\" \"Python Code:\" \"Go Code:\" \"Translate the above\" \\\n",
    "    \"# 2nd solution:\" \"Note\" \"Input:\" \"Explanation\" \"A:\" \\\n",
    "    --rm-prefix-lines '\"\"\"' \"Here\" \"[PYTHON]\" \"[JAVA]\" \"[C]\" \"[C++]\" \"[GO]\" \"The\" \"Please\" \"This\" \"That\" \"After\" \"You\" \"-\" \"In\" \"Also\" \"To\" \"Key\" \"```\""
   ]
  },
  {
   "cell_type": "code",
   "execution_count": null,
   "id": "5bc664d3-49af-4f6c-a670-5dd46c527c13",
   "metadata": {},
   "outputs": [],
   "source": [
    "# %run -remaining\n",
    "python3 /home/cse/dual/cs5190439/MTP1/codetlingua/tools/evaluate.py   --samples=\"/scratch/cse/dual/cs5190439/MTP1/PLTranslation_data/codetlingua/autocot2d/avatar/granite-20b-code-instruct/Python/Java/temperature_0.2-sanitized/\" \\\n",
    "                            --dataset=\"avatar\" \\\n",
    "                            --source_lang=\"Python\" \\\n",
    "                            --target_lang=\"Java\" \\\n",
    "                            --parallel=30"
   ]
  },
  {
   "cell_type": "code",
   "execution_count": null,
   "id": "02e95c67-a062-4010-8ed7-6376748c1950",
   "metadata": {},
   "outputs": [],
   "source": [
    "!top -u cs5190439 -b -n 1 | grep java | awk '{print $1}' | xargs kill"
   ]
  },
  {
   "cell_type": "code",
   "execution_count": 7,
   "id": "5be9ace6-4408-463c-8738-0e93ff3e3a38",
   "metadata": {},
   "outputs": [
    {
     "name": "stderr",
     "output_type": "stream",
     "text": [
      "2500it [00:34, 71.54it/s] \n"
     ]
    }
   ],
   "source": [
    "%run /home/cse/dual/cs5190439/MTP1/codetlingua/tools/sanitize.py --samples=\"/scratch/cse/dual/cs5190439/MTP1/PLTranslation_data/codetlingua/vanilla/avatar/granite-20b-code-instruct/Python/Java/temperature_0.2/\" \\\n",
    "    --source_lang=\"Python\" \\\n",
    "    --target_lang=\"Java\" \\\n",
    "    --remove_prompt \\\n",
    "    --eofs \"# <END-OF-CODE>\" \"// <END-OF-CODE>\" \"<END-OF-CODE>\" \"END-OF-CODE\" \"C++\" \"cpp\" \"c++\" \"Python\" \"python\" \"Java\" \"Python:\" \"Java:\" \"C:\" \"C++:\" \"Go:\" \"# Answer:\" \"C Code:\" \"C++ Code:\" \"Java Code:\" \"Python Code:\" \"Go Code:\" \"Translate the above\" \\\n",
    "    \"# 2nd solution:\" \"Note\" \"Input:\" \"Explanation\" \"A:\" \\\n",
    "    --rm-prefix-lines '\"\"\"' \"Here\" \"[PYTHON]\" \"[JAVA]\" \"[C]\" \"[C++]\" \"[GO]\" \"The\" \"Please\" \"This\" \"That\" \"After\" \"You\" \"-\" \"In\" \"Also\" \"To\" \"Key\" \"```\""
   ]
  },
  {
   "cell_type": "code",
   "execution_count": null,
   "id": "211987bf-dab1-48ed-ad2f-a564ec9db770",
   "metadata": {},
   "outputs": [],
   "source": [
    "%run \n",
    "python3 /home/cse/dual/cs5190439/MTP1/codetlingua/tools/evaluate.py   --samples=\"/scratch/cse/dual/cs5190439/MTP1/PLTranslation_data/codetlingua/vanilla/avatar/granite-20b-code-instruct/Python/Java/temperature_0.2-sanitized/\" \\\n",
    "                            --dataset=\"avatar\" \\\n",
    "                            --source_lang=\"Python\" \\\n",
    "                            --target_lang=\"Java\" \\\n",
    "                            --parallel=30"
   ]
  },
  {
   "cell_type": "code",
   "execution_count": null,
   "id": "b8b85a35-5822-4d52-8c32-e66d2249d177",
   "metadata": {},
   "outputs": [],
   "source": [
    "!top -u cs5190439 -b -n 1 | grep java | awk '{print $1}' | xargs kill"
   ]
  },
  {
   "cell_type": "code",
   "execution_count": 6,
   "id": "160f2cb9-489d-4d18-a4c4-3c58f529111a",
   "metadata": {},
   "outputs": [
    {
     "name": "stderr",
     "output_type": "stream",
     "text": [
      "2500it [00:20, 122.30it/s]\n"
     ]
    }
   ],
   "source": [
    "%run /home/cse/dual/cs5190439/MTP1/codetlingua/tools/sanitize.py --samples=\"/scratch/cse/dual/cs5190439/MTP1/PLTranslation_data/codetlingua/vanilla/avatar/granite-8b-code-instruct/Python/Java/temperature_0.2/\" \\\n",
    "    --source_lang=\"Python\" \\\n",
    "    --target_lang=\"Java\" \\\n",
    "    --remove_prompt \\\n",
    "    --eofs \"# <END-OF-CODE>\" \"// <END-OF-CODE>\" \"<END-OF-CODE>\" \"END-OF-CODE\" \"C++\" \"cpp\" \"c++\" \"Python\" \"python\" \"Java\" \"Python:\" \"Java:\" \"C:\" \"C++:\" \"Go:\" \"# Answer:\" \"C Code:\" \"C++ Code:\" \"Java Code:\" \"Python Code:\" \"Go Code:\" \"Translate the above\" \\\n",
    "    \"# 2nd solution:\" \"Note\" \"Input:\" \"Explanation\" \"A:\" \\\n",
    "    --rm-prefix-lines '\"\"\"' \"Here\" \"[PYTHON]\" \"[JAVA]\" \"[C]\" \"[C++]\" \"[GO]\" \"The\" \"Please\" \"This\" \"That\" \"After\" \"You\" \"-\" \"In\" \"Also\" \"To\" \"Key\" \"```\""
   ]
  },
  {
   "cell_type": "code",
   "execution_count": null,
   "id": "d277a426-eac5-4fc2-8d2c-9c62226bcd07",
   "metadata": {},
   "outputs": [],
   "source": [
    "%run - remaining\n",
    "python3 /home/cse/dual/cs5190439/MTP1/codetlingua/tools/evaluate.py   --samples=\"/scratch/cse/dual/cs5190439/MTP1/PLTranslation_data/codetlingua/vanilla/avatar/granite-8b-code-instruct/Python/Java/temperature_0.2-sanitized/\" \\\n",
    "                            --dataset=\"avatar\" \\\n",
    "                            --source_lang=\"Python\" \\\n",
    "                            --target_lang=\"Java\" \\\n",
    "                            --parallel=30\n",
    "# 1hr 29min in  2498/2500"
   ]
  },
  {
   "cell_type": "code",
   "execution_count": null,
   "id": "e7099ea1-4fe1-4e32-8a97-f0b1cae82641",
   "metadata": {},
   "outputs": [],
   "source": [
    "!top -u cs5190439 -b -n 1 | grep java | awk '{print $1}' | xargs kill"
   ]
  },
  {
   "cell_type": "code",
   "execution_count": 5,
   "id": "cde5bef0-7b60-4129-8ce3-33e626c12c47",
   "metadata": {},
   "outputs": [
    {
     "name": "stderr",
     "output_type": "stream",
     "text": [
      "2500it [00:37, 66.42it/s] \n"
     ]
    }
   ],
   "source": [
    "%run /home/cse/dual/cs5190439/MTP1/codetlingua/tools/sanitize.py --samples=\"/scratch/cse/dual/cs5190439/MTP1/PLTranslation_data/codetlingua/autocot2d/avatar/granite-8b-code-instruct/Python/Java/temperature_0.2/\" \\\n",
    "    --source_lang=\"Python\" \\\n",
    "    --target_lang=\"Java\" \\\n",
    "    --remove_prompt \\\n",
    "    --eofs \"# <END-OF-CODE>\" \"// <END-OF-CODE>\" \"<END-OF-CODE>\" \"END-OF-CODE\" \"C++\" \"cpp\" \"c++\" \"Python\" \"python\" \"Java\" \"Python:\" \"Java:\" \"C:\" \"C++:\" \"Go:\" \"# Answer:\" \"C Code:\" \"C++ Code:\" \"Java Code:\" \"Python Code:\" \"Go Code:\" \"Translate the above\" \\\n",
    "    \"# 2nd solution:\" \"Note\" \"Input:\" \"Explanation\" \"A:\" \\\n",
    "    --rm-prefix-lines '\"\"\"' \"Here\" \"[PYTHON]\" \"[JAVA]\" \"[C]\" \"[C++]\" \"[GO]\" \"The\" \"Please\" \"This\" \"That\" \"After\" \"You\" \"-\" \"In\" \"Also\" \"To\" \"Key\" \"```\""
   ]
  },
  {
   "cell_type": "code",
   "execution_count": null,
   "id": "bbfef5fd-d453-451d-a8f3-0a7c8bb3bcf2",
   "metadata": {},
   "outputs": [],
   "source": [
    "%run -remaining\n",
    "python3 /home/cse/dual/cs5190439/MTP1/codetlingua/tools/evaluate.py   --samples=\"/scratch/cse/dual/cs5190439/MTP1/PLTranslation_data/codetlingua/autocot2d/avatar/granite-8b-code-instruct/Python/Java/temperature_0.2-sanitized/\" \\\n",
    "                            --dataset=\"avatar\" \\\n",
    "                            --source_lang=\"Python\" \\\n",
    "                            --target_lang=\"Java\" \\\n",
    "                            --parallel=30\n",
    "# 40 m in 2498/2500\n",
    "# now memory allocation problem"
   ]
  },
  {
   "cell_type": "code",
   "execution_count": null,
   "id": "cd953ba8-2b1a-4f37-a0e7-c9f10bd15666",
   "metadata": {},
   "outputs": [],
   "source": [
    "!top -u cs5190439 -b -n 1 | grep java | awk '{print $1}' | xargs kill"
   ]
  },
  {
   "cell_type": "code",
   "execution_count": null,
   "id": "071bb0b0-c7f2-4b32-bdba-64df6f6281f3",
   "metadata": {},
   "outputs": [],
   "source": [
    "# codellama-13b-instruct-hf"
   ]
  },
  {
   "cell_type": "code",
   "execution_count": 9,
   "id": "391d5685-566d-4dad-9334-fc1053759cbe",
   "metadata": {},
   "outputs": [
    {
     "name": "stderr",
     "output_type": "stream",
     "text": [
      "2500it [00:27, 89.68it/s] \n"
     ]
    }
   ],
   "source": [
    "%run /home/cse/dual/cs5190439/MTP1/codetlingua/tools/sanitize.py --samples=\"/scratch/cse/dual/cs5190439/MTP1/PLTranslation_data/codetlingua/vanilla/avatar/codellama-13b-instruct-hf/Python/Java/temperature_0.2/\" \\\n",
    "    --source_lang=\"Python\" \\\n",
    "    --target_lang=\"Java\" \\\n",
    "    --remove_prompt \\\n",
    "    --eofs \"# <END-OF-CODE>\" \"// <END-OF-CODE>\" \"<END-OF-CODE>\" \"END-OF-CODE\" \"C++\" \"cpp\" \"c++\" \"Python\" \"python\" \"Java\" \"Python:\" \"Java:\" \"C:\" \"C++:\" \"Go:\" \"# Answer:\" \"C Code:\" \"C++ Code:\" \"Java Code:\" \"Python Code:\" \"Go Code:\" \"Translate the above\" \\\n",
    "    \"# 2nd solution:\" \"Note\" \"Input:\" \"Explanation\" \"A:\" \\\n",
    "    --rm-prefix-lines '\"\"\"' \"Here\" \"[PYTHON]\" \"[JAVA]\" \"[C]\" \"[C++]\" \"[GO]\" \"The\" \"Please\" \"This\" \"That\" \"After\" \"You\" \"-\" \"In\" \"Also\" \"To\" \"Key\" \"```\""
   ]
  },
  {
   "cell_type": "code",
   "execution_count": null,
   "id": "2465e212-f484-447c-82fb-f71423ac374b",
   "metadata": {},
   "outputs": [],
   "source": [
    "%run\n",
    "python3 /home/cse/dual/cs5190439/MTP1/codetlingua/tools/evaluate.py   --samples=\"/scratch/cse/dual/cs5190439/MTP1/PLTranslation_data/codetlingua/vanilla/avatar/codellama-13b-instruct-hf/Python/Java/temperature_0.2-sanitized/\" \\\n",
    "                            --dataset=\"avatar\" \\\n",
    "                            --source_lang=\"Python\" \\\n",
    "                            --target_lang=\"Java\" \\\n",
    "                            --parallel=30\n"
   ]
  },
  {
   "cell_type": "code",
   "execution_count": 8,
   "id": "f166431b-cc89-488f-92ae-630a55793893",
   "metadata": {},
   "outputs": [
    {
     "name": "stderr",
     "output_type": "stream",
     "text": [
      "2500it [00:20, 122.02it/s]\n"
     ]
    }
   ],
   "source": [
    "# avatar J2P\n",
    "%run /home/cse/dual/cs5190439/MTP1/codetlingua/tools/sanitize.py --samples=\"/scratch/cse/dual/cs5190439/MTP1/PLTranslation_data/codetlingua/vanilla/avatar/codellama-13b-instruct-hf/Java/Python/temperature_0.2/\" \\\n",
    "    --source_lang=\"Java\" \\\n",
    "    --target_lang=\"Python\" \\\n",
    "    --remove_prompt \\\n",
    "    --eofs \"# <END-OF-CODE>\" \"// <END-OF-CODE>\" \"<END-OF-CODE>\" \"END-OF-CODE\" \"C++\" \"cpp\" \"c++\" \"Python\" \"python\" \"Java\" \"Python:\" \"Java:\" \"C:\" \"C++:\" \"Go:\" \"# Answer:\" \"C Code:\" \"C++ Code:\" \"Java Code:\" \"Python Code:\" \"Go Code:\" \"Translate the above\" \\\n",
    "    \"# 2nd solution:\" \"Note\" \"Input:\" \"Explanation\" \"A:\" \\\n",
    "    --rm-prefix-lines '\"\"\"' \"Here\" \"[PYTHON]\" \"[JAVA]\" \"[C]\" \"[C++]\" \"[GO]\" \"The\" \"Please\" \"This\" \"That\" \"After\" \"You\" \"-\" \"In\" \"Also\" \"To\" \"Key\" \"```\""
   ]
  },
  {
   "cell_type": "code",
   "execution_count": 9,
   "id": "208ed7af-f44c-41d9-b97a-2814ad4c0d48",
   "metadata": {},
   "outputs": [
    {
     "name": "stdout",
     "output_type": "stream",
     "text": [
      "ProcessPoolExecutor started-\n",
      "Reading samples...\n"
     ]
    },
    {
     "name": "stderr",
     "output_type": "stream",
     "text": [
      "2500it [00:02, 947.42it/s] \n"
     ]
    },
    {
     "name": "stdout",
     "output_type": "stream",
     "text": [
      "debug n_samples 2500 remainings 2500 completion_id 250 problems 250\n",
      "completion_id[task_id] atcoder_ABC146_D 10\n",
      "remainings-0 /scratch/cse/dual/cs5190439/MTP1/PLTranslation_data/codetlingua/vanilla/avatar/codellama-13b-instruct-hf/Java/Python/temperature_0.2-sanitized/codeforces_669_A/3.py\n"
     ]
    },
    {
     "name": "stderr",
     "output_type": "stream",
     "text": [
      "100%|█████████████████████████████████████████████████████████████████████████████████████████████████████████████████████████████████████████████████████████████████████████████████████████████████████| 2500/2500 [04:16<00:00,  9.73it/s]"
     ]
    },
    {
     "name": "stdout",
     "output_type": "stream",
     "text": [
      "\u001b[31mavatar (Java -> Python)\u001b[0m\n",
      "\u001b[31mpass @ 1 :\t0.284\u001b[0m\n",
      "\u001b[31mpass @ 5 :\t0.455\u001b[0m\n"
     ]
    },
    {
     "name": "stderr",
     "output_type": "stream",
     "text": [
      "\n"
     ]
    }
   ],
   "source": [
    "%run /home/cse/dual/cs5190439/MTP1/codetlingua/tools/evaluate.py   --samples=\"/scratch/cse/dual/cs5190439/MTP1/PLTranslation_data/codetlingua/vanilla/avatar/codellama-13b-instruct-hf/Java/Python/temperature_0.2-sanitized/\" \\\n",
    "                            --dataset=\"avatar\" \\\n",
    "                            --source_lang=\"Java\" \\\n",
    "                            --target_lang=\"Python\" \\\n",
    "                            --parallel=30"
   ]
  },
  {
   "cell_type": "code",
   "execution_count": 1,
   "id": "fba85472-8803-499c-b4d4-ade085f75a25",
   "metadata": {},
   "outputs": [
    {
     "name": "stderr",
     "output_type": "stream",
     "text": [
      "0it [00:00, ?it/s]\n"
     ]
    },
    {
     "ename": "FileNotFoundError",
     "evalue": "[Errno 2] No such file or directory: '/scratch/cse/dual/cs5190439/MTP1/PLTranslation_data/codetlingua/vanilla/codenet/codellama-13b-instruct-hf/Python/Java/temperature_0.2/'",
     "output_type": "error",
     "traceback": [
      "\u001b[0;31m---------------------------------------------------------------------------\u001b[0m",
      "\u001b[0;31mFileNotFoundError\u001b[0m                         Traceback (most recent call last)",
      "File \u001b[0;32m~/MTP1/codetlingua/tools/sanitize.py:64\u001b[0m\n\u001b[1;32m     60\u001b[0m ntotal \u001b[38;5;241m=\u001b[39m \u001b[38;5;241m0\u001b[39m\n\u001b[1;32m     62\u001b[0m new_solutions \u001b[38;5;241m=\u001b[39m []\n\u001b[0;32m---> 64\u001b[0m \u001b[38;5;28;01mfor\u001b[39;00m solution \u001b[38;5;129;01min\u001b[39;00m tqdm(load_solutions(args)):\n\u001b[1;32m     65\u001b[0m     task_id \u001b[38;5;241m=\u001b[39m solution[\u001b[38;5;124m\"\u001b[39m\u001b[38;5;124mtask_id\u001b[39m\u001b[38;5;124m\"\u001b[39m]\n\u001b[1;32m     66\u001b[0m     dbg_identifier \u001b[38;5;241m=\u001b[39m solution[\u001b[38;5;124m\"\u001b[39m\u001b[38;5;124m_identifier\u001b[39m\u001b[38;5;124m\"\u001b[39m]\n",
      "File \u001b[0;32m~/.conda/envs/pl_codelingua/lib/python3.10/site-packages/tqdm/std.py:1182\u001b[0m, in \u001b[0;36mtqdm.__iter__\u001b[0;34m(self)\u001b[0m\n\u001b[1;32m   1179\u001b[0m time \u001b[38;5;241m=\u001b[39m \u001b[38;5;28mself\u001b[39m\u001b[38;5;241m.\u001b[39m_time\n\u001b[1;32m   1181\u001b[0m \u001b[38;5;28;01mtry\u001b[39;00m:\n\u001b[0;32m-> 1182\u001b[0m     \u001b[38;5;28;01mfor\u001b[39;00m obj \u001b[38;5;129;01min\u001b[39;00m iterable:\n\u001b[1;32m   1183\u001b[0m         \u001b[38;5;28;01myield\u001b[39;00m obj\n\u001b[1;32m   1184\u001b[0m         \u001b[38;5;66;03m# Update and possibly print the progressbar.\u001b[39;00m\n\u001b[1;32m   1185\u001b[0m         \u001b[38;5;66;03m# Note: does not call self.update(1) for speed optimisation.\u001b[39;00m\n",
      "File \u001b[0;32m~/MTP1/codetlingua/tools/utils.py:50\u001b[0m, in \u001b[0;36mload_solutions\u001b[0;34m(args)\u001b[0m\n\u001b[1;32m     49\u001b[0m \u001b[38;5;28;01mdef\u001b[39;00m \u001b[38;5;21mload_solutions\u001b[39m(args) \u001b[38;5;241m-\u001b[39m\u001b[38;5;241m>\u001b[39m List[Dict]:\n\u001b[0;32m---> 50\u001b[0m     \u001b[38;5;28;01mfor\u001b[39;00m task_id \u001b[38;5;129;01min\u001b[39;00m \u001b[43mos\u001b[49m\u001b[38;5;241;43m.\u001b[39;49m\u001b[43mlistdir\u001b[49m\u001b[43m(\u001b[49m\u001b[43margs\u001b[49m\u001b[38;5;241;43m.\u001b[39;49m\u001b[43msamples\u001b[49m\u001b[43m)\u001b[49m:\n\u001b[1;32m     51\u001b[0m         task_path \u001b[38;5;241m=\u001b[39m os\u001b[38;5;241m.\u001b[39mpath\u001b[38;5;241m.\u001b[39mjoin(args\u001b[38;5;241m.\u001b[39msamples, task_id)\n\u001b[1;32m     52\u001b[0m         \u001b[38;5;28;01mif\u001b[39;00m \u001b[38;5;129;01mnot\u001b[39;00m os\u001b[38;5;241m.\u001b[39mpath\u001b[38;5;241m.\u001b[39misdir(task_path):\n",
      "\u001b[0;31mFileNotFoundError\u001b[0m: [Errno 2] No such file or directory: '/scratch/cse/dual/cs5190439/MTP1/PLTranslation_data/codetlingua/vanilla/codenet/codellama-13b-instruct-hf/Python/Java/temperature_0.2/'"
     ]
    }
   ],
   "source": [
    "# codenet\n",
    "%run /home/cse/dual/cs5190439/MTP1/codetlingua/tools/sanitize.py --samples=\"/scratch/cse/dual/cs5190439/MTP1/PLTranslation_data/codetlingua/vanilla/codenet/codellama-13b-instruct-hf/Python/Java/temperature_0.2/\" \\\n",
    "    --source_lang=\"Python\" \\\n",
    "    --target_lang=\"Java\" \\\n",
    "    --remove_prompt \\\n",
    "    --eofs \"# <END-OF-CODE>\" \"// <END-OF-CODE>\" \"<END-OF-CODE>\" \"END-OF-CODE\" \"C++\" \"cpp\" \"c++\" \"Python\" \"python\" \"Java\" \"Python:\" \"Java:\" \"C:\" \"C++:\" \"Go:\" \"# Answer:\" \"C Code:\" \"C++ Code:\" \"Java Code:\" \"Python Code:\" \"Go Code:\" \"Translate the above\" \\\n",
    "    \"# 2nd solution:\" \"Note\" \"Input:\" \"Explanation\" \"A:\" \\\n",
    "    --rm-prefix-lines '\"\"\"' \"Here\" \"[PYTHON]\" \"[JAVA]\" \"[C]\" \"[C++]\" \"[GO]\" \"The\" \"Please\" \"This\" \"That\" \"After\" \"You\" \"-\" \"In\" \"Also\" \"To\" \"Key\" \"```\""
   ]
  },
  {
   "cell_type": "code",
   "execution_count": null,
   "id": "1c3594c7-da55-4425-b3b0-eb16424a0945",
   "metadata": {},
   "outputs": [],
   "source": [
    "%run\n",
    "python3 /home/cse/dual/cs5190439/MTP1/codetlingua/tools/evaluate.py   --samples=\"/scratch/cse/dual/cs5190439/MTP1/PLTranslation_data/codetlingua/vanilla/codenet/codellama-13b-instruct-hf/Python/Java/temperature_0.2-sanitized/\" \\\n",
    "                            --dataset=\"codenet\" \\\n",
    "                            --source_lang=\"Python\" \\\n",
    "                            --target_lang=\"Java\" \\\n",
    "                            --parallel=30\n"
   ]
  },
  {
   "cell_type": "code",
   "execution_count": 2,
   "id": "6febd2da-32e7-4692-bb69-7bbf5530717e",
   "metadata": {},
   "outputs": [
    {
     "name": "stderr",
     "output_type": "stream",
     "text": [
      "2000it [00:17, 117.48it/s]\n"
     ]
    }
   ],
   "source": [
    "# codenet -J2P\n",
    "%run /home/cse/dual/cs5190439/MTP1/codetlingua/tools/sanitize.py --samples=\"/scratch/cse/dual/cs5190439/MTP1/PLTranslation_data/codetlingua/vanilla/codenet/codellama-13b-instruct-hf/Java/Python/temperature_0.2/\" \\\n",
    "    --source_lang=\"Java\" \\\n",
    "    --target_lang=\"Python\" \\\n",
    "    --remove_prompt \\\n",
    "    --eofs \"# <END-OF-CODE>\" \"// <END-OF-CODE>\" \"<END-OF-CODE>\" \"END-OF-CODE\" \"C++\" \"cpp\" \"c++\" \"Python\" \"python\" \"Java\" \"Python:\" \"Java:\" \"C:\" \"C++:\" \"Go:\" \"# Answer:\" \"C Code:\" \"C++ Code:\" \"Java Code:\" \"Python Code:\" \"Go Code:\" \"Translate the above\" \\\n",
    "    \"# 2nd solution:\" \"Note\" \"Input:\" \"Explanation\" \"A:\" \\\n",
    "    --rm-prefix-lines '\"\"\"' \"Here\" \"[PYTHON]\" \"[JAVA]\" \"[C]\" \"[C++]\" \"[GO]\" \"The\" \"Please\" \"This\" \"That\" \"After\" \"You\" \"-\" \"In\" \"Also\" \"To\" \"Key\" \"```\""
   ]
  },
  {
   "cell_type": "code",
   "execution_count": 3,
   "id": "7b00035e-6a94-432a-8ee8-2d3836f2b20b",
   "metadata": {},
   "outputs": [
    {
     "name": "stdout",
     "output_type": "stream",
     "text": [
      "ProcessPoolExecutor started-\n",
      "Reading samples...\n"
     ]
    },
    {
     "name": "stderr",
     "output_type": "stream",
     "text": [
      "2000it [00:01, 1246.62it/s]\n"
     ]
    },
    {
     "name": "stdout",
     "output_type": "stream",
     "text": [
      "debug n_samples 2000 remainings 2000 completion_id 200 problems 200\n",
      "completion_id[task_id] s821112618 10\n",
      "remainings-0 /scratch/cse/dual/cs5190439/MTP1/PLTranslation_data/codetlingua/vanilla/codenet/codellama-13b-instruct-hf/Java/Python/temperature_0.2-sanitized/s493101281/3.py\n"
     ]
    },
    {
     "name": "stderr",
     "output_type": "stream",
     "text": [
      "100%|█████████████████████████████████████████████████████████████████████████████████████████████████████████████████████████████████████████████████████████████████████████████████████████████████████| 2000/2000 [01:40<00:00, 19.98it/s]"
     ]
    },
    {
     "name": "stdout",
     "output_type": "stream",
     "text": [
      "\u001b[31mcodenet (Java -> Python)\u001b[0m\n",
      "\u001b[31mpass @ 1 :\t0.432\u001b[0m\n",
      "\u001b[31mpass @ 5 :\t0.574\u001b[0m\n"
     ]
    },
    {
     "name": "stderr",
     "output_type": "stream",
     "text": [
      "\n"
     ]
    }
   ],
   "source": [
    "%run /home/cse/dual/cs5190439/MTP1/codetlingua/tools/evaluate.py   --samples=\"/scratch/cse/dual/cs5190439/MTP1/PLTranslation_data/codetlingua/vanilla/codenet/codellama-13b-instruct-hf/Java/Python/temperature_0.2-sanitized/\" \\\n",
    "                            --dataset=\"codenet\" \\\n",
    "                            --source_lang=\"Java\" \\\n",
    "                            --target_lang=\"Python\" \\\n",
    "                            --parallel=30\n"
   ]
  },
  {
   "cell_type": "code",
   "execution_count": null,
   "id": "8d80631c-6087-4d2f-8742-3997de2a4095",
   "metadata": {},
   "outputs": [],
   "source": [
    "!top -u cs5190439 -b -n 1 | grep java | awk '{print $1}' | xargs kill"
   ]
  },
  {
   "cell_type": "code",
   "execution_count": 3,
   "id": "1d3e606c-0bcd-4787-84dd-858f3392aa7b",
   "metadata": {},
   "outputs": [
    {
     "name": "stderr",
     "output_type": "stream",
     "text": [
      "2500it [00:21, 117.79it/s]\n"
     ]
    }
   ],
   "source": [
    "%run /home/cse/dual/cs5190439/MTP1/codetlingua/tools/sanitize.py --samples=\"/scratch/cse/dual/cs5190439/MTP1/PLTranslation_data/codetlingua/autocot2d/avatar/codellama-13b-instruct-hf/Python/Java/temperature_0.2/\" \\\n",
    "    --source_lang=\"Python\" \\\n",
    "    --target_lang=\"Java\" \\\n",
    "    --remove_prompt \\\n",
    "    --eofs \"# <END-OF-CODE>\" \"// <END-OF-CODE>\" \"<END-OF-CODE>\" \"END-OF-CODE\" \"C++\" \"cpp\" \"c++\" \"Python\" \"python\" \"Java\" \"Python:\" \"Java:\" \"C:\" \"C++:\" \"Go:\" \"# Answer:\" \"C Code:\" \"C++ Code:\" \"Java Code:\" \"Python Code:\" \"Go Code:\" \"Translate the above\" \\\n",
    "    \"# 2nd solution:\" \"Note\" \"Input:\" \"Explanation\" \"A:\" \\\n",
    "    --rm-prefix-lines '\"\"\"' \"Here\" \"[PYTHON]\" \"[JAVA]\" \"[C]\" \"[C++]\" \"[GO]\" \"The\" \"Please\" \"This\" \"That\" \"After\" \"You\" \"-\" \"In\" \"Also\" \"To\" \"Key\" \"```\""
   ]
  },
  {
   "cell_type": "code",
   "execution_count": null,
   "id": "158f9b81-1838-410e-aeb2-397872bcade2",
   "metadata": {},
   "outputs": [],
   "source": [
    "%run \n",
    "python3 /home/cse/dual/cs5190439/MTP1/codetlingua/tools/evaluate.py   --samples=\"/scratch/cse/dual/cs5190439/MTP1/PLTranslation_data/codetlingua/autocot2d/avatar/codellama-13b-instruct-hf/Python/Java/temperature_0.2-sanitized/\" \\\n",
    "                            --dataset=\"avatar\" \\\n",
    "                            --source_lang=\"Python\" \\\n",
    "                            --target_lang=\"Java\" \\\n",
    "                            --parallel=30\n"
   ]
  },
  {
   "cell_type": "code",
   "execution_count": 10,
   "id": "6f090537-cfcd-40a6-9e14-f9c9dd402d50",
   "metadata": {},
   "outputs": [
    {
     "name": "stderr",
     "output_type": "stream",
     "text": [
      "2500it [00:18, 133.06it/s]\n"
     ]
    }
   ],
   "source": [
    "# avatar J2P, autocot2d\n",
    "%run /home/cse/dual/cs5190439/MTP1/codetlingua/tools/sanitize.py --samples=\"/scratch/cse/dual/cs5190439/MTP1/PLTranslation_data/codetlingua/autocot2d/avatar/codellama-13b-instruct-hf/Java/Python/temperature_0.2/\" \\\n",
    "    --source_lang=\"Java\" \\\n",
    "    --target_lang=\"Python\" \\\n",
    "    --remove_prompt \\\n",
    "    --eofs \"# <END-OF-CODE>\" \"// <END-OF-CODE>\" \"<END-OF-CODE>\" \"END-OF-CODE\" \"C++\" \"cpp\" \"c++\" \"Python\" \"python\" \"Java\" \"Python:\" \"Java:\" \"C:\" \"C++:\" \"Go:\" \"# Answer:\" \"C Code:\" \"C++ Code:\" \"Java Code:\" \"Python Code:\" \"Go Code:\" \"Translate the above\" \\\n",
    "    \"# 2nd solution:\" \"Note\" \"Input:\" \"Explanation\" \"A:\" \\\n",
    "    --rm-prefix-lines '\"\"\"' \"Here\" \"[PYTHON]\" \"[JAVA]\" \"[C]\" \"[C++]\" \"[GO]\" \"The\" \"Please\" \"This\" \"That\" \"After\" \"You\" \"-\" \"In\" \"Also\" \"To\" \"Key\" \"```\""
   ]
  },
  {
   "cell_type": "code",
   "execution_count": 11,
   "id": "9baab250-fbf9-4464-8b2c-6ab74e49d33f",
   "metadata": {},
   "outputs": [
    {
     "name": "stdout",
     "output_type": "stream",
     "text": [
      "ProcessPoolExecutor started-\n",
      "Reading samples...\n"
     ]
    },
    {
     "name": "stderr",
     "output_type": "stream",
     "text": [
      "2500it [00:04, 570.29it/s]\n"
     ]
    },
    {
     "name": "stdout",
     "output_type": "stream",
     "text": [
      "debug n_samples 2500 remainings 2500 completion_id 250 problems 250\n",
      "completion_id[task_id] atcoder_ABC146_D 10\n",
      "remainings-0 /scratch/cse/dual/cs5190439/MTP1/PLTranslation_data/codetlingua/autocot2d/avatar/codellama-13b-instruct-hf/Java/Python/temperature_0.2-sanitized/codeforces_302_A/4.py\n"
     ]
    },
    {
     "name": "stderr",
     "output_type": "stream",
     "text": [
      "100%|█████████████████████████████████████████████████████████████████████████████████████████████████████████████████████████████████████████████████████████████████████████████████████████████████████| 2500/2500 [06:11<00:00,  6.72it/s]"
     ]
    },
    {
     "name": "stdout",
     "output_type": "stream",
     "text": [
      "\u001b[31mavatar (Java -> Python)\u001b[0m\n",
      "\u001b[31mpass @ 1 :\t0.357\u001b[0m\n",
      "\u001b[31mpass @ 5 :\t0.451\u001b[0m\n"
     ]
    },
    {
     "name": "stderr",
     "output_type": "stream",
     "text": [
      "\n"
     ]
    }
   ],
   "source": [
    "%run /home/cse/dual/cs5190439/MTP1/codetlingua/tools/evaluate.py   --samples=\"/scratch/cse/dual/cs5190439/MTP1/PLTranslation_data/codetlingua/autocot2d/avatar/codellama-13b-instruct-hf/Java/Python/temperature_0.2-sanitized/\" \\\n",
    "                            --dataset=\"avatar\" \\\n",
    "                            --source_lang=\"Java\" \\\n",
    "                            --target_lang=\"Python\" \\\n",
    "                            --parallel=30"
   ]
  },
  {
   "cell_type": "code",
   "execution_count": 4,
   "id": "2249af21-2204-4f0e-87d3-aa683e7e5a97",
   "metadata": {},
   "outputs": [
    {
     "name": "stderr",
     "output_type": "stream",
     "text": [
      "0it [00:00, ?it/s]\n"
     ]
    },
    {
     "ename": "FileNotFoundError",
     "evalue": "[Errno 2] No such file or directory: '/scratch/cse/dual/cs5190439/MTP1/PLTranslation_data/codetlingua/autocot2d/codenet/codellama-13b-instruct-hf/Python/Java/temperature_0.2/'",
     "output_type": "error",
     "traceback": [
      "\u001b[0;31m---------------------------------------------------------------------------\u001b[0m",
      "\u001b[0;31mFileNotFoundError\u001b[0m                         Traceback (most recent call last)",
      "File \u001b[0;32m~/MTP1/codetlingua/tools/sanitize.py:64\u001b[0m\n\u001b[1;32m     60\u001b[0m ntotal \u001b[38;5;241m=\u001b[39m \u001b[38;5;241m0\u001b[39m\n\u001b[1;32m     62\u001b[0m new_solutions \u001b[38;5;241m=\u001b[39m []\n\u001b[0;32m---> 64\u001b[0m \u001b[38;5;28;01mfor\u001b[39;00m solution \u001b[38;5;129;01min\u001b[39;00m tqdm(load_solutions(args)):\n\u001b[1;32m     65\u001b[0m     task_id \u001b[38;5;241m=\u001b[39m solution[\u001b[38;5;124m\"\u001b[39m\u001b[38;5;124mtask_id\u001b[39m\u001b[38;5;124m\"\u001b[39m]\n\u001b[1;32m     66\u001b[0m     dbg_identifier \u001b[38;5;241m=\u001b[39m solution[\u001b[38;5;124m\"\u001b[39m\u001b[38;5;124m_identifier\u001b[39m\u001b[38;5;124m\"\u001b[39m]\n",
      "File \u001b[0;32m~/.conda/envs/pl_codelingua/lib/python3.10/site-packages/tqdm/std.py:1182\u001b[0m, in \u001b[0;36mtqdm.__iter__\u001b[0;34m(self)\u001b[0m\n\u001b[1;32m   1179\u001b[0m time \u001b[38;5;241m=\u001b[39m \u001b[38;5;28mself\u001b[39m\u001b[38;5;241m.\u001b[39m_time\n\u001b[1;32m   1181\u001b[0m \u001b[38;5;28;01mtry\u001b[39;00m:\n\u001b[0;32m-> 1182\u001b[0m     \u001b[38;5;28;01mfor\u001b[39;00m obj \u001b[38;5;129;01min\u001b[39;00m iterable:\n\u001b[1;32m   1183\u001b[0m         \u001b[38;5;28;01myield\u001b[39;00m obj\n\u001b[1;32m   1184\u001b[0m         \u001b[38;5;66;03m# Update and possibly print the progressbar.\u001b[39;00m\n\u001b[1;32m   1185\u001b[0m         \u001b[38;5;66;03m# Note: does not call self.update(1) for speed optimisation.\u001b[39;00m\n",
      "File \u001b[0;32m~/MTP1/codetlingua/tools/utils.py:50\u001b[0m, in \u001b[0;36mload_solutions\u001b[0;34m(args)\u001b[0m\n\u001b[1;32m     49\u001b[0m \u001b[38;5;28;01mdef\u001b[39;00m \u001b[38;5;21mload_solutions\u001b[39m(args) \u001b[38;5;241m-\u001b[39m\u001b[38;5;241m>\u001b[39m List[Dict]:\n\u001b[0;32m---> 50\u001b[0m     \u001b[38;5;28;01mfor\u001b[39;00m task_id \u001b[38;5;129;01min\u001b[39;00m \u001b[43mos\u001b[49m\u001b[38;5;241;43m.\u001b[39;49m\u001b[43mlistdir\u001b[49m\u001b[43m(\u001b[49m\u001b[43margs\u001b[49m\u001b[38;5;241;43m.\u001b[39;49m\u001b[43msamples\u001b[49m\u001b[43m)\u001b[49m:\n\u001b[1;32m     51\u001b[0m         task_path \u001b[38;5;241m=\u001b[39m os\u001b[38;5;241m.\u001b[39mpath\u001b[38;5;241m.\u001b[39mjoin(args\u001b[38;5;241m.\u001b[39msamples, task_id)\n\u001b[1;32m     52\u001b[0m         \u001b[38;5;28;01mif\u001b[39;00m \u001b[38;5;129;01mnot\u001b[39;00m os\u001b[38;5;241m.\u001b[39mpath\u001b[38;5;241m.\u001b[39misdir(task_path):\n",
      "\u001b[0;31mFileNotFoundError\u001b[0m: [Errno 2] No such file or directory: '/scratch/cse/dual/cs5190439/MTP1/PLTranslation_data/codetlingua/autocot2d/codenet/codellama-13b-instruct-hf/Python/Java/temperature_0.2/'"
     ]
    }
   ],
   "source": [
    "# codenet\n",
    "%run /home/cse/dual/cs5190439/MTP1/codetlingua/tools/sanitize.py --samples=\"/scratch/cse/dual/cs5190439/MTP1/PLTranslation_data/codetlingua/autocot2d/codenet/codellama-13b-instruct-hf/Python/Java/temperature_0.2/\" \\\n",
    "    --source_lang=\"Python\" \\\n",
    "    --target_lang=\"Java\" \\\n",
    "    --remove_prompt \\\n",
    "    --eofs \"# <END-OF-CODE>\" \"// <END-OF-CODE>\" \"<END-OF-CODE>\" \"END-OF-CODE\" \"C++\" \"cpp\" \"c++\" \"Python\" \"python\" \"Java\" \"Python:\" \"Java:\" \"C:\" \"C++:\" \"Go:\" \"# Answer:\" \"C Code:\" \"C++ Code:\" \"Java Code:\" \"Python Code:\" \"Go Code:\" \"Translate the above\" \\\n",
    "    \"# 2nd solution:\" \"Note\" \"Input:\" \"Explanation\" \"A:\" \\\n",
    "    --rm-prefix-lines '\"\"\"' \"Here\" \"[PYTHON]\" \"[JAVA]\" \"[C]\" \"[C++]\" \"[GO]\" \"The\" \"Please\" \"This\" \"That\" \"After\" \"You\" \"-\" \"In\" \"Also\" \"To\" \"Key\" \"```\""
   ]
  },
  {
   "cell_type": "code",
   "execution_count": null,
   "id": "456085e0-190e-4288-942e-ffb95d3ca1e1",
   "metadata": {},
   "outputs": [],
   "source": [
    "%run \n",
    "python3 /home/cse/dual/cs5190439/MTP1/codetlingua/tools/evaluate.py   --samples=\"/scratch/cse/dual/cs5190439/MTP1/PLTranslation_data/codetlingua/autocot2d/codenet/codellama-13b-instruct-hf/Python/Java/temperature_0.2-sanitized/\" \\\n",
    "                            --dataset=\"codenet\" \\\n",
    "                            --source_lang=\"Python\" \\\n",
    "                            --target_lang=\"Java\" \\\n",
    "                            --parallel=30\n"
   ]
  },
  {
   "cell_type": "code",
   "execution_count": null,
   "id": "07f7556a-acbe-4fe5-b857-5a6d470ae9d5",
   "metadata": {},
   "outputs": [],
   "source": [
    "!top -u cs5190439 -b -n 1 | grep java | awk '{print $1}' | xargs kill"
   ]
  },
  {
   "cell_type": "code",
   "execution_count": 5,
   "id": "a5e25416-80ff-4b1a-9da5-ae131cb53367",
   "metadata": {},
   "outputs": [
    {
     "name": "stderr",
     "output_type": "stream",
     "text": [
      "2000it [00:16, 122.77it/s]\n"
     ]
    }
   ],
   "source": [
    "# codenet -J2P \n",
    "%run /home/cse/dual/cs5190439/MTP1/codetlingua/tools/sanitize.py --samples=\"/scratch/cse/dual/cs5190439/MTP1/PLTranslation_data/codetlingua/autocot2d/codenet/codellama-13b-instruct-hf/Java/Python/temperature_0.2/\" \\\n",
    "    --source_lang=\"Java\" \\\n",
    "    --target_lang=\"Python\" \\\n",
    "    --remove_prompt \\\n",
    "    --eofs \"# <END-OF-CODE>\" \"// <END-OF-CODE>\" \"<END-OF-CODE>\" \"END-OF-CODE\" \"C++\" \"cpp\" \"c++\" \"Python\" \"python\" \"Java\" \"Python:\" \"Java:\" \"C:\" \"C++:\" \"Go:\" \"# Answer:\" \"C Code:\" \"C++ Code:\" \"Java Code:\" \"Python Code:\" \"Go Code:\" \"Translate the above\" \\\n",
    "    \"# 2nd solution:\" \"Note\" \"Input:\" \"Explanation\" \"A:\" \\\n",
    "    --rm-prefix-lines '\"\"\"' \"Here\" \"[PYTHON]\" \"[JAVA]\" \"[C]\" \"[C++]\" \"[GO]\" \"The\" \"Please\" \"This\" \"That\" \"After\" \"You\" \"-\" \"In\" \"Also\" \"To\" \"Key\" \"```\""
   ]
  },
  {
   "cell_type": "code",
   "execution_count": 7,
   "id": "571bd442-8dff-4a16-b311-c98922bc3b69",
   "metadata": {},
   "outputs": [
    {
     "name": "stdout",
     "output_type": "stream",
     "text": [
      "ProcessPoolExecutor started-\n",
      "Reading samples...\n"
     ]
    },
    {
     "name": "stderr",
     "output_type": "stream",
     "text": [
      "2000it [00:01, 1125.66it/s]\n"
     ]
    },
    {
     "name": "stdout",
     "output_type": "stream",
     "text": [
      "debug n_samples 2000 remainings 2000 completion_id 200 problems 200\n",
      "completion_id[task_id] s821112618 10\n",
      "remainings-0 /scratch/cse/dual/cs5190439/MTP1/PLTranslation_data/codetlingua/autocot2d/codenet/codellama-13b-instruct-hf/Java/Python/temperature_0.2-sanitized/s012761786/9.py\n"
     ]
    },
    {
     "name": "stderr",
     "output_type": "stream",
     "text": [
      "100%|█████████████████████████████████████████████████████████████████████████████████████████████████████████████████████████████████████████████████████████████████████████████████████████████████████| 2000/2000 [01:56<00:00, 17.18it/s]"
     ]
    },
    {
     "name": "stdout",
     "output_type": "stream",
     "text": [
      "\u001b[31mcodenet (Java -> Python)\u001b[0m\n",
      "\u001b[31mpass @ 1 :\t0.455\u001b[0m\n",
      "\u001b[31mpass @ 5 :\t0.561\u001b[0m\n"
     ]
    },
    {
     "name": "stderr",
     "output_type": "stream",
     "text": [
      "\n"
     ]
    }
   ],
   "source": [
    "%run /home/cse/dual/cs5190439/MTP1/codetlingua/tools/evaluate.py   --samples=\"/scratch/cse/dual/cs5190439/MTP1/PLTranslation_data/codetlingua/autocot2d/codenet/codellama-13b-instruct-hf/Java/Python/temperature_0.2-sanitized/\" \\\n",
    "                            --dataset=\"codenet\" \\\n",
    "                            --source_lang=\"Java\" \\\n",
    "                            --target_lang=\"Python\" \\\n",
    "                            --parallel=30\n"
   ]
  },
  {
   "cell_type": "code",
   "execution_count": null,
   "id": "b9ad0a35-12cd-40bc-8d39-473ef1e9c990",
   "metadata": {},
   "outputs": [],
   "source": [
    "!qdel -x 106421.pbshpc"
   ]
  },
  {
   "cell_type": "code",
   "execution_count": null,
   "id": "5ff63486-74e0-4af6-b997-6125d48016c5",
   "metadata": {},
   "outputs": [],
   "source": [
    "# %run\n",
    "python3 /home/cse/dual/cs5190439/MTP1/codetlingua/tools/evaluate.py   --samples=\"/scratch/cse/dual/cs5190439/MTP1/PLTranslation_data/codetlingua/vanilla/avatar/starcoder/Python/Java/temperature_0.2-sanitized/\" \\\n",
    "                            --dataset=\"avatar\" \\\n",
    "                            --source_lang=\"Python\" \\\n",
    "                            --target_lang=\"Java\" \\\n",
    "                            --parallel=30"
   ]
  },
  {
   "cell_type": "code",
   "execution_count": null,
   "id": "1e76d3af-426b-41d7-a647-c2d0ba247072",
   "metadata": {},
   "outputs": [],
   "source": [
    "print(\"satrt\")"
   ]
  },
  {
   "cell_type": "code",
   "execution_count": null,
   "id": "091b3c6c-3f3f-48fe-8d4d-c71c923dbe37",
   "metadata": {},
   "outputs": [],
   "source": [
    "!top -u cs5190439 -b -n 1 | grep java | awk '{print $1}' | xargs kill"
   ]
  },
  {
   "cell_type": "code",
   "execution_count": null,
   "id": "43fc9cb1-4fa6-468c-8554-d7fc6861d186",
   "metadata": {},
   "outputs": [],
   "source": [
    "#codenet"
   ]
  },
  {
   "cell_type": "code",
   "execution_count": 12,
   "id": "755d47df-5d19-4090-bc12-cb4d1c0d431d",
   "metadata": {},
   "outputs": [
    {
     "name": "stderr",
     "output_type": "stream",
     "text": [
      "2000it [00:27, 71.84it/s]\n"
     ]
    }
   ],
   "source": [
    "%run /home/cse/dual/cs5190439/MTP1/codetlingua/tools/sanitize.py --samples=\"/scratch/cse/dual/cs5190439/MTP1/PLTranslation_data/codetlingua/vanilla/codenet/starcoder/Python/Java/temperature_0.2/\" \\\n",
    "    --source_lang=\"Python\" \\\n",
    "    --target_lang=\"Java\" \\\n",
    "    --remove_prompt \\\n",
    "    --eofs \"# <END-OF-CODE>\" \"// <END-OF-CODE>\" \"<END-OF-CODE>\" \"END-OF-CODE\" \"C++\" \"cpp\" \"c++\" \"Python\" \"python\" \"Java\" \"Python:\" \"Java:\" \"C:\" \"C++:\" \"Go:\" \"# Answer:\" \"C Code:\" \"C++ Code:\" \"Java Code:\" \"Python Code:\" \"Go Code:\" \"Translate the above\" \\\n",
    "    \"# 2nd solution:\" \"Note\" \"Input:\" \"Explanation\" \"A:\" \\\n",
    "    --rm-prefix-lines '\"\"\"' \"Here\" \"[PYTHON]\" \"[JAVA]\" \"[C]\" \"[C++]\" \"[GO]\" \"The\" \"Please\" \"This\" \"That\" \"After\" \"You\" \"-\" \"In\" \"Also\" \"To\" \"Key\" \"```\""
   ]
  },
  {
   "cell_type": "code",
   "execution_count": 13,
   "id": "e3831f2b-db05-476d-8b1a-ceb435859bb4",
   "metadata": {},
   "outputs": [
    {
     "name": "stdout",
     "output_type": "stream",
     "text": [
      "ProcessPoolExecutor started-\n",
      "Reading samples...\n"
     ]
    },
    {
     "name": "stderr",
     "output_type": "stream",
     "text": [
      "2000it [00:01, 1683.33it/s]\n"
     ]
    },
    {
     "name": "stdout",
     "output_type": "stream",
     "text": [
      "debug n_samples 2000 remainings 2000 completion_id 200 problems 200\n",
      "completion_id[task_id] s607161467 10\n",
      "remainings-0 /scratch/cse/dual/cs5190439/MTP1/PLTranslation_data/codetlingua/vanilla/codenet/starcoder/Python/Java/temperature_0.2-sanitized/s269975433/2.java\n"
     ]
    },
    {
     "name": "stderr",
     "output_type": "stream",
     "text": [
      "100%|█████████████████████████████████████████████████████████████████████████████████████████████████████████████████████████| 2000/2000 [13:25<00:00,  2.48it/s]\n"
     ]
    },
    {
     "name": "stdout",
     "output_type": "stream",
     "text": [
      "\u001b[31mcodenet (Python -> Java)\u001b[0m\n",
      "\u001b[31mpass @ 1 :\t0.058\u001b[0m\n",
      "\u001b[31mpass @ 5 :\t0.090\u001b[0m\n"
     ]
    }
   ],
   "source": [
    "%run /home/cse/dual/cs5190439/MTP1/codetlingua/tools/evaluate.py   --samples=\"/scratch/cse/dual/cs5190439/MTP1/PLTranslation_data/codetlingua/vanilla/codenet/starcoder/Python/Java/temperature_0.2-sanitized/\" \\\n",
    "                            --dataset=\"codenet\" \\\n",
    "                            --source_lang=\"Python\" \\\n",
    "                            --target_lang=\"Java\" \\\n",
    "                            --parallel=30"
   ]
  },
  {
   "cell_type": "code",
   "execution_count": 7,
   "id": "d1195a70-c053-49de-8afc-d4e7549be45b",
   "metadata": {},
   "outputs": [
    {
     "name": "stderr",
     "output_type": "stream",
     "text": [
      "2000it [00:31, 63.74it/s]\n"
     ]
    }
   ],
   "source": [
    "%run /home/cse/dual/cs5190439/MTP1/codetlingua/tools/sanitize.py --samples=\"/scratch/cse/dual/cs5190439/MTP1/PLTranslation_data/codetlingua/autocot2d/codenet/starcoder/Python/Java/temperature_0.2/\" \\\n",
    "    --source_lang=\"Python\" \\\n",
    "    --target_lang=\"Java\" \\\n",
    "    --remove_prompt \\\n",
    "    --eofs \"# <END-OF-CODE>\" \"// <END-OF-CODE>\" \"<END-OF-CODE>\" \"END-OF-CODE\" \"C++\" \"cpp\" \"c++\" \"Python\" \"python\" \"Java\" \"Python:\" \"Java:\" \"C:\" \"C++:\" \"Go:\" \"# Answer:\" \"C Code:\" \"C++ Code:\" \"Java Code:\" \"Python Code:\" \"Go Code:\" \"Translate the above\" \\\n",
    "    \"# 2nd solution:\" \"Note\" \"Input:\" \"Explanation\" \"A:\" \\\n",
    "    --rm-prefix-lines '\"\"\"' \"Here\" \"[PYTHON]\" \"[JAVA]\" \"[C]\" \"[C++]\" \"[GO]\" \"The\" \"Please\" \"This\" \"That\" \"After\" \"You\" \"-\" \"In\" \"Also\" \"To\" \"Key\" \"```\""
   ]
  },
  {
   "cell_type": "code",
   "execution_count": 1,
   "id": "8769c05b-772b-4b50-a56a-5bd275b1a385",
   "metadata": {},
   "outputs": [
    {
     "name": "stdout",
     "output_type": "stream",
     "text": [
      "ProcessPoolExecutor started-\n",
      "Reading samples...\n"
     ]
    },
    {
     "name": "stderr",
     "output_type": "stream",
     "text": [
      "2000it [00:25, 79.31it/s] \n"
     ]
    },
    {
     "name": "stdout",
     "output_type": "stream",
     "text": [
      "debug n_samples 2000 remainings 2000 completion_id 200 problems 200\n",
      "completion_id[task_id] s259116349 10\n",
      "remainings-0 /scratch/cse/dual/cs5190439/MTP1/PLTranslation_data/codetlingua/autocot2d/codenet/starcoder/Python/Java/temperature_0.2-sanitized/s267613210/9.java\n"
     ]
    },
    {
     "name": "stderr",
     "output_type": "stream",
     "text": [
      "100%|████████████████████████████████████████████████████████████████████████████████████████████████████████████████████████████████████████████████████████████████████████████████████████████████████████████████████████████| 2000/2000 [09:53<00:00,  3.37it/s]\n"
     ]
    },
    {
     "name": "stdout",
     "output_type": "stream",
     "text": [
      "/scratch/cse/dual/cs5190439/MTP1/PLTranslation_data/codetlingua/autocot2d/codenet/starcoder/Python/Java/temperature_0.2-sanitized/eval_results.json already exists. Press [Y/N] to overwrite or exit...\n"
     ]
    },
    {
     "name": "stdout",
     "output_type": "stream",
     "text": [
      " Y\n"
     ]
    },
    {
     "name": "stdout",
     "output_type": "stream",
     "text": [
      "Backup /scratch/cse/dual/cs5190439/MTP1/PLTranslation_data/codetlingua/autocot2d/codenet/starcoder/Python/Java/temperature_0.2-sanitized/eval_results.json to /scratch/cse/dual/cs5190439/MTP1/PLTranslation_data/codetlingua/autocot2d/codenet/starcoder/Python/Java/temperature_0.2-sanitized/eval_results.json.bak\n",
      "\u001b[31mcodenet (Python -> Java)\u001b[0m\n",
      "\u001b[31mpass @ 1 :\t0.445\u001b[0m\n",
      "\u001b[31mpass @ 5 :\t0.552\u001b[0m\n"
     ]
    }
   ],
   "source": [
    "%run /home/cse/dual/cs5190439/MTP1/codetlingua/tools/evaluate.py   --samples=\"/scratch/cse/dual/cs5190439/MTP1/PLTranslation_data/codetlingua/autocot2d/codenet/starcoder/Python/Java/temperature_0.2-sanitized/\" \\\n",
    "                            --dataset=\"codenet\" \\\n",
    "                            --source_lang=\"Python\" \\\n",
    "                            --target_lang=\"Java\" \\\n",
    "                            --parallel=30 \\\n",
    "                            --re_run\n",
    "                            "
   ]
  },
  {
   "cell_type": "code",
   "execution_count": 2,
   "id": "acfe595b-154e-4b15-ade3-83c469414c39",
   "metadata": {},
   "outputs": [],
   "source": [
    "!top -u cs5190439 -b -n 1 | grep java | awk '{print $1}' | xargs kill"
   ]
  },
  {
   "cell_type": "code",
   "execution_count": 16,
   "id": "ccc65365-5cc5-484b-a3fc-9c8c46882467",
   "metadata": {},
   "outputs": [
    {
     "name": "stderr",
     "output_type": "stream",
     "text": [
      "2000it [00:34, 58.34it/s]\n"
     ]
    }
   ],
   "source": [
    "%run /home/cse/dual/cs5190439/MTP1/codetlingua/tools/sanitize.py --samples=\"/scratch/cse/dual/cs5190439/MTP1/PLTranslation_data/codetlingua/autocot2d/codenet/granite-20b-code-instruct/Python/Java/temperature_0.2/\" \\\n",
    "    --source_lang=\"Python\" \\\n",
    "    --target_lang=\"Java\" \\\n",
    "    --remove_prompt \\\n",
    "    --eofs \"# <END-OF-CODE>\" \"// <END-OF-CODE>\" \"<END-OF-CODE>\" \"END-OF-CODE\" \"C++\" \"cpp\" \"c++\" \"Python\" \"python\" \"Java\" \"Python:\" \"Java:\" \"C:\" \"C++:\" \"Go:\" \"# Answer:\" \"C Code:\" \"C++ Code:\" \"Java Code:\" \"Python Code:\" \"Go Code:\" \"Translate the above\" \\\n",
    "    \"# 2nd solution:\" \"Note\" \"Input:\" \"Explanation\" \"A:\" \\\n",
    "    --rm-prefix-lines '\"\"\"' \"Here\" \"[PYTHON]\" \"[JAVA]\" \"[C]\" \"[C++]\" \"[GO]\" \"The\" \"Please\" \"This\" \"That\" \"After\" \"You\" \"-\" \"In\" \"Also\" \"To\" \"Key\" \"```\""
   ]
  },
  {
   "cell_type": "code",
   "execution_count": 17,
   "id": "bbba7bc9-e3a4-4807-8097-c1c9cb963b30",
   "metadata": {},
   "outputs": [
    {
     "name": "stdout",
     "output_type": "stream",
     "text": [
      "ProcessPoolExecutor started-\n",
      "Reading samples...\n"
     ]
    },
    {
     "name": "stderr",
     "output_type": "stream",
     "text": [
      "2000it [00:02, 837.70it/s] \n"
     ]
    },
    {
     "name": "stdout",
     "output_type": "stream",
     "text": [
      "debug n_samples 2000 remainings 2000 completion_id 200 problems 200\n",
      "completion_id[task_id] s607161467 10\n",
      "remainings-0 /scratch/cse/dual/cs5190439/MTP1/PLTranslation_data/codetlingua/autocot2d/codenet/granite-20b-code-instruct/Python/Java/temperature_0.2-sanitized/s522872163/1.java\n"
     ]
    },
    {
     "name": "stderr",
     "output_type": "stream",
     "text": [
      "100%|█████████████████████████████████████████████████████████████████████████████████████████████████████████████████████████| 2000/2000 [08:31<00:00,  3.91it/s]\n"
     ]
    },
    {
     "name": "stdout",
     "output_type": "stream",
     "text": [
      "\u001b[31mcodenet (Python -> Java)\u001b[0m\n",
      "\u001b[31mpass @ 1 :\t0.472\u001b[0m\n",
      "\u001b[31mpass @ 5 :\t0.641\u001b[0m\n"
     ]
    }
   ],
   "source": [
    "%run /home/cse/dual/cs5190439/MTP1/codetlingua/tools/evaluate.py   --samples=\"/scratch/cse/dual/cs5190439/MTP1/PLTranslation_data/codetlingua/autocot2d/codenet/granite-20b-code-instruct/Python/Java/temperature_0.2-sanitized/\" \\\n",
    "                            --dataset=\"codenet\" \\\n",
    "                            --source_lang=\"Python\" \\\n",
    "                            --target_lang=\"Java\" \\\n",
    "                            --parallel=30"
   ]
  },
  {
   "cell_type": "code",
   "execution_count": 18,
   "id": "1ecc07bc-d55f-4acf-85f0-0105bf5e17d8",
   "metadata": {},
   "outputs": [
    {
     "name": "stderr",
     "output_type": "stream",
     "text": [
      "2000it [00:32, 62.11it/s]\n"
     ]
    }
   ],
   "source": [
    "%run /home/cse/dual/cs5190439/MTP1/codetlingua/tools/sanitize.py --samples=\"/scratch/cse/dual/cs5190439/MTP1/PLTranslation_data/codetlingua/vanilla/codenet/granite-20b-code-instruct/Python/Java/temperature_0.2/\" \\\n",
    "    --source_lang=\"Python\" \\\n",
    "    --target_lang=\"Java\" \\\n",
    "    --remove_prompt \\\n",
    "    --eofs \"# <END-OF-CODE>\" \"// <END-OF-CODE>\" \"<END-OF-CODE>\" \"END-OF-CODE\" \"C++\" \"cpp\" \"c++\" \"Python\" \"python\" \"Java\" \"Python:\" \"Java:\" \"C:\" \"C++:\" \"Go:\" \"# Answer:\" \"C Code:\" \"C++ Code:\" \"Java Code:\" \"Python Code:\" \"Go Code:\" \"Translate the above\" \\\n",
    "    \"# 2nd solution:\" \"Note\" \"Input:\" \"Explanation\" \"A:\" \\\n",
    "    --rm-prefix-lines '\"\"\"' \"Here\" \"[PYTHON]\" \"[JAVA]\" \"[C]\" \"[C++]\" \"[GO]\" \"The\" \"Please\" \"This\" \"That\" \"After\" \"You\" \"-\" \"In\" \"Also\" \"To\" \"Key\" \"```\""
   ]
  },
  {
   "cell_type": "code",
   "execution_count": 19,
   "id": "a92a0489-b556-41ba-ab2e-6f7d381eb61a",
   "metadata": {},
   "outputs": [
    {
     "name": "stdout",
     "output_type": "stream",
     "text": [
      "ProcessPoolExecutor started-\n",
      "Reading samples...\n"
     ]
    },
    {
     "name": "stderr",
     "output_type": "stream",
     "text": [
      "2000it [00:04, 413.23it/s]\n"
     ]
    },
    {
     "name": "stdout",
     "output_type": "stream",
     "text": [
      "debug n_samples 2000 remainings 2000 completion_id 200 problems 200\n",
      "completion_id[task_id] s607161467 10\n",
      "remainings-0 /scratch/cse/dual/cs5190439/MTP1/PLTranslation_data/codetlingua/vanilla/codenet/granite-20b-code-instruct/Python/Java/temperature_0.2-sanitized/s267172486/4.java\n"
     ]
    },
    {
     "name": "stderr",
     "output_type": "stream",
     "text": [
      "100%|█████████████████████████████████████████████████████████████████████████████████████████████████████████████████████████| 2000/2000 [03:17<00:00, 10.13it/s]"
     ]
    },
    {
     "name": "stdout",
     "output_type": "stream",
     "text": [
      "\u001b[31mcodenet (Python -> Java)\u001b[0m\n",
      "\u001b[31mpass @ 1 :\t0.701\u001b[0m\n",
      "\u001b[31mpass @ 5 :\t0.790\u001b[0m\n"
     ]
    },
    {
     "name": "stderr",
     "output_type": "stream",
     "text": [
      "\n"
     ]
    }
   ],
   "source": [
    "%run /home/cse/dual/cs5190439/MTP1/codetlingua/tools/evaluate.py   --samples=\"/scratch/cse/dual/cs5190439/MTP1/PLTranslation_data/codetlingua/vanilla/codenet/granite-20b-code-instruct/Python/Java/temperature_0.2-sanitized/\" \\\n",
    "                            --dataset=\"codenet\" \\\n",
    "                            --source_lang=\"Python\" \\\n",
    "                            --target_lang=\"Java\" \\\n",
    "                            --parallel=30"
   ]
  },
  {
   "cell_type": "code",
   "execution_count": 4,
   "id": "97cee1eb-8209-4dd1-a0ae-bb337dc7106b",
   "metadata": {},
   "outputs": [
    {
     "name": "stderr",
     "output_type": "stream",
     "text": [
      "2000it [00:12, 162.94it/s]\n"
     ]
    }
   ],
   "source": [
    "%run /home/cse/dual/cs5190439/MTP1/codetlingua/tools/sanitize.py --samples=\"/scratch/cse/dual/cs5190439/MTP1/PLTranslation_data/codetlingua/vanilla/codenet/starcoder/Python/Java/temperature_0.2/\" \\\n",
    "    --source_lang=\"Python\" \\\n",
    "    --target_lang=\"Java\" \\\n",
    "    --remove_prompt \\\n",
    "    --eofs \"# <END-OF-CODE>\" \"// <END-OF-CODE>\" \"<END-OF-CODE>\" \"END-OF-CODE\" \"C++\" \"cpp\" \"c++\" \"Python\" \"python\" \"Java\" \"Python:\" \"Java:\" \"C:\" \"C++:\" \"Go:\" \"# Answer:\" \"C Code:\" \"C++ Code:\" \"Java Code:\" \"Python Code:\" \"Go Code:\" \"Translate the above\" \\\n",
    "    \"# 2nd solution:\" \"Note\" \"Input:\" \"Explanation\" \"A:\" \\\n",
    "    --rm-prefix-lines '\"\"\"' \"Here\" \"[PYTHON]\" \"[JAVA]\" \"[C]\" \"[C++]\" \"[GO]\" \"The\" \"Please\" \"This\" \"That\" \"After\" \"You\" \"-\" \"In\" \"Also\" \"To\" \"Key\" \"```\""
   ]
  },
  {
   "cell_type": "code",
   "execution_count": 5,
   "id": "db9a9965-43e0-4050-b4fc-de0040811d7d",
   "metadata": {},
   "outputs": [
    {
     "name": "stdout",
     "output_type": "stream",
     "text": [
      "ProcessPoolExecutor started-\n",
      "Reading samples...\n"
     ]
    },
    {
     "name": "stderr",
     "output_type": "stream",
     "text": [
      "2000it [00:01, 1654.84it/s]\n"
     ]
    },
    {
     "name": "stdout",
     "output_type": "stream",
     "text": [
      "debug n_samples 2000 remainings 2000 completion_id 200 problems 200\n",
      "completion_id[task_id] s259116349 10\n",
      "remainings-0 /scratch/cse/dual/cs5190439/MTP1/PLTranslation_data/codetlingua/vanilla/codenet/starcoder/Python/Java/temperature_0.2-sanitized/s225615697/9.java\n"
     ]
    },
    {
     "name": "stderr",
     "output_type": "stream",
     "text": [
      "100%|████████████████████████████████████████████████████████████████████████████████████████████████████████████████████████████████████████████████████████████████████████████████████████████████████████████████████████████| 2000/2000 [02:53<00:00, 11.54it/s]\n"
     ]
    },
    {
     "name": "stdout",
     "output_type": "stream",
     "text": [
      "\u001b[31mcodenet (Python -> Java)\u001b[0m\n",
      "\u001b[31mpass @ 1 :\t0.081\u001b[0m\n",
      "\u001b[31mpass @ 5 :\t0.133\u001b[0m\n"
     ]
    },
    {
     "data": {
      "text/plain": [
       "'\\nProcessPoolExecutor started-\\nReading samples...\\n2000it [00:02, 706.49it/s] \\ndebug n_samples 2000 remainings 2000 completion_id 200 problems 200\\ncompletion_id[task_id] s607161467 10\\nremainings-0 /scratch/cse/dual/cs5190439/MTP1/PLTranslation_data/codetlingua/vanilla/codenet/granite-8b-code-instruct/Python/Java/temperature_0.2-sanitized/s621701371/1.java\\n100%|█████████████████████████████████████████████████████████████████████████████████████████████████████████████████████████| 2000/2000 [03:25<00:00,  9.74it/s]\\ncodenet (Python -> Java)\\npass @ 1 :\\t0.612\\npass @ 5 :\\t0.759'"
      ]
     },
     "execution_count": 5,
     "metadata": {},
     "output_type": "execute_result"
    }
   ],
   "source": [
    "%run /home/cse/dual/cs5190439/MTP1/codetlingua/tools/evaluate.py   --samples=\"/scratch/cse/dual/cs5190439/MTP1/PLTranslation_data/codetlingua/vanilla/codenet/starcoder/Python/Java/temperature_0.2-sanitized/\" \\\n",
    "                            --dataset=\"codenet\" \\\n",
    "                            --source_lang=\"Python\" \\\n",
    "                            --target_lang=\"Java\" \\\n",
    "                            --parallel=30\n",
    "'''\n",
    "ProcessPoolExecutor started-\n",
    "Reading samples...\n",
    "2000it [00:02, 706.49it/s] \n",
    "debug n_samples 2000 remainings 2000 completion_id 200 problems 200\n",
    "completion_id[task_id] s607161467 10\n",
    "remainings-0 /scratch/cse/dual/cs5190439/MTP1/PLTranslation_data/codetlingua/vanilla/codenet/granite-8b-code-instruct/Python/Java/temperature_0.2-sanitized/s621701371/1.java\n",
    "100%|█████████████████████████████████████████████████████████████████████████████████████████████████████████████████████████| 2000/2000 [03:25<00:00,  9.74it/s]\n",
    "codenet (Python -> Java)\n",
    "pass @ 1 :\t0.612\n",
    "pass @ 5 :\t0.759'''"
   ]
  },
  {
   "cell_type": "code",
   "execution_count": 1,
   "id": "53550a79-1229-4431-b6a6-3a6ad5e78c2d",
   "metadata": {},
   "outputs": [
    {
     "name": "stderr",
     "output_type": "stream",
     "text": [
      "2000it [00:36, 54.51it/s]\n"
     ]
    }
   ],
   "source": [
    "%run /home/cse/dual/cs5190439/MTP1/codetlingua/tools/sanitize.py --samples=\"/scratch/cse/dual/cs5190439/MTP1/PLTranslation_data/codetlingua/autocot2d/codenet/granite-8b-code-instruct/Python/Java/temperature_0.2/\" \\\n",
    "    --source_lang=\"Python\" \\\n",
    "    --target_lang=\"Java\" \\\n",
    "    --remove_prompt \\\n",
    "    --eofs \"# <END-OF-CODE>\" \"// <END-OF-CODE>\" \"<END-OF-CODE>\" \"END-OF-CODE\" \"C++\" \"cpp\" \"c++\" \"Python\" \"python\" \"Java\" \"Python:\" \"Java:\" \"C:\" \"C++:\" \"Go:\" \"# Answer:\" \"C Code:\" \"C++ Code:\" \"Java Code:\" \"Python Code:\" \"Go Code:\" \"Translate the above\" \\\n",
    "    \"# 2nd solution:\" \"Note\" \"Input:\" \"Explanation\" \"A:\" \\\n",
    "    --rm-prefix-lines '\"\"\"' \"Here\" \"[PYTHON]\" \"[JAVA]\" \"[C]\" \"[C++]\" \"[GO]\" \"The\" \"Please\" \"This\" \"That\" \"After\" \"You\" \"-\" \"In\" \"Also\" \"To\" \"Key\" \"```\""
   ]
  },
  {
   "cell_type": "code",
   "execution_count": null,
   "id": "20f96ac5-7ef1-42aa-aeb2-8463c718050e",
   "metadata": {},
   "outputs": [],
   "source": [
    "%run /home/cse/dual/cs5190439/MTP1/codetlingua/tools/evaluate.py   --samples=\"/scratch/cse/dual/cs5190439/MTP1/PLTranslation_data/codetlingua/autocot2d/codenet/granite-8b-code-instruct/Python/Java/temperature_0.2-sanitized/\" \\\n",
    "                            --dataset=\"codenet\" \\\n",
    "                            --source_lang=\"Python\" \\\n",
    "                            --target_lang=\"Java\" \\\n",
    "                            --parallel=30"
   ]
  },
  {
   "cell_type": "code",
   "execution_count": null,
   "id": "9a2790da-2a7d-4445-827a-2ec2347d0774",
   "metadata": {},
   "outputs": [],
   "source": [
    "# avatar"
   ]
  },
  {
   "cell_type": "code",
   "execution_count": 3,
   "id": "f053da38-5782-41d1-b000-b4cde99dbd94",
   "metadata": {},
   "outputs": [
    {
     "name": "stderr",
     "output_type": "stream",
     "text": [
      "2500it [00:16, 153.74it/s]\n"
     ]
    }
   ],
   "source": [
    "%run /home/cse/dual/cs5190439/MTP1/codetlingua/tools/sanitize.py --samples=\"/scratch/cse/dual/cs5190439/MTP1/PLTranslation_data/codetlingua/vanilla/avatar/starcoder/Python/Java/temperature_0.2/\" \\\n",
    "    --source_lang=\"Python\" \\\n",
    "    --target_lang=\"Java\" \\\n",
    "    --remove_prompt \\\n",
    "    --eofs \"# <END-OF-CODE>\" \"// <END-OF-CODE>\" \"<END-OF-CODE>\" \"END-OF-CODE\" \"C++\" \"cpp\" \"c++\" \"Python\" \"python\" \"Java\" \"Python:\" \"Java:\" \"C:\" \"C++:\" \"Go:\" \"# Answer:\" \"C Code:\" \"C++ Code:\" \"Java Code:\" \"Python Code:\" \"Go Code:\" \"Translate the above\" \\\n",
    "    \"# 2nd solution:\" \"Note\" \"Input:\" \"Explanation\" \"A:\" \\\n",
    "    --rm-prefix-lines '\"\"\"' \"Here\" \"[PYTHON]\" \"[JAVA]\" \"[C]\" \"[C++]\" \"[GO]\" \"The\" \"Please\" \"This\" \"That\" \"After\" \"You\" \"-\" \"In\" \"Also\" \"To\" \"Key\" \"```\""
   ]
  },
  {
   "cell_type": "code",
   "execution_count": null,
   "id": "acb047f4-90df-4580-a9ba-87e7834c5ce8",
   "metadata": {},
   "outputs": [
    {
     "name": "stdout",
     "output_type": "stream",
     "text": [
      "ProcessPoolExecutor started-\n",
      "Reading samples...\n"
     ]
    },
    {
     "name": "stderr",
     "output_type": "stream",
     "text": [
      "2500it [00:15, 163.77it/s]\n"
     ]
    },
    {
     "name": "stdout",
     "output_type": "stream",
     "text": [
      "debug n_samples 2500 remainings 2500 completion_id 250 problems 250\n",
      "completion_id[task_id] atcoder_ABC146_D 10\n",
      "remainings-0 /scratch/cse/dual/cs5190439/MTP1/PLTranslation_data/codetlingua/vanilla/avatar/starcoder/Python/Java/temperature_0.2-sanitized/codeforces_450_A/3.java\n"
     ]
    },
    {
     "name": "stderr",
     "output_type": "stream",
     "text": [
      " 33%|████████████████████████████████████████████████████████████████████████▎                                                                                                                                                  | 825/2500 [08:44<7:21:03, 15.80s/it]IOStream.flush timed out\n",
      "100%|█████████████████████████████████████████████████████████████████████████████████████████████████████████████████████████████████████████████████████████████████████████████████████████████████████████████████████████▊| 2498/2500 [2:07:32<00:06,  3.06s/it]\n"
     ]
    }
   ],
   "source": [
    "%run /home/cse/dual/cs5190439/MTP1/codetlingua/tools/evaluate.py   --samples=\"/scratch/cse/dual/cs5190439/MTP1/PLTranslation_data/codetlingua/vanilla/avatar/starcoder/Python/Java/temperature_0.2-sanitized/\" \\\n",
    "                            --dataset=\"avatar\" \\\n",
    "                            --source_lang=\"Python\" \\\n",
    "                            --target_lang=\"Java\" \\\n",
    "                            --parallel=30\n",
    "# getting stuck"
   ]
  },
  {
   "cell_type": "code",
   "execution_count": 1,
   "id": "51c9f7d8-d6ea-4664-a4be-df4ea08ddd3d",
   "metadata": {},
   "outputs": [
    {
     "name": "stdout",
     "output_type": "stream",
     "text": [
      "ProcessPoolExecutor started-\n",
      "Reading samples...\n"
     ]
    },
    {
     "name": "stderr",
     "output_type": "stream",
     "text": [
      "2500it [00:17, 140.64it/s]\n"
     ]
    },
    {
     "name": "stdout",
     "output_type": "stream",
     "text": [
      "debug n_samples 2500 remainings 2500 completion_id 250 problems 250\n",
      "completion_id[task_id] atcoder_ABC146_D 10\n",
      "remainings-0 /scratch/cse/dual/cs5190439/MTP1/PLTranslation_data/codetlingua/vanilla/avatar/starcoder/Python/Java/temperature_0.2-sanitized/atcoder_ABC124_A/6.java\n"
     ]
    },
    {
     "name": "stderr",
     "output_type": "stream",
     "text": [
      " 31%|████████████████████████████████████████████████████████████████████▎                                                                                                                                                        | 773/2500 [01:15<02:15, 12.73it/s]IOStream.flush timed out\n",
      " 65%|██████████████████████████████████████████████████████████████████████████████████████████████████████████████████████████████████████████████▎                                                                           | 1632/2500 [32:28<1:49:23,  7.56s/it]IOStream.flush timed out\n",
      "100%|████████████████████████████████████████████████████████████████████████████████████████████████████████████████████████████████████████████████████████████████████████████████████████████████████████████████████████████| 2500/2500 [39:56<00:00,  1.04it/s]\n"
     ]
    },
    {
     "name": "stdout",
     "output_type": "stream",
     "text": [
      "\u001b[31mavatar (Python -> Java)\u001b[0m\n",
      "\u001b[31mpass @ 1 :\t0.059\u001b[0m\n",
      "\u001b[31mpass @ 5 :\t0.090\u001b[0m\n"
     ]
    }
   ],
   "source": [
    "%run /home/cse/dual/cs5190439/MTP1/codetlingua/tools/evaluate.py   --samples=\"/scratch/cse/dual/cs5190439/MTP1/PLTranslation_data/codetlingua/vanilla/avatar/starcoder/Python/Java/temperature_0.2-sanitized/\" \\\n",
    "                            --dataset=\"avatar\" \\\n",
    "                            --source_lang=\"Python\" \\\n",
    "                            --target_lang=\"Java\" \\\n",
    "                            --parallel=30\n",
    "# 50% -38mins \n",
    "# 100% -48mins"
   ]
  },
  {
   "cell_type": "code",
   "execution_count": null,
   "id": "bce9a0a2-d785-4a63-99fe-802b86156112",
   "metadata": {},
   "outputs": [],
   "source": [
    "!top -u cs5190439 -b -n 1 | grep java | awk '{print $1}' | xargs kill"
   ]
  },
  {
   "cell_type": "code",
   "execution_count": null,
   "id": "3e280f69-c240-46e5-bb55-85f926941701",
   "metadata": {},
   "outputs": [],
   "source": [
    "print(\"fine\")"
   ]
  },
  {
   "cell_type": "code",
   "execution_count": null,
   "id": "18b8e117-187d-4225-ba03-5053fc19f74e",
   "metadata": {},
   "outputs": [],
   "source": [
    "print(\"ok\")"
   ]
  },
  {
   "cell_type": "code",
   "execution_count": null,
   "id": "d482ffb0-f7d4-4067-baf0-54a157fb5750",
   "metadata": {},
   "outputs": [],
   "source": [
    "# Iostream flush out ?"
   ]
  },
  {
   "cell_type": "code",
   "execution_count": null,
   "id": "b1e5992f-c728-4ec0-8fc6-b9bbb39601c2",
   "metadata": {},
   "outputs": [],
   "source": [
    "# 20th"
   ]
  },
  {
   "cell_type": "code",
   "execution_count": 1,
   "id": "2308159d-654c-43f6-a4aa-edd7c3e8d6dc",
   "metadata": {
    "scrolled": true
   },
   "outputs": [
    {
     "name": "stdout",
     "output_type": "stream",
     "text": [
      "/home/cse/dual/cs5190439/.conda/envs/pl_codelingua/lib/python3.10/site-packages/transformers/utils/hub.py:124: FutureWarning: Using `TRANSFORMERS_CACHE` is deprecated and will be removed in v5 of Transformers. Use `HF_HOME` instead.\n",
      "  warnings.warn(\n",
      "Initializing a decoder model: starcoder ...\n",
      "/home/cse/dual/cs5190439/.conda/envs/pl_codelingua/lib/python3.10/site-packages/transformers/models/auto/tokenization_auto.py:767: FutureWarning: The `use_auth_token` argument is deprecated and will be removed in v5 of Transformers. Please use `token` instead.\n",
      "  warnings.warn(\n",
      "/home/cse/dual/cs5190439/.conda/envs/pl_codelingua/lib/python3.10/site-packages/transformers/models/auto/auto_factory.py:468: FutureWarning: The `use_auth_token` argument is deprecated and will be removed in v5 of Transformers. Please use `token` instead.\n",
      "  warnings.warn(\n",
      "Loading checkpoint shards:   0%|                          | 0/7 [00:00<?, ?it/s]/home/cse/dual/cs5190439/.conda/envs/pl_codelingua/lib/python3.10/site-packages/torch/_utils.py:776: UserWarning: TypedStorage is deprecated. It will be removed in the future and UntypedStorage will be the only storage class. This should only matter to you if you are using storages directly.  To access UntypedStorage directly, use tensor.untyped_storage() instead of tensor.storage()\n",
      "  return self.fget.__get__(instance, owner)()\n",
      "Loading checkpoint shards: 100%|██████████████████| 7/7 [00:32<00:00,  4.68s/it]\n",
      "{'trust_remote_code': False, 'torch_dtype': torch.bfloat16, 'device_map': 'auto'} = \n",
      "found 250 inputs\n",
      "  0%|                                                   | 0/250 [00:00<?, ?it/s]Total generation time: atcoder_AGC004_D 57.4195713220106\n",
      "  0%|▏                                        | 1/250 [00:58<4:02:25, 58.41s/it]Total generation time: atcoder_AGC014_D 64.08574313099962\n",
      "  1%|▎                                        | 2/250 [02:04<4:19:34, 62.80s/it]Total generation time: atcoder_ABC123_C 3.2520038075745106e-06\n",
      "  1%|▍                                        | 3/250 [02:04<2:20:58, 34.25s/it]Total generation time: atcoder_ABC140_F 39.68590840001707\n",
      "  2%|▋                                        | 4/250 [02:45<2:31:14, 36.89s/it]Total generation time: codeforces_86_A 31.34804107598029\n",
      "  2%|▊                                        | 5/250 [03:17<2:23:49, 35.22s/it]Total generation time: codeforces_387_B 24.062921288976213\n",
      "  2%|▉                                        | 6/250 [03:41<2:07:56, 31.46s/it]Total generation time: codeforces_49_A 26.839809456985677\n",
      "  3%|█▏                                       | 7/250 [04:09<2:01:53, 30.10s/it]Total generation time: codeforces_110_B 3.01000545732677e-06\n",
      "  3%|█▎                                       | 8/250 [04:09<1:23:03, 20.60s/it]Total generation time: codeforces_629_B 33.60141111398116\n",
      "  4%|█▍                                       | 9/250 [04:43<1:39:12, 24.70s/it]Total generation time: codeforces_678_B 53.971992612991016\n",
      "  4%|█▌                                      | 10/250 [05:37<2:15:27, 33.86s/it]Total generation time: codeforces_95_A 9.969808161258698e-07\n",
      "Total generation time: codeforces_459_B 2.4730106815695763e-06\n",
      "  5%|█▉                                      | 12/250 [05:37<1:11:38, 18.06s/it]Total generation time: codeforces_609_B 27.962517109001055\n",
      "  5%|██                                      | 13/250 [06:05<1:21:16, 20.58s/it]Total generation time: atcoder_ABC174_E 36.04498240799876\n",
      "  6%|██▏                                     | 14/250 [06:42<1:37:22, 24.76s/it]Total generation time: atcoder_ABC142_C 23.640929385001073\n",
      "  6%|██▍                                     | 15/250 [07:06<1:36:03, 24.52s/it]Total generation time: codeforces_462_B 31.79022294501192\n",
      "  6%|██▌                                     | 16/250 [07:38<1:43:51, 26.63s/it]Total generation time: atcoder_ABC109_B 32.92862900500768\n",
      "  7%|██▋                                     | 17/250 [08:11<1:50:36, 28.48s/it]Total generation time: codeforces_25_A 2.2900057956576347e-06\n",
      "  7%|██▉                                     | 18/250 [08:11<1:18:24, 20.28s/it]Total generation time: atcoder_AGC002_A 32.06636684498517\n",
      "  8%|███                                     | 19/250 [08:43<1:31:33, 23.78s/it]Total generation time: codeforces_581_B 30.744511586992303\n",
      "  8%|███▏                                    | 20/250 [09:14<1:39:24, 25.93s/it]Total generation time: atcoder_ABC143_A 2.053013304248452e-06\n",
      "  8%|███▎                                    | 21/250 [09:15<1:09:51, 18.30s/it]Total generation time: atcoder_ABC174_C 3.195018507540226e-06\n",
      "  9%|███▋                                      | 22/250 [09:15<49:11, 12.94s/it]Total generation time: atcoder_ABC171_E 28.697778050001943\n",
      "  9%|███▋                                    | 23/250 [09:44<1:07:12, 17.77s/it]Total generation time: atcoder_ABC110_C 32.87767881900072\n",
      " 10%|███▊                                    | 24/250 [10:17<1:24:15, 22.37s/it]Total generation time: codeforces_23_B 1.6069971024990082e-06\n",
      "Total generation time: codeforces_59_A 26.377381929021794\n",
      " 10%|████▏                                   | 26/250 [10:44<1:08:05, 18.24s/it]Total generation time: codeforces_450_A 26.04350805800641\n",
      " 11%|████▎                                   | 27/250 [11:11<1:15:25, 20.29s/it]Total generation time: codeforces_333_B 37.60441869701026\n",
      " 11%|████▍                                   | 28/250 [11:48<1:32:00, 24.87s/it]Total generation time: codeforces_340_A 26.491702903003898\n",
      " 12%|████▋                                   | 29/250 [12:15<1:33:34, 25.41s/it]Total generation time: atcoder_ARC086_B 51.488370636012405\n",
      " 12%|████▊                                   | 30/250 [13:07<1:59:55, 32.71s/it]Total generation time: codeforces_190_A 23.03392571400036\n",
      " 12%|████▉                                   | 31/250 [13:30<1:49:58, 30.13s/it]Total generation time: atcoder_ABC164_D 28.18388095998671\n",
      " 13%|█████                                   | 32/250 [13:59<1:47:34, 29.61s/it]Total generation time: atcoder_ABC169_E 29.260361725988332\n",
      " 13%|█████▎                                  | 33/250 [14:28<1:47:15, 29.66s/it]Total generation time: codeforces_342_B 36.56385266999132\n",
      " 14%|█████▍                                  | 34/250 [15:05<1:54:17, 31.75s/it]Total generation time: atcoder_ABC127_F 35.446455540979514\n",
      " 14%|█████▌                                  | 35/250 [15:41<1:58:11, 32.98s/it]Total generation time: atcoder_AGC046_B 31.31371513599879\n",
      " 14%|█████▊                                  | 36/250 [16:13<1:56:06, 32.56s/it]Total generation time: atcoder_ABC158_A 1.600012183189392e-06\n",
      " 15%|█████▉                                  | 37/250 [16:13<1:21:15, 22.89s/it]Total generation time: codeforces_669_A 17.19808460501372\n",
      " 15%|██████                                  | 38/250 [16:30<1:15:08, 21.26s/it]Total generation time: codeforces_106_B 3.449007635936141e-06\n",
      " 16%|██████▌                                   | 39/250 [16:31<52:46, 15.01s/it]Total generation time: atcoder_ABC153_A 22.1390328600246\n",
      " 16%|██████▍                                 | 40/250 [16:53<1:00:08, 17.18s/it]Total generation time: atcoder_ABC122_C 2.5840126909315586e-06\n",
      " 16%|██████▉                                   | 41/250 [16:53<42:11, 12.11s/it]Total generation time: atcoder_ABC146_D 45.43713749200106\n",
      " 17%|██████▋                                 | 42/250 [17:39<1:16:53, 22.18s/it]Total generation time: atcoder_AGC046_A 16.951157716015587\n",
      " 17%|██████▉                                 | 43/250 [17:56<1:11:17, 20.66s/it]Total generation time: atcoder_ABC149_C 35.61923445400316\n",
      " 18%|███████                                 | 44/250 [18:32<1:26:35, 25.22s/it]Total generation time: codeforces_651_A 32.84167639602674\n",
      " 18%|███████▏                                | 45/250 [19:05<1:34:25, 27.64s/it]Total generation time: codeforces_608_A 18.931773768999847\n",
      " 18%|███████▎                                | 46/250 [19:24<1:25:22, 25.11s/it]Total generation time: codeforces_58_B 18.372265732992673\n",
      " 19%|███████▌                                | 47/250 [19:43<1:18:38, 23.24s/it]Total generation time: codeforces_274_A 23.102684921002947\n",
      " 19%|███████▋                                | 48/250 [20:07<1:18:24, 23.29s/it]Total generation time: atcoder_ABC172_D 24.50785920501221\n",
      " 20%|███████▊                                | 49/250 [20:31<1:19:26, 23.71s/it]Total generation time: atcoder_ABC070_B 20.359504813997773\n",
      " 20%|████████                                | 50/250 [20:52<1:15:51, 22.76s/it]Total generation time: atcoder_AGC007_C 22.761847343994305\n",
      " 20%|████████▏                               | 51/250 [21:15<1:15:51, 22.87s/it]Total generation time: codeforces_242_B 32.20569864998106\n",
      " 21%|████████▎                               | 52/250 [21:47<1:24:58, 25.75s/it]Total generation time: atcoder_ABC051_A 16.670533432014054\n",
      " 21%|████████▍                               | 53/250 [22:04<1:15:42, 23.06s/it]Total generation time: codeforces_148_B 30.21376494600554\n",
      " 22%|████████▋                               | 54/250 [22:35<1:23:00, 25.41s/it]Total generation time: atcoder_ABC119_B 1.4260003808885813e-06\n",
      "Total generation time: atcoder_ABC124_C 27.703480680997018\n",
      " 22%|████████▉                               | 56/250 [23:03<1:05:10, 20.16s/it]Total generation time: atcoder_ABC139_B 28.475229286006652\n",
      " 23%|█████████                               | 57/250 [23:32<1:11:38, 22.27s/it]Total generation time: atcoder_ABC120_C 28.55147533302079\n",
      " 23%|█████████▎                              | 58/250 [24:01<1:16:44, 23.98s/it]Total generation time: codeforces_596_B 2.820015652105212e-06\n",
      " 24%|█████████▉                                | 59/250 [24:01<55:48, 17.53s/it]Total generation time: atcoder_ARC102_C 51.78117557699443\n",
      " 24%|█████████▌                              | 60/250 [24:53<1:25:54, 27.13s/it]Total generation time: codeforces_171_A 3.5589910112321377e-06\n",
      " 24%|█████████▊                              | 61/250 [24:53<1:01:28, 19.52s/it]Total generation time: atcoder_ABC126_E 35.98813797099865\n",
      " 25%|█████████▉                              | 62/250 [25:30<1:16:26, 24.40s/it]Total generation time: codeforces_518_B 40.08165746097802\n",
      " 25%|██████████                              | 63/250 [26:10<1:30:35, 29.07s/it]Total generation time: codeforces_456_A 29.332286505989032\n",
      " 26%|██████████▏                             | 64/250 [26:40<1:30:44, 29.27s/it]Total generation time: codeforces_474_B 27.245142952015158\n",
      " 26%|██████████▍                             | 65/250 [27:07<1:28:25, 28.68s/it]Total generation time: atcoder_ABC170_A 1.1709926184266806e-06\n",
      "Total generation time: codeforces_445_A 1.8459977582097054e-06\n",
      " 27%|███████████▎                              | 67/250 [27:07<47:32, 15.59s/it]Total generation time: atcoder_AGC011_C 54.97691820102045\n",
      " 27%|██████████▉                             | 68/250 [28:03<1:17:06, 25.42s/it]Total generation time: codeforces_581_A 3.384979208931327e-06\n",
      " 28%|███████████▌                              | 69/250 [28:03<56:58, 18.89s/it]Total generation time: atcoder_ABC125_C 43.788448113016784\n",
      " 28%|███████████▏                            | 70/250 [28:47<1:17:08, 25.71s/it]Total generation time: atcoder_ABC107_C 38.058842612983426\n",
      " 28%|███████████▎                            | 71/250 [29:25<1:27:09, 29.21s/it]Total generation time: atcoder_ABC178_A 20.24402863200521\n",
      " 29%|███████████▌                            | 72/250 [29:46<1:19:11, 26.69s/it]Total generation time: codeforces_369_B 1.801003236323595e-06\n",
      " 29%|████████████▎                             | 73/250 [29:46<56:04, 19.01s/it]Total generation time: atcoder_ABC140_D 51.61811202397803\n",
      " 30%|███████████▊                            | 74/250 [30:38<1:24:00, 28.64s/it]Total generation time: atcoder_AGC012_A 24.093184380995808\n",
      " 30%|████████████                            | 75/250 [31:02<1:19:47, 27.36s/it]Total generation time: atcoder_AGC025_A 24.067744058993412\n",
      " 30%|████████████▏                           | 76/250 [31:26<1:16:38, 26.43s/it]Total generation time: codeforces_632_B 43.23438448700472\n",
      " 31%|████████████▎                           | 77/250 [32:10<1:30:43, 31.47s/it]Total generation time: codeforces_621_A 31.559103170002345\n",
      " 31%|████████████▍                           | 78/250 [32:42<1:30:32, 31.58s/it]Total generation time: atcoder_ABC145_B 18.015186003001872\n",
      " 32%|████████████▋                           | 79/250 [33:00<1:18:35, 27.57s/it]Total generation time: atcoder_ABC169_D 40.15336741702049\n",
      " 32%|████████████▊                           | 80/250 [33:40<1:29:10, 31.47s/it]Total generation time: codeforces_387_A 30.92881700801081\n",
      " 32%|████████████▉                           | 81/250 [34:12<1:28:40, 31.48s/it]Total generation time: codeforces_678_A 18.223692291008774\n",
      " 33%|█████████████                           | 82/250 [34:30<1:17:20, 27.62s/it]Total generation time: codeforces_598_A 1.7850252334028482e-06\n",
      " 33%|█████████████▉                            | 83/250 [34:31<53:58, 19.39s/it]Total generation time: atcoder_ABC114_C 22.90068960300414\n",
      " 34%|██████████████                            | 84/250 [34:54<56:45, 20.52s/it]Total generation time: atcoder_ABC123_B 33.15949976100819\n",
      " 34%|█████████████▌                          | 85/250 [35:27<1:06:57, 24.35s/it]Total generation time: codeforces_629_A 2.1479791030287743e-06\n",
      " 34%|██████████████▍                           | 86/250 [35:27<46:46, 17.11s/it]Total generation time: atcoder_ABC150_C 34.274132987018675\n",
      " 35%|█████████████▉                          | 87/250 [36:02<1:00:35, 22.30s/it]Total generation time: codeforces_397_B 34.66215153702069\n",
      " 35%|██████████████                          | 88/250 [36:36<1:10:14, 26.02s/it]Total generation time: atcoder_ABC143_D 21.555046240013326\n",
      " 36%|██████████████▏                         | 89/250 [36:58<1:06:22, 24.74s/it]Total generation time: codeforces_79_A 3.5949924495071173e-06\n",
      " 36%|███████████████                           | 90/250 [36:59<47:02, 17.64s/it]Total generation time: atcoder_ABC178_B 3.5919947549700737e-06\n",
      " 36%|███████████████▎                          | 91/250 [37:00<33:00, 12.46s/it]Total generation time: atcoder_ABC089_C 3.402004949748516e-06\n",
      " 37%|███████████████▍                          | 92/250 [37:00<23:08,  8.79s/it]Total generation time: atcoder_ABC147_D 18.868516126996838\n",
      " 37%|███████████████▌                          | 93/250 [37:19<31:15, 11.95s/it]Total generation time: atcoder_AGC006_B 41.06699457499781\n",
      " 38%|███████████████▊                          | 94/250 [38:00<53:48, 20.69s/it]Total generation time: atcoder_ABC124_A 18.378805587999523\n",
      " 38%|███████████████▉                          | 95/250 [38:19<51:48, 20.05s/it]Total generation time: atcoder_ABC154_A 30.579403042997\n",
      " 38%|████████████████▏                         | 96/250 [38:49<59:40, 23.25s/it]Total generation time: codeforces_544_B 3.3380056265741587e-06\n",
      " 39%|████████████████▎                         | 97/250 [38:50<41:47, 16.39s/it]Total generation time: codeforces_673_A 22.66149580597994\n",
      " 39%|████████████████▍                         | 98/250 [39:13<46:33, 18.38s/it]Total generation time: atcoder_ABC152_E 31.746753551007714\n",
      " 40%|████████████████▋                         | 99/250 [39:45<56:32, 22.46s/it]Total generation time: atcoder_AGC002_B 42.96265999801108\n",
      " 40%|███████████████▌                       | 100/250 [40:28<1:11:51, 28.74s/it]Total generation time: codeforces_306_A 22.24811423997744\n",
      " 40%|███████████████▊                       | 101/250 [40:51<1:06:44, 26.87s/it]Total generation time: atcoder_ABC169_C 26.145012396998936\n",
      " 41%|███████████████▉                       | 102/250 [41:17<1:05:57, 26.74s/it]Total generation time: atcoder_AGC029_C 43.92787249802495\n",
      " 41%|████████████████                       | 103/250 [42:02<1:18:32, 32.06s/it]Total generation time: atcoder_ABC106_C 45.13194297600421\n",
      " 42%|████████████████▏                      | 104/250 [42:47<1:27:41, 36.04s/it]Total generation time: codeforces_61_B 1.381995389238e-06\n",
      "Total generation time: codeforces_154_A 23.408953706995817\n",
      " 42%|█████████████████▍                       | 106/250 [43:11<59:39, 24.86s/it]Total generation time: atcoder_ABC125_B 26.04528915102128\n",
      " 43%|████████████████▋                      | 107/250 [43:37<1:00:02, 25.19s/it]Total generation time: atcoder_ABC150_E 3.622990334406495e-06\n",
      " 43%|█████████████████▋                       | 108/250 [43:37<44:16, 18.70s/it]Total generation time: codeforces_672_A 25.80204519999097\n",
      " 44%|█████████████████▉                       | 109/250 [44:03<48:43, 20.74s/it]Total generation time: atcoder_AGC028_B 50.85614953600452\n",
      " 44%|█████████████████▏                     | 110/250 [44:55<1:08:14, 29.25s/it]Total generation time: atcoder_ABC043_B 19.392641259997617\n",
      " 44%|█████████████████▎                     | 111/250 [45:14<1:01:18, 26.47s/it]Total generation time: atcoder_ABC133_B 1.6420090105384588e-06\n",
      " 45%|██████████████████▎                      | 112/250 [45:14<43:18, 18.83s/it]Total generation time: atcoder_AGC021_B 53.42681038301089\n",
      " 45%|█████████████████▋                     | 113/250 [46:08<1:06:22, 29.07s/it]Total generation time: codeforces_265_B 28.47395470002084\n",
      " 46%|█████████████████▊                     | 114/250 [46:36<1:05:31, 28.91s/it]Total generation time: codeforces_96_B 24.47344221599633\n",
      " 46%|█████████████████▉                     | 115/250 [47:02<1:02:32, 27.79s/it]Total generation time: codeforces_334_A 1.168984454125166e-06\n",
      " 46%|███████████████████                      | 116/250 [47:02<43:40, 19.56s/it]Total generation time: codeforces_67_B 23.611633929016534\n",
      " 47%|███████████████████▏                     | 117/250 [47:26<46:11, 20.83s/it]Total generation time: codeforces_282_B 29.344687293982133\n",
      " 47%|███████████████████▎                     | 118/250 [47:55<51:32, 23.43s/it]Total generation time: atcoder_AGC043_B 39.50610194099136\n",
      " 48%|██████████████████▌                    | 119/250 [48:35<1:02:07, 28.46s/it]Total generation time: codeforces_400_B 1.7409911379218102e-06\n",
      " 48%|███████████████████▋                     | 120/250 [48:35<43:16, 19.98s/it]Total generation time: codeforces_31_A 27.574513461004244\n",
      " 48%|███████████████████▊                     | 121/250 [49:03<47:59, 22.32s/it]Total generation time: codeforces_653_A 21.37847442200291\n",
      " 49%|████████████████████                     | 122/250 [49:25<47:34, 22.30s/it]Total generation time: codeforces_32_B 20.60775486700004\n",
      " 49%|████████████████████▏                    | 123/250 [49:46<46:10, 21.81s/it]Total generation time: atcoder_ABC122_D 35.24261684398516\n",
      " 50%|████████████████████▎                    | 124/250 [50:22<54:22, 25.89s/it]Total generation time: codeforces_583_B 24.701662727980874\n",
      " 50%|████████████████████▌                    | 125/250 [50:47<53:28, 25.67s/it]Total generation time: atcoder_ABC148_F 42.75212823000038\n",
      " 50%|███████████████████▋                   | 126/250 [51:30<1:03:55, 30.93s/it]Total generation time: codeforces_216_B 3.290013410151005e-06\n",
      " 51%|████████████████████▊                    | 127/250 [51:30<44:42, 21.81s/it]Total generation time: atcoder_ABC165_C 44.94537956098793\n",
      " 51%|████████████████████▉                    | 128/250 [52:16<58:32, 28.79s/it]Total generation time: codeforces_242_A 1.801003236323595e-06\n",
      " 52%|█████████████████████▏                   | 129/250 [52:16<40:44, 20.20s/it]Total generation time: atcoder_AGC017_A 33.97725814700243\n",
      " 52%|█████████████████████▎                   | 130/250 [52:50<48:45, 24.38s/it]Total generation time: codeforces_607_A 27.388431605999358\n",
      " 52%|█████████████████████▍                   | 131/250 [53:17<50:13, 25.32s/it]Total generation time: codeforces_287_A 40.78873610700248\n",
      " 53%|█████████████████████▋                   | 132/250 [53:59<59:08, 30.07s/it]Total generation time: codeforces_356_A 26.26634360899334\n",
      " 53%|█████████████████████▊                   | 133/250 [54:25<56:33, 29.00s/it]Total generation time: codeforces_534_B 3.3600081223994493e-06\n",
      " 54%|█████████████████████▉                   | 134/250 [54:26<39:36, 20.49s/it]Total generation time: atcoder_ABC150_D 30.562417381006526\n",
      " 54%|██████████████████████▏                  | 135/250 [54:57<45:43, 23.86s/it]Total generation time: codeforces_350_B 30.27915197299444\n",
      " 54%|██████████████████████▎                  | 136/250 [55:28<49:03, 25.82s/it]Total generation time: codeforces_268_A 21.704577233991586\n",
      " 55%|██████████████████████▍                  | 137/250 [55:50<46:28, 24.68s/it]Total generation time: codeforces_302_A 22.82248134497786\n",
      " 55%|██████████████████████▋                  | 138/250 [56:13<45:06, 24.17s/it]Total generation time: codeforces_222_A 28.78091185700032\n",
      " 56%|██████████████████████▊                  | 139/250 [56:42<47:25, 25.63s/it]Total generation time: atcoder_ABC167_D 33.557012361998204\n",
      " 56%|██████████████████████▉                  | 140/250 [57:16<51:56, 28.33s/it]Total generation time: codeforces_267_A 1.1959928087890148e-06\n",
      "Total generation time: atcoder_ABC112_C 41.93294520000927\n",
      " 57%|███████████████████████▎                 | 142/250 [57:59<45:01, 25.01s/it]Total generation time: atcoder_AGC013_A 46.817503736005165\n",
      " 57%|███████████████████████▍                 | 143/250 [58:46<54:21, 30.48s/it]Total generation time: codeforces_569_A 19.585019076999743\n",
      " 58%|███████████████████████▌                 | 144/250 [59:06<49:00, 27.74s/it]Total generation time: codeforces_296_A 22.580550419021165\n",
      " 58%|███████████████████████▊                 | 145/250 [59:29<46:19, 26.47s/it]Total generation time: atcoder_ABC168_B 19.257318065996515\n",
      " 58%|███████████████████████▉                 | 146/250 [59:48<42:29, 24.52s/it]Total generation time: codeforces_203_B 26.80811154699768\n",
      " 59%|██████████████████████▉                | 147/250 [1:00:15<43:19, 25.24s/it]Total generation time: codeforces_404_A 29.35726755601354\n",
      " 59%|███████████████████████                | 148/250 [1:00:45<45:09, 26.57s/it]Total generation time: atcoder_ABC135_D 53.23100292199524\n",
      " 60%|███████████████████████▏               | 149/250 [1:01:39<58:02, 34.48s/it]Total generation time: atcoder_AGC035_B 35.32732787900022\n",
      " 60%|███████████████████████▍               | 150/250 [1:02:14<57:54, 34.74s/it]Total generation time: codeforces_147_A 3.2400130294263363e-06\n",
      " 60%|███████████████████████▌               | 151/250 [1:02:15<40:42, 24.67s/it]Total generation time: atcoder_ABC145_C 39.56083305701031\n",
      " 61%|███████████████████████▋               | 152/250 [1:02:55<47:36, 29.15s/it]Total generation time: codeforces_637_A 3.838009433820844e-06\n",
      " 61%|███████████████████████▊               | 153/250 [1:02:55<33:14, 20.56s/it]Total generation time: codeforces_146_A 3.330002073198557e-06\n",
      " 62%|████████████████████████               | 154/250 [1:02:56<23:20, 14.59s/it]Total generation time: codeforces_299_A 24.252612895012135\n",
      " 62%|████████████████████████▏              | 155/250 [1:03:20<27:46, 17.54s/it]Total generation time: codeforces_99_A 3.0139926820993423e-06\n",
      " 62%|████████████████████████▎              | 156/250 [1:03:21<19:54, 12.71s/it]Total generation time: codeforces_546_A 3.768014721572399e-06\n",
      " 63%|████████████████████████▍              | 157/250 [1:03:22<13:52,  8.95s/it]Total generation time: codeforces_354_A 39.538154670997756\n",
      " 63%|████████████████████████▋              | 158/250 [1:04:01<27:51, 18.17s/it]Total generation time: codeforces_682_B 30.03550471700146\n",
      " 64%|████████████████████████▊              | 159/250 [1:04:32<33:23, 22.02s/it]Total generation time: atcoder_ABC167_C 3.3399846870452166e-06\n",
      " 64%|████████████████████████▉              | 160/250 [1:04:33<23:16, 15.52s/it]Total generation time: atcoder_AGC033_B 3.6800047382712364e-06\n",
      " 64%|█████████████████████████              | 161/250 [1:04:33<16:17, 10.98s/it]Total generation time: atcoder_ABC171_B 3.4870172385126352e-06\n",
      " 65%|█████████████████████████▎             | 162/250 [1:04:33<11:20,  7.74s/it]Total generation time: codeforces_11_A 24.03638096898794\n",
      " 65%|█████████████████████████▍             | 163/250 [1:04:57<18:22, 12.68s/it]Total generation time: codeforces_131_B 30.270665248011937\n",
      " 66%|█████████████████████████▌             | 164/250 [1:05:28<25:50, 18.03s/it]Total generation time: codeforces_514_A 3.3410033211112022e-06\n",
      " 66%|█████████████████████████▋             | 165/250 [1:05:28<18:05, 12.77s/it]Total generation time: atcoder_ABC125_A 3.7999998312443495e-06\n",
      " 66%|█████████████████████████▉             | 166/250 [1:05:29<12:35,  8.99s/it]Total generation time: codeforces_276_B 43.28938457000186\n",
      " 67%|██████████████████████████             | 167/250 [1:06:12<26:48, 19.38s/it]Total generation time: codeforces_203_A 2.8119829948991537e-06\n",
      " 67%|██████████████████████████▏            | 168/250 [1:06:13<18:44, 13.71s/it]Total generation time: atcoder_ABC142_A 31.329425939999055\n",
      " 68%|██████████████████████████▎            | 169/250 [1:06:44<25:43, 19.05s/it]Total generation time: atcoder_ABC132_F 51.29703617299674\n",
      " 68%|██████████████████████████▌            | 170/250 [1:07:36<38:21, 28.77s/it]Total generation time: codeforces_231_A 25.936137051990954\n",
      " 68%|██████████████████████████▋            | 171/250 [1:08:02<36:49, 27.97s/it]Total generation time: atcoder_AGC034_B 3.117980668321252e-06\n",
      " 69%|██████████████████████████▊            | 172/250 [1:08:02<25:36, 19.70s/it]Total generation time: codeforces_8_B 44.730513303977204\n",
      " 69%|██████████████████████████▉            | 173/250 [1:08:48<35:09, 27.40s/it]Total generation time: atcoder_ABC042_A 28.369399586023064\n",
      " 70%|███████████████████████████▏           | 174/250 [1:09:16<35:06, 27.72s/it]Total generation time: atcoder_ABC152_C 3.920024028047919e-06\n",
      " 70%|███████████████████████████▎           | 175/250 [1:09:16<24:22, 19.51s/it]Total generation time: atcoder_ABC151_A 29.10923291000654\n",
      " 70%|███████████████████████████▍           | 176/250 [1:09:46<27:38, 22.42s/it]Total generation time: atcoder_ABC111_C 41.29481027601287\n",
      " 71%|███████████████████████████▌           | 177/250 [1:10:27<34:17, 28.18s/it]Total generation time: codeforces_617_B 19.757138649001718\n",
      " 71%|███████████████████████████▊           | 178/250 [1:10:47<30:53, 25.74s/it]Total generation time: atcoder_ABC134_E 25.63934108999092\n",
      " 72%|███████████████████████████▉           | 179/250 [1:11:14<30:38, 25.90s/it]Total generation time: codeforces_7_B 3.4650147426873446e-06\n",
      " 72%|████████████████████████████           | 180/250 [1:11:14<21:16, 18.23s/it]Total generation time: atcoder_ABC155_D 33.574828252982115\n",
      " 72%|████████████████████████████▏          | 181/250 [1:11:49<26:41, 23.20s/it]Total generation time: codeforces_272_B 2.129003405570984e-06\n",
      " 73%|████████████████████████████▍          | 182/250 [1:11:49<18:27, 16.29s/it]Total generation time: codeforces_408_B 30.4415796569956\n",
      " 73%|████████████████████████████▌          | 183/250 [1:12:19<23:00, 20.60s/it]Total generation time: codeforces_624_B 31.144366953987628\n",
      " 74%|████████████████████████████▋          | 184/250 [1:12:51<26:21, 23.96s/it]Total generation time: codeforces_665_A 36.0743143389991\n",
      " 74%|████████████████████████████▊          | 185/250 [1:13:28<30:00, 27.70s/it]Total generation time: codeforces_469_A 27.535398075997364\n",
      " 74%|█████████████████████████████          | 186/250 [1:13:56<29:34, 27.73s/it]Total generation time: codeforces_612_B 2.1840096451342106e-06\n",
      " 75%|█████████████████████████████▏         | 187/250 [1:13:56<20:26, 19.47s/it]Total generation time: atcoder_ABC155_E 41.3061960490013\n",
      " 75%|█████████████████████████████▎         | 188/250 [1:14:38<27:07, 26.24s/it]Total generation time: atcoder_AGC005_B 56.328032285004156\n",
      " 76%|█████████████████████████████▍         | 189/250 [1:15:34<35:56, 35.34s/it]Total generation time: codeforces_644_B 45.38997130098869\n",
      " 76%|█████████████████████████████▋         | 190/250 [1:16:20<38:24, 38.41s/it]Total generation time: codeforces_421_A 30.41421058899141\n",
      " 76%|█████████████████████████████▊         | 191/250 [1:16:51<35:32, 36.15s/it]Total generation time: codeforces_519_B 26.849222632998135\n",
      " 77%|█████████████████████████████▉         | 192/250 [1:17:18<32:17, 33.41s/it]Total generation time: atcoder_AGC024_B 42.08087510601035\n",
      " 77%|██████████████████████████████         | 193/250 [1:18:00<34:22, 36.18s/it]Total generation time: atcoder_ABC118_C 26.04298346300493\n",
      " 78%|██████████████████████████████▎        | 194/250 [1:18:27<31:00, 33.23s/it]Total generation time: codeforces_30_A 4.027999239042401e-06\n",
      " 78%|██████████████████████████████▍        | 195/250 [1:18:28<21:32, 23.50s/it]Total generation time: codeforces_56_B 35.616165793006076\n",
      " 78%|██████████████████████████████▌        | 196/250 [1:19:03<24:28, 27.19s/it]Total generation time: codeforces_459_A 54.487430203007534\n",
      " 79%|██████████████████████████████▋        | 197/250 [1:19:59<31:30, 35.66s/it]Total generation time: atcoder_ABC166_C 4.789995728060603e-06\n",
      " 79%|██████████████████████████████▉        | 198/250 [1:19:59<21:44, 25.08s/it]Total generation time: codeforces_622_A 3.1900126487016678e-06\n",
      " 80%|███████████████████████████████        | 199/250 [1:20:00<15:01, 17.68s/it]Total generation time: codeforces_373_B 27.422811977012316\n",
      " 80%|███████████████████████████████▏       | 200/250 [1:20:27<17:16, 20.73s/it]Total generation time: atcoder_ABC123_D 32.16945495799882\n",
      " 80%|███████████████████████████████▎       | 201/250 [1:21:00<19:48, 24.26s/it]Total generation time: codeforces_189_A 31.89453031300218\n",
      " 81%|███████████████████████████████▌       | 202/250 [1:21:32<21:22, 26.72s/it]Total generation time: atcoder_ABC136_B 21.878172571014147\n",
      " 81%|███████████████████████████████▋       | 203/250 [1:21:55<19:50, 25.33s/it]Total generation time: atcoder_AGC027_A 24.428300591011066\n",
      " 82%|███████████████████████████████▊       | 204/250 [1:22:19<19:15, 25.12s/it]Total generation time: codeforces_579_A 3.577006282284856e-06\n",
      " 82%|███████████████████████████████▉       | 205/250 [1:22:20<13:16, 17.70s/it]Total generation time: atcoder_ABC126_D 3.940018359571695e-06\n",
      "Total generation time: codeforces_500_A 29.740240184008144\n",
      " 83%|████████████████████████████████▎      | 207/250 [1:22:50<11:47, 16.46s/it]Total generation time: atcoder_AGC038_A 28.135614286991768\n",
      " 83%|████████████████████████████████▍      | 208/250 [1:23:18<13:34, 19.40s/it]Total generation time: atcoder_AGC027_B 32.96685627399711\n",
      " 84%|████████████████████████████████▌      | 209/250 [1:23:51<15:46, 23.10s/it]Total generation time: atcoder_ABC107_D 41.28821402898757\n",
      " 84%|████████████████████████████████▊      | 210/250 [1:24:33<18:45, 28.15s/it]Total generation time: atcoder_ABC168_C 17.155160750000505\n",
      " 84%|████████████████████████████████▉      | 211/250 [1:24:51<16:21, 25.17s/it]Total generation time: atcoder_ABC104_C 39.21820695302449\n",
      " 85%|█████████████████████████████████      | 212/250 [1:25:30<18:31, 29.26s/it]Total generation time: codeforces_351_A 32.659209486009786\n",
      " 85%|█████████████████████████████████▏     | 213/250 [1:26:03<18:44, 30.39s/it]Total generation time: codeforces_55_A 25.98366493897629\n",
      " 86%|█████████████████████████████████▍     | 214/250 [1:26:30<17:39, 29.42s/it]Total generation time: atcoder_AGC037_E 46.310706050979206\n",
      " 86%|█████████████████████████████████▌     | 215/250 [1:27:17<20:11, 34.63s/it]Total generation time: atcoder_AGC028_A 56.535405823990004\n",
      " 86%|█████████████████████████████████▋     | 216/250 [1:28:14<23:20, 41.19s/it]Total generation time: atcoder_AGC003_C 27.501679368986515\n",
      " 87%|█████████████████████████████████▊     | 217/250 [1:28:42<20:29, 37.24s/it]Total generation time: atcoder_AGC033_A 49.71128852898255\n",
      " 87%|██████████████████████████████████     | 218/250 [1:29:32<21:53, 41.04s/it]Total generation time: atcoder_ABC132_A 1.98700581677258e-06\n",
      " 88%|██████████████████████████████████▏    | 219/250 [1:29:32<14:53, 28.82s/it]Total generation time: codeforces_327_A 39.48171047098003\n",
      " 88%|██████████████████████████████████▎    | 220/250 [1:30:12<16:02, 32.07s/it]Total generation time: atcoder_ABC129_E 3.972992999479175e-06\n",
      " 88%|██████████████████████████████████▍    | 221/250 [1:30:12<10:54, 22.56s/it]Total generation time: atcoder_ABC127_B 32.661208673991496\n",
      " 89%|██████████████████████████████████▋    | 222/250 [1:30:45<11:57, 25.62s/it]Total generation time: atcoder_AGC006_A 22.649994584993692\n",
      " 89%|██████████████████████████████████▊    | 223/250 [1:31:08<11:08, 24.78s/it]Total generation time: atcoder_AGC019_A 2.4600012693554163e-06\n",
      " 90%|██████████████████████████████████▉    | 224/250 [1:31:08<07:32, 17.42s/it]Total generation time: atcoder_ABC128_C 32.245136660989374\n",
      " 90%|███████████████████████████████████    | 225/250 [1:31:41<09:09, 21.99s/it]Total generation time: codeforces_313_B 2.2500171326100826e-06\n",
      " 90%|███████████████████████████████████▎   | 226/250 [1:31:41<06:10, 15.45s/it]Total generation time: atcoder_ABC108_B 3.885012120008469e-06\n",
      " 91%|███████████████████████████████████▍   | 227/250 [1:31:41<04:10, 10.88s/it]Total generation time: codeforces_37_A 3.3999967854470015e-06\n",
      " 91%|███████████████████████████████████▌   | 228/250 [1:31:41<02:48,  7.68s/it]Total generation time: codeforces_412_A 28.098102299001766\n",
      " 92%|███████████████████████████████████▋   | 229/250 [1:32:10<04:51, 13.89s/it]Total generation time: codeforces_400_A 43.59620227801497\n",
      " 92%|███████████████████████████████████▉   | 230/250 [1:32:53<07:36, 22.82s/it]Total generation time: codeforces_567_A 48.94943327299552\n",
      " 92%|████████████████████████████████████   | 231/250 [1:33:42<09:43, 30.73s/it]Total generation time: atcoder_AGC004_B 29.141528590000235\n",
      " 93%|████████████████████████████████████▏  | 232/250 [1:34:12<09:06, 30.34s/it]Total generation time: atcoder_ABC112_A 27.377997869014507\n",
      " 93%|████████████████████████████████████▎  | 233/250 [1:34:39<08:21, 29.48s/it]Total generation time: atcoder_ABC137_D 49.16535922102048\n",
      " 94%|████████████████████████████████████▌  | 234/250 [1:35:29<09:27, 35.49s/it]Total generation time: codeforces_379_A 3.6850105971097946e-06\n",
      " 94%|████████████████████████████████████▋  | 235/250 [1:35:29<06:14, 24.97s/it]Total generation time: atcoder_ARC062_B 3.2669922802597284e-06\n",
      "Total generation time: codeforces_108_B 3.742985427379608e-06\n",
      " 95%|████████████████████████████████████▉  | 237/250 [1:35:30<02:55, 13.49s/it]Total generation time: atcoder_ABC164_A 24.64959191798698\n",
      " 95%|█████████████████████████████████████▏ | 238/250 [1:35:54<03:15, 16.29s/it]Total generation time: codeforces_705_B 4.130008164793253e-06\n",
      " 96%|█████████████████████████████████████▎ | 239/250 [1:35:55<02:13, 12.11s/it]Total generation time: atcoder_ABC105_D 28.14014872201369\n",
      " 96%|█████████████████████████████████████▍ | 240/250 [1:36:23<02:45, 16.58s/it]Total generation time: codeforces_70_B 3.442983143031597e-06\n",
      " 96%|█████████████████████████████████████▌ | 241/250 [1:36:23<01:48, 12.03s/it]Total generation time: atcoder_ABC158_B 26.654354119003983\n",
      " 97%|█████████████████████████████████████▊ | 242/250 [1:36:51<02:10, 16.33s/it]Total generation time: codeforces_134_A 3.905995981767774e-06\n",
      " 97%|█████████████████████████████████████▉ | 243/250 [1:36:51<01:21, 11.71s/it]Total generation time: atcoder_ABC133_E 3.9669976104050875e-06\n",
      " 98%|██████████████████████████████████████ | 244/250 [1:36:52<00:51,  8.51s/it]Total generation time: codeforces_55_B 44.63169983800617\n",
      " 98%|██████████████████████████████████████▏| 245/250 [1:37:37<01:36, 19.36s/it]Total generation time: atcoder_AGC010_B 36.77301651999005\n",
      " 98%|██████████████████████████████████████▍| 246/250 [1:38:14<01:38, 24.67s/it]Total generation time: atcoder_ABC149_B 29.41857004800113\n",
      " 99%|██████████████████████████████████████▌| 247/250 [1:38:44<01:18, 26.16s/it]Total generation time: codeforces_92_A 3.6019773688167334e-06\n",
      " 99%|██████████████████████████████████████▋| 248/250 [1:38:44<00:36, 18.44s/it]Total generation time: atcoder_ABC145_E 50.91659007000271\n",
      "100%|██████████████████████████████████████▊| 249/250 [1:39:36<00:28, 28.25s/it]Total generation time: atcoder_ABC162_D 35.61865036797826\n",
      "100%|███████████████████████████████████████| 250/250 [1:40:11<00:00, 24.05s/it]\n",
      "Avg generation time of run : 23.71499246038473\n"
     ]
    }
   ],
   "source": [
    "!python3 /home/cse/dual/cs5190439/MTP1/codetlingua/translate/translate.py --model=starcoder --dataset=avatar --source_lang=Python --target_lang=Java --prompt_type=autocot2d --temperature=0.2 --n_samples=10 --batch_size=10 --max_length=4090 --ngpus=1  --resume \n"
   ]
  },
  {
   "cell_type": "code",
   "execution_count": 2,
   "id": "a381c583-dc24-417c-ab75-cdad4b505b32",
   "metadata": {
    "scrolled": true
   },
   "outputs": [
    {
     "name": "stdout",
     "output_type": "stream",
     "text": [
      "/home/cse/dual/cs5190439/.conda/envs/pl_codelingua/lib/python3.10/site-packages/transformers/utils/hub.py:124: FutureWarning: Using `TRANSFORMERS_CACHE` is deprecated and will be removed in v5 of Transformers. Use `HF_HOME` instead.\n",
      "  warnings.warn(\n",
      "Initializing a decoder model: CodeLlama-13b-Instruct-hf ...\n",
      "/home/cse/dual/cs5190439/.conda/envs/pl_codelingua/lib/python3.10/site-packages/transformers/models/auto/tokenization_auto.py:767: FutureWarning: The `use_auth_token` argument is deprecated and will be removed in v5 of Transformers. Please use `token` instead.\n",
      "  warnings.warn(\n",
      "You are using the default legacy behaviour of the <class 'transformers.models.llama.tokenization_llama_fast.LlamaTokenizerFast'>. This is expected, and simply means that the `legacy` (previous) behavior will be used so nothing changes for you. If you want to use the new behaviour, set `legacy=False`. This should only be set if you understand what it means, and thoroughly read the reason why this was added as explained in https://github.com/huggingface/transformers/pull/24565\n",
      "/home/cse/dual/cs5190439/.conda/envs/pl_codelingua/lib/python3.10/site-packages/transformers/models/auto/auto_factory.py:468: FutureWarning: The `use_auth_token` argument is deprecated and will be removed in v5 of Transformers. Please use `token` instead.\n",
      "  warnings.warn(\n",
      "Loading checkpoint shards:   0%|                          | 0/3 [00:00<?, ?it/s]/home/cse/dual/cs5190439/.conda/envs/pl_codelingua/lib/python3.10/site-packages/torch/_utils.py:776: UserWarning: TypedStorage is deprecated. It will be removed in the future and UntypedStorage will be the only storage class. This should only matter to you if you are using storages directly.  To access UntypedStorage directly, use tensor.untyped_storage() instead of tensor.storage()\n",
      "  return self.fget.__get__(instance, owner)()\n",
      "Loading checkpoint shards: 100%|██████████████████| 3/3 [00:42<00:00, 14.32s/it]\n",
      "{'trust_remote_code': False, 'torch_dtype': torch.bfloat16, 'device_map': 'auto'} = \n",
      "found 250 inputs\n",
      "  0%|                                                   | 0/250 [00:00<?, ?it/s]Total generation time: atcoder_AGC004_D 4.442001227289438e-06\n",
      "  0%|▏                                          | 1/250 [00:01<04:30,  1.09s/it]Total generation time: atcoder_AGC014_D 5.189998773857951e-06\n",
      "  1%|▎                                          | 2/250 [00:01<03:48,  1.08it/s]Total generation time: atcoder_ABC123_C 4.499976057559252e-06\n",
      "  1%|▌                                          | 3/250 [00:02<02:36,  1.58it/s]Total generation time: atcoder_ABC140_F 4.515022737905383e-06\n",
      "  2%|▋                                          | 4/250 [00:03<03:35,  1.14it/s]Total generation time: codeforces_86_A 4.375004209578037e-06\n",
      "  2%|▊                                          | 5/250 [00:04<03:36,  1.13it/s]Total generation time: codeforces_387_B 4.336994607001543e-06\n",
      "Total generation time: codeforces_49_A 4.279980203136802e-06\n",
      "  3%|█▏                                         | 7/250 [00:04<02:15,  1.79it/s]Total generation time: codeforces_110_B 4.28498606197536e-06\n",
      "  3%|█▍                                         | 8/250 [00:05<01:53,  2.14it/s]Total generation time: codeforces_629_B 4.2750034481287e-06\n",
      "  4%|█▌                                         | 9/250 [00:05<01:31,  2.64it/s]Total generation time: codeforces_678_B 4.2749743442982435e-06\n",
      "  4%|█▋                                        | 10/250 [00:05<01:36,  2.50it/s]Total generation time: codeforces_95_A 4.414992872625589e-06\n",
      "Total generation time: codeforces_459_B 4.340021405369043e-06\n",
      "  5%|██                                        | 12/250 [00:05<01:11,  3.35it/s]Total generation time: codeforces_609_B 4.339992301538587e-06\n",
      "  5%|██▏                                       | 13/250 [00:06<01:02,  3.80it/s]Total generation time: atcoder_ABC174_E 4.488014383241534e-06\n",
      "  6%|██▎                                       | 14/250 [00:06<01:13,  3.22it/s]Total generation time: atcoder_ABC142_C 4.268018528819084e-06\n",
      "  6%|██▌                                       | 15/250 [00:06<01:07,  3.49it/s]Total generation time: codeforces_462_B 4.247995093464851e-06\n",
      "  6%|██▋                                       | 16/250 [00:07<01:06,  3.50it/s]Total generation time: atcoder_ABC109_B 4.1869934648275375e-06\n",
      "  7%|██▊                                       | 17/250 [00:07<01:00,  3.86it/s]Total generation time: codeforces_25_A 4.346977220848203e-06\n",
      "  7%|███                                       | 18/250 [00:07<00:57,  4.07it/s]Total generation time: atcoder_AGC002_A 4.218978574499488e-06\n",
      "  8%|███▏                                      | 19/250 [00:07<00:53,  4.29it/s]Total generation time: codeforces_581_B 4.250003257766366e-06\n",
      "  8%|███▎                                      | 20/250 [00:08<01:03,  3.61it/s]Total generation time: atcoder_ABC143_A 4.317989805713296e-06\n",
      "  8%|███▌                                      | 21/250 [00:08<00:57,  3.99it/s]Total generation time: atcoder_ABC174_C 4.257017280906439e-06\n",
      "  9%|███▋                                      | 22/250 [00:08<01:03,  3.58it/s]Total generation time: atcoder_ABC171_E 4.464993253350258e-06\n",
      "  9%|███▊                                      | 23/250 [00:09<01:16,  2.95it/s]Total generation time: atcoder_ABC110_C 4.544999683275819e-06\n",
      " 10%|████                                      | 24/250 [00:09<01:19,  2.86it/s]Total generation time: codeforces_23_B 4.3549807742238045e-06\n",
      "Total generation time: codeforces_59_A 4.355009878054261e-06\n",
      " 10%|████▎                                     | 26/250 [00:09<01:05,  3.43it/s]Total generation time: codeforces_450_A 4.3199979700148106e-06\n",
      " 11%|████▌                                     | 27/250 [00:10<01:16,  2.90it/s]Total generation time: codeforces_333_B 4.251982318237424e-06\n",
      " 11%|████▋                                     | 28/250 [00:10<01:05,  3.38it/s]Total generation time: codeforces_340_A 4.610017640516162e-06\n",
      " 12%|████▊                                     | 29/250 [00:10<01:12,  3.06it/s]Total generation time: atcoder_ARC086_B 3.9539881981909275e-06\n",
      "Total generation time: codeforces_190_A 4.269997589290142e-06\n",
      " 12%|█████▏                                    | 31/250 [00:11<01:10,  3.10it/s]Total generation time: atcoder_ABC164_D 4.422996426001191e-06\n",
      " 13%|█████▍                                    | 32/250 [00:11<01:00,  3.60it/s]Total generation time: atcoder_ABC169_E 5.32998819835484e-06\n",
      " 13%|█████▌                                    | 33/250 [00:12<01:16,  2.83it/s]Total generation time: codeforces_342_B 4.585017450153828e-06\n",
      " 14%|█████▋                                    | 34/250 [00:12<01:07,  3.21it/s]Total generation time: atcoder_ABC127_F 4.804984200745821e-06\n",
      " 14%|█████▉                                    | 35/250 [00:13<01:19,  2.72it/s]Total generation time: atcoder_AGC046_B 4.3930194806307554e-06\n",
      " 14%|██████                                    | 36/250 [00:13<01:12,  2.97it/s]Total generation time: atcoder_ABC158_A 4.361005267128348e-06\n",
      " 15%|██████▏                                   | 37/250 [00:13<01:00,  3.52it/s]Total generation time: codeforces_669_A 4.7000066842883825e-06\n",
      " 15%|██████▍                                   | 38/250 [00:13<01:07,  3.16it/s]Total generation time: codeforces_106_B 4.542001988738775e-06\n",
      " 16%|██████▌                                   | 39/250 [00:14<01:06,  3.19it/s]Total generation time: atcoder_ABC153_A 4.264991730451584e-06\n",
      " 16%|██████▋                                   | 40/250 [00:14<00:54,  3.84it/s]Total generation time: atcoder_ABC122_C 4.512985469773412e-06\n",
      " 16%|██████▉                                   | 41/250 [00:14<00:57,  3.64it/s]Total generation time: atcoder_ABC146_D 4.350004019215703e-06\n",
      " 17%|███████                                   | 42/250 [00:14<00:57,  3.63it/s]Total generation time: atcoder_AGC046_A 4.444998921826482e-06\n",
      " 17%|███████▏                                  | 43/250 [00:15<00:48,  4.25it/s]Total generation time: atcoder_ABC149_C 4.428002284839749e-06\n",
      " 18%|███████▍                                  | 44/250 [00:15<00:53,  3.85it/s]Total generation time: codeforces_651_A 4.35599940828979e-06\n",
      " 18%|███████▌                                  | 45/250 [00:15<01:05,  3.15it/s]Total generation time: codeforces_608_A 4.334986442700028e-06\n",
      " 18%|███████▋                                  | 46/250 [00:16<01:01,  3.33it/s]Total generation time: codeforces_58_B 4.544999683275819e-06\n",
      " 19%|███████▉                                  | 47/250 [00:16<01:17,  2.63it/s]Total generation time: codeforces_274_A 4.430010449141264e-06\n",
      " 19%|████████                                  | 48/250 [00:16<01:09,  2.90it/s]Total generation time: atcoder_ABC172_D 4.442001227289438e-06\n",
      " 20%|████████▏                                 | 49/250 [00:17<01:02,  3.19it/s]Total generation time: atcoder_ABC070_B 4.445988452062011e-06\n",
      " 20%|████████▍                                 | 50/250 [00:17<00:53,  3.73it/s]Total generation time: atcoder_AGC007_C 4.3670006562024355e-06\n",
      " 20%|████████▌                                 | 51/250 [00:17<00:59,  3.36it/s]Total generation time: codeforces_242_B 4.283996531739831e-06\n",
      " 21%|████████▋                                 | 52/250 [00:17<00:54,  3.67it/s]Total generation time: atcoder_ABC051_A 4.389992682263255e-06\n",
      " 21%|████████▉                                 | 53/250 [00:18<00:47,  4.14it/s]Total generation time: codeforces_148_B 4.317000275477767e-06\n",
      " 22%|█████████                                 | 54/250 [00:18<01:12,  2.69it/s]Total generation time: atcoder_ABC119_B 4.355009878054261e-06\n",
      "Total generation time: atcoder_ABC124_C 4.330009687691927e-06\n",
      " 22%|█████████▍                                | 56/250 [00:19<00:56,  3.44it/s]Total generation time: atcoder_ABC139_B 4.19098068960011e-06\n",
      " 23%|█████████▌                                | 57/250 [00:19<00:49,  3.90it/s]Total generation time: atcoder_ABC120_C 4.4000043999403715e-06\n",
      " 23%|█████████▋                                | 58/250 [00:19<00:50,  3.82it/s]Total generation time: codeforces_596_B 4.3199979700148106e-06\n",
      " 24%|█████████▉                                | 59/250 [00:19<00:47,  4.00it/s]Total generation time: atcoder_ARC102_C 4.144996637478471e-06\n",
      "Total generation time: codeforces_171_A 4.32998058386147e-06\n",
      " 24%|██████████▏                               | 61/250 [00:20<00:46,  4.05it/s]Total generation time: atcoder_ABC126_E 4.345987690612674e-06\n",
      " 25%|██████████▍                               | 62/250 [00:20<00:51,  3.62it/s]Total generation time: codeforces_518_B 4.407018423080444e-06\n",
      " 25%|██████████▌                               | 63/250 [00:20<00:51,  3.66it/s]Total generation time: codeforces_456_A 4.286004696041346e-06\n",
      " 26%|██████████▊                               | 64/250 [00:21<00:57,  3.26it/s]Total generation time: codeforces_474_B 4.386005457490683e-06\n",
      "Total generation time: atcoder_ABC170_A 4.4470070861279964e-06\n",
      " 26%|███████████                               | 66/250 [00:21<00:38,  4.79it/s]Total generation time: codeforces_445_A 4.244997398927808e-06\n",
      " 27%|███████████▎                              | 67/250 [00:21<00:36,  4.97it/s]Total generation time: atcoder_AGC011_C 4.551984602585435e-06\n",
      " 27%|███████████▍                              | 68/250 [00:22<00:51,  3.50it/s]Total generation time: codeforces_581_A 4.2750034481287e-06\n",
      " 28%|███████████▌                              | 69/250 [00:22<00:51,  3.48it/s]Total generation time: atcoder_ABC125_C 4.269997589290142e-06\n",
      " 28%|███████████▊                              | 70/250 [00:22<00:53,  3.37it/s]Total generation time: atcoder_ABC107_C 4.262983566150069e-06\n",
      " 28%|███████████▉                              | 71/250 [00:22<00:48,  3.71it/s]Total generation time: atcoder_ABC178_A 4.3000036384910345e-06\n",
      " 29%|████████████                              | 72/250 [00:23<00:40,  4.40it/s]Total generation time: codeforces_369_B 4.250003257766366e-06\n",
      " 29%|████████████▎                             | 73/250 [00:23<00:39,  4.47it/s]Total generation time: atcoder_ABC140_D 4.4470070861279964e-06\n",
      " 30%|████████████▍                             | 74/250 [00:23<00:43,  4.07it/s]Total generation time: atcoder_AGC012_A 4.424975486472249e-06\n",
      " 30%|████████████▌                             | 75/250 [00:23<00:42,  4.11it/s]Total generation time: atcoder_AGC025_A 4.384986823424697e-06\n",
      " 30%|████████████▊                             | 76/250 [00:23<00:37,  4.66it/s]Total generation time: codeforces_632_B 4.449015250429511e-06\n",
      " 31%|████████████▉                             | 77/250 [00:24<00:34,  5.08it/s]Total generation time: codeforces_621_A 4.2750034481287e-06\n",
      " 31%|█████████████                             | 78/250 [00:24<00:38,  4.43it/s]Total generation time: atcoder_ABC145_B 4.085013642907143e-06\n",
      " 32%|█████████████▎                            | 79/250 [00:24<00:34,  4.96it/s]Total generation time: atcoder_ABC169_D 4.3670006562024355e-06\n",
      " 32%|█████████████▍                            | 80/250 [00:24<00:40,  4.16it/s]Total generation time: codeforces_387_A 4.436005838215351e-06\n",
      " 32%|█████████████▌                            | 81/250 [00:25<00:50,  3.34it/s]Total generation time: codeforces_678_A 4.475004971027374e-06\n",
      " 33%|█████████████▊                            | 82/250 [00:25<00:53,  3.15it/s]Total generation time: codeforces_598_A 4.458008334040642e-06\n",
      " 33%|█████████████▉                            | 83/250 [00:25<00:44,  3.76it/s]Total generation time: atcoder_ABC114_C 4.344008630141616e-06\n",
      " 34%|██████████████                            | 84/250 [00:26<01:19,  2.10it/s]Total generation time: atcoder_ABC123_B 4.238012479618192e-06\n",
      " 34%|██████████████▎                           | 85/250 [00:27<01:27,  1.89it/s]Total generation time: codeforces_629_A 4.525994881987572e-06\n",
      " 34%|██████████████▍                           | 86/250 [00:27<01:12,  2.25it/s]Total generation time: atcoder_ABC150_C 4.425004590302706e-06\n",
      " 35%|██████████████▌                           | 87/250 [00:27<00:58,  2.77it/s]Total generation time: codeforces_397_B 4.641013219952583e-06\n",
      "Total generation time: atcoder_ABC143_D 4.270987119525671e-06\n",
      " 36%|██████████████▉                           | 89/250 [00:28<00:39,  4.10it/s]Total generation time: codeforces_79_A 4.019006155431271e-06\n",
      " 36%|███████████████                           | 90/250 [00:28<00:42,  3.78it/s]Total generation time: atcoder_ABC178_B 4.335015546530485e-06\n",
      " 36%|███████████████▎                          | 91/250 [00:28<00:37,  4.27it/s]Total generation time: atcoder_ABC089_C 3.096996806561947e-06\n",
      "Total generation time: atcoder_ABC147_D 2.8740032576024532e-06\n",
      " 37%|███████████████▌                          | 93/250 [00:28<00:26,  5.88it/s]Total generation time: atcoder_AGC006_B 3.555993316695094e-06\n",
      "Total generation time: atcoder_ABC124_A 2.7399801183491945e-06\n",
      "Total generation time: atcoder_ABC154_A 2.8650101739913225e-06\n",
      "Total generation time: codeforces_544_B 2.797984052449465e-06\n",
      " 39%|████████████████▎                         | 97/250 [00:28<00:14, 10.59it/s]Total generation time: codeforces_673_A 2.5740009732544422e-06\n",
      "Total generation time: atcoder_ABC152_E 2.9009825084358454e-06\n",
      "Total generation time: atcoder_AGC002_B 3.1660019885748625e-06\n",
      " 40%|████████████████▍                        | 100/250 [00:28<00:11, 13.23it/s]Total generation time: codeforces_306_A 3.130000550299883e-06\n",
      "Total generation time: atcoder_ABC169_C 2.788990968838334e-06\n",
      "Total generation time: atcoder_AGC029_C 3.3199903555214405e-06\n",
      " 41%|████████████████▉                        | 103/250 [00:29<00:09, 15.52it/s]Total generation time: atcoder_ABC106_C 3.100023604929447e-06\n",
      "Total generation time: codeforces_61_B 3.0510127544403076e-06\n",
      "Total generation time: codeforces_154_A 3.0619848985224962e-06\n",
      "Total generation time: atcoder_ABC125_B 3.043998731300235e-06\n",
      " 43%|█████████████████▌                       | 107/250 [00:29<00:06, 20.45it/s]Total generation time: atcoder_ABC150_E 3.1349773053079844e-06\n",
      "Total generation time: codeforces_672_A 2.087996108457446e-06\n",
      "Total generation time: atcoder_AGC028_B 3.189983544871211e-06\n",
      " 44%|██████████████████                       | 110/250 [00:29<00:06, 21.48it/s]Total generation time: atcoder_ABC043_B 3.049994120374322e-06\n",
      "Total generation time: atcoder_ABC133_B 2.2780150175094604e-06\n",
      "Total generation time: atcoder_AGC021_B 3.0449882615357637e-06\n",
      "Total generation time: codeforces_265_B 3.1660019885748625e-06\n",
      " 46%|██████████████████▋                      | 114/250 [00:29<00:05, 25.52it/s]Total generation time: codeforces_96_B 3.0400115065276623e-06\n",
      "Total generation time: codeforces_334_A 2.9869843274354935e-06\n",
      "Total generation time: codeforces_67_B 2.5720219127833843e-06\n",
      " 47%|███████████████████▏                     | 117/250 [00:29<00:05, 25.49it/s]Total generation time: codeforces_282_B 3.0469964258372784e-06\n",
      "Total generation time: atcoder_AGC043_B 3.0910014174878597e-06\n",
      "Total generation time: codeforces_400_B 3.0720257200300694e-06\n",
      " 48%|███████████████████▋                     | 120/250 [00:29<00:05, 25.81it/s]Total generation time: codeforces_31_A 3.0479859560728073e-06\n",
      "Total generation time: codeforces_653_A 2.9900111258029938e-06\n",
      "Total generation time: codeforces_32_B 3.1270028557628393e-06\n",
      " 49%|████████████████████▏                    | 123/250 [00:29<00:05, 24.69it/s]Total generation time: atcoder_ABC122_D 2.9070070013403893e-06\n",
      "Total generation time: codeforces_583_B 3.123015630990267e-06\n",
      "Total generation time: atcoder_ABC148_F 3.0389928724616766e-06\n",
      " 50%|████████████████████▋                    | 126/250 [00:29<00:04, 24.93it/s]Total generation time: codeforces_216_B 2.769986167550087e-06\n",
      "Total generation time: atcoder_ABC165_C 2.9790098778903484e-06\n",
      "Total generation time: codeforces_242_A 2.2139865905046463e-06\n",
      " 52%|█████████████████████▏                   | 129/250 [00:30<00:04, 25.54it/s]Total generation time: atcoder_AGC017_A 2.729997504502535e-06\n",
      "Total generation time: codeforces_607_A 2.369983121752739e-06\n",
      "Total generation time: codeforces_287_A 2.068991307169199e-06\n",
      "Total generation time: codeforces_356_A 3.0900118872523308e-06\n",
      " 53%|█████████████████████▊                   | 133/250 [00:30<00:04, 28.92it/s]Total generation time: codeforces_534_B 2.136977855116129e-06\n",
      "Total generation time: atcoder_ABC150_D 2.22001108340919e-06\n",
      "Total generation time: codeforces_350_B 2.102984581142664e-06\n",
      " 54%|██████████████████████▎                  | 136/250 [00:30<00:04, 26.31it/s]Total generation time: codeforces_268_A 2.589018549770117e-06\n",
      "Total generation time: codeforces_302_A 2.1650048438459635e-06\n",
      "Total generation time: codeforces_222_A 3.0619848985224962e-06\n",
      "Total generation time: atcoder_ABC167_D 2.46299896389246e-06\n",
      " 56%|██████████████████████▉                  | 140/250 [00:30<00:04, 25.76it/s]Total generation time: codeforces_267_A 3.0120136216282845e-06\n",
      "Total generation time: atcoder_ABC112_C 2.0840088836848736e-06\n",
      "Total generation time: atcoder_AGC013_A 2.1379964891821146e-06\n",
      "Total generation time: codeforces_569_A 2.3579923436045647e-06\n",
      " 58%|███████████████████████▌                 | 144/250 [00:30<00:03, 28.69it/s]Total generation time: codeforces_296_A 2.373999450355768e-06\n",
      "Total generation time: atcoder_ABC168_B 3.082997864112258e-06\n",
      "Total generation time: codeforces_203_B 2.3859902285039425e-06\n",
      "Total generation time: codeforces_404_A 2.4600012693554163e-06\n",
      " 59%|████████████████████████▎                | 148/250 [00:30<00:03, 28.21it/s]Total generation time: atcoder_ABC135_D 3.01000545732677e-06\n",
      "Total generation time: atcoder_AGC035_B 3.035995177924633e-06\n",
      "Total generation time: codeforces_147_A 3.0260125640779734e-06\n",
      " 60%|████████████████████████▊                | 151/250 [00:30<00:03, 26.43it/s]Total generation time: atcoder_ABC145_C 2.5129993446171284e-06\n",
      "Total generation time: codeforces_637_A 2.343003870919347e-06\n",
      "Total generation time: codeforces_146_A 2.4040054995566607e-06\n",
      " 62%|█████████████████████████▎               | 154/250 [00:30<00:03, 26.05it/s]Total generation time: codeforces_299_A 3.0800001695752144e-06\n",
      "Total generation time: codeforces_99_A 3.0999945010989904e-06\n",
      "Total generation time: codeforces_546_A 2.9939983505755663e-06\n",
      " 63%|█████████████████████████▋               | 157/250 [00:31<00:04, 22.62it/s]Total generation time: codeforces_354_A 2.3049942683428526e-06\n",
      "Total generation time: codeforces_682_B 3.1109957490116358e-06\n",
      "Total generation time: atcoder_ABC167_C 2.5710032787173986e-06\n",
      " 64%|██████████████████████████▏              | 160/250 [00:31<00:04, 22.01it/s]Total generation time: atcoder_AGC033_B 2.8600043151527643e-06\n",
      "Total generation time: atcoder_ABC171_B 3.0690280254930258e-06\n",
      "Total generation time: codeforces_11_A 2.4579931050539017e-06\n",
      " 65%|██████████████████████████▋              | 163/250 [00:31<00:03, 23.20it/s]Total generation time: codeforces_131_B 3.195018507540226e-06\n",
      "Total generation time: codeforces_514_A 2.262997440993786e-06\n",
      "Total generation time: atcoder_ABC125_A 3.100023604929447e-06\n",
      " 66%|███████████████████████████▏             | 166/250 [00:31<00:03, 24.24it/s]Total generation time: codeforces_276_B 2.774992026388645e-06\n",
      "Total generation time: codeforces_203_A 3.0329974833875895e-06\n",
      "Total generation time: atcoder_ABC142_A 3.1529925763607025e-06\n",
      " 68%|███████████████████████████▋             | 169/250 [00:31<00:03, 23.94it/s]Total generation time: atcoder_ABC132_F 3.022985765710473e-06\n",
      "Total generation time: codeforces_231_A 3.0980154406279325e-06\n",
      "Total generation time: atcoder_AGC034_B 3.249995643272996e-06\n",
      "Total generation time: codeforces_8_B 3.2249954529106617e-06\n",
      " 69%|████████████████████████████▎            | 173/250 [00:31<00:03, 24.74it/s]Total generation time: atcoder_ABC042_A 2.98701343126595e-06\n",
      "Total generation time: atcoder_ABC152_C 3.0189985409379005e-06\n",
      "Total generation time: atcoder_ABC151_A 2.4519977159798145e-06\n",
      "Total generation time: atcoder_ABC111_C 2.2379972506314516e-06\n",
      " 71%|█████████████████████████████            | 177/250 [00:31<00:02, 27.70it/s]Total generation time: codeforces_617_B 2.9240036383271217e-06\n",
      "Total generation time: atcoder_ABC134_E 2.6850029826164246e-06\n",
      "Total generation time: codeforces_7_B 2.516986569389701e-06\n",
      " 72%|█████████████████████████████▌           | 180/250 [00:32<00:02, 26.26it/s]Total generation time: atcoder_ABC155_D 2.3919856175780296e-06\n",
      "Total generation time: codeforces_272_B 2.688000677153468e-06\n",
      "Total generation time: codeforces_408_B 3.14900535158813e-06\n",
      " 73%|██████████████████████████████           | 183/250 [00:32<00:02, 23.88it/s]Total generation time: codeforces_624_B 3.04199056699872e-06\n",
      "Total generation time: codeforces_665_A 3.002001903951168e-06\n",
      "Total generation time: codeforces_469_A 2.9570073820650578e-06\n",
      " 74%|██████████████████████████████▌          | 186/250 [00:32<00:02, 23.30it/s]Total generation time: codeforces_612_B 2.935004886239767e-06\n",
      "Total generation time: atcoder_ABC155_E 3.021006705239415e-06\n",
      "Total generation time: atcoder_AGC005_B 2.82199471257627e-06\n",
      " 76%|██████████████████████████████▉          | 189/250 [00:32<00:02, 24.10it/s]Total generation time: codeforces_644_B 2.9400107450783253e-06\n",
      "Total generation time: codeforces_421_A 2.8380018193274736e-06\n",
      "Total generation time: codeforces_519_B 2.788990968838334e-06\n",
      "Total generation time: atcoder_AGC024_B 2.83500412479043e-06\n",
      " 77%|███████████████████████████████▋         | 193/250 [00:32<00:02, 25.23it/s]Total generation time: atcoder_ABC118_C 2.3110187612473965e-06\n",
      "Total generation time: codeforces_30_A 2.474989742040634e-06\n",
      "Total generation time: codeforces_56_B 1.9799917936325073e-06\n",
      " 78%|████████████████████████████████▏        | 196/250 [00:32<00:02, 25.50it/s]Total generation time: codeforces_459_A 2.8740032576024532e-06\n",
      "Total generation time: atcoder_ABC166_C 2.6349734980612993e-06\n",
      "Total generation time: codeforces_622_A 2.796994522213936e-06\n",
      " 80%|████████████████████████████████▋        | 199/250 [00:32<00:02, 22.62it/s]Total generation time: codeforces_373_B 2.4379987735301256e-06\n",
      "Total generation time: atcoder_ABC123_D 2.654996933415532e-06\n",
      "Total generation time: codeforces_189_A 2.7570058591663837e-06\n",
      " 81%|█████████████████████████████████▏       | 202/250 [00:32<00:02, 22.26it/s]Total generation time: atcoder_ABC136_B 2.802989911288023e-06\n",
      "Total generation time: atcoder_AGC027_A 2.77700019069016e-06\n",
      "Total generation time: codeforces_579_A 2.7850037440657616e-06\n",
      "Total generation time: atcoder_ABC126_D 1.869979314506054e-06\n",
      " 82%|█████████████████████████████████▊       | 206/250 [00:33<00:01, 25.86it/s]Total generation time: codeforces_500_A 2.7670175768435e-06\n",
      "Total generation time: atcoder_AGC038_A 2.367014531046152e-06\n",
      "Total generation time: atcoder_AGC027_B 2.1710002329200506e-06\n",
      " 84%|██████████████████████████████████▎      | 209/250 [00:33<00:01, 26.81it/s]Total generation time: atcoder_ABC107_D 2.9040093068033457e-06\n",
      "Total generation time: atcoder_ABC168_C 2.954009687528014e-06\n",
      "Total generation time: atcoder_ABC104_C 2.2424996132031083e-05\n",
      " 85%|██████████████████████████████████▊      | 212/250 [00:33<00:01, 27.06it/s]Total generation time: codeforces_351_A 2.4379987735301256e-06\n",
      "Total generation time: codeforces_55_A 2.7199857868254185e-06\n",
      "Total generation time: atcoder_AGC037_E 2.747023245319724e-06\n",
      " 86%|███████████████████████████████████▎     | 215/250 [00:33<00:01, 21.70it/s]Total generation time: atcoder_AGC028_A 2.8240028768777847e-06\n",
      "Total generation time: atcoder_AGC003_C 2.850982127711177e-06\n",
      "Total generation time: atcoder_AGC033_A 2.7640198823064566e-06\n",
      "Total generation time: atcoder_ABC132_A 2.8450158424675465e-06\n",
      " 88%|███████████████████████████████████▉     | 219/250 [00:33<00:01, 24.72it/s]Total generation time: codeforces_327_A 2.715998562052846e-06\n",
      "Total generation time: atcoder_ABC129_E 2.229004167020321e-06\n",
      "Total generation time: atcoder_ABC127_B 2.420012606307864e-06\n",
      "Total generation time: atcoder_AGC006_A 2.748012775555253e-06\n",
      " 89%|████████████████████████████████████▌    | 223/250 [00:33<00:00, 28.03it/s]Total generation time: atcoder_AGC019_A 2.742017386481166e-06\n",
      "Total generation time: atcoder_ABC128_C 2.907996531575918e-06\n",
      "Total generation time: codeforces_313_B 2.0980078261345625e-06\n",
      "Total generation time: atcoder_ABC108_B 2.789020072668791e-06\n",
      " 91%|█████████████████████████████████████▏   | 227/250 [00:33<00:00, 29.72it/s]Total generation time: codeforces_37_A 2.7719943318516016e-06\n",
      "Total generation time: codeforces_412_A 2.301996573805809e-06\n",
      "Total generation time: codeforces_400_A 2.7840142138302326e-06\n",
      "Total generation time: codeforces_567_A 2.7529895305633545e-06\n",
      " 92%|█████████████████████████████████████▉   | 231/250 [00:33<00:00, 32.10it/s]Total generation time: atcoder_AGC004_B 2.747023245319724e-06\n",
      "Total generation time: atcoder_ABC112_A 2.8070062398910522e-06\n",
      "Total generation time: atcoder_ABC137_D 2.741988282650709e-06\n",
      "Total generation time: codeforces_379_A 1.9510043784976006e-06\n",
      " 94%|██████████████████████████████████████▌  | 235/250 [00:34<00:00, 32.17it/s]Total generation time: atcoder_ARC062_B 2.8520007617771626e-06\n",
      "Total generation time: codeforces_108_B 2.0379957277327776e-06\n",
      "Total generation time: atcoder_ABC164_A 1.9469880498945713e-06\n",
      "Total generation time: codeforces_705_B 2.5379995349794626e-06\n",
      "Total generation time: atcoder_ABC105_D 2.1529849618673325e-06\n",
      " 96%|███████████████████████████████████████▎ | 240/250 [00:34<00:00, 35.92it/s]Total generation time: codeforces_70_B 2.3070024326443672e-06\n",
      "Total generation time: atcoder_ABC158_B 2.020999090746045e-06\n",
      "Total generation time: codeforces_134_A 1.8629943951964378e-06\n",
      "Total generation time: atcoder_ABC133_E 2.0560109987854958e-06\n",
      " 98%|████████████████████████████████████████ | 244/250 [00:34<00:00, 34.59it/s]Total generation time: codeforces_55_B 1.8080172594636679e-06\n",
      "Total generation time: atcoder_AGC010_B 1.8650025594979525e-06\n",
      "Total generation time: atcoder_ABC149_B 2.221990143880248e-06\n",
      "Total generation time: codeforces_92_A 2.0439911168068647e-06\n",
      " 99%|████████████████████████████████████████▋| 248/250 [00:34<00:00, 34.36it/s]Total generation time: atcoder_ABC145_E 1.9570288714021444e-06\n",
      "Total generation time: atcoder_ABC162_D 2.7400092221796513e-06\n",
      "100%|█████████████████████████████████████████| 250/250 [00:34<00:00,  7.25it/s]\n",
      "Avg generation time of run : 3.392104059457779e-06\n"
     ]
    }
   ],
   "source": [
    "!python3 /home/cse/dual/cs5190439/MTP1/codetlingua/translate/translate.py --model=CodeLlama-13b-Instruct-hf --dataset=avatar --source_lang=Python --target_lang=Java --prompt_type=autocot2d --temperature=0.2 --n_samples=10 --batch_size=5 --max_length=4090 --ngpus=1 --resume "
   ]
  },
  {
   "cell_type": "code",
   "execution_count": 3,
   "id": "2e680471-6114-4dda-a88f-4e40c5b806f8",
   "metadata": {
    "scrolled": true
   },
   "outputs": [
    {
     "name": "stdout",
     "output_type": "stream",
     "text": [
      "/home/cse/dual/cs5190439/.conda/envs/pl_codelingua/lib/python3.10/site-packages/transformers/utils/hub.py:124: FutureWarning: Using `TRANSFORMERS_CACHE` is deprecated and will be removed in v5 of Transformers. Use `HF_HOME` instead.\n",
      "  warnings.warn(\n",
      "Initializing a decoder model: granite-8b-code-instruct ...\n",
      "/home/cse/dual/cs5190439/.conda/envs/pl_codelingua/lib/python3.10/site-packages/transformers/models/auto/tokenization_auto.py:767: FutureWarning: The `use_auth_token` argument is deprecated and will be removed in v5 of Transformers. Please use `token` instead.\n",
      "  warnings.warn(\n",
      "/home/cse/dual/cs5190439/.conda/envs/pl_codelingua/lib/python3.10/site-packages/transformers/models/auto/auto_factory.py:468: FutureWarning: The `use_auth_token` argument is deprecated and will be removed in v5 of Transformers. Please use `token` instead.\n",
      "  warnings.warn(\n",
      "Loading checkpoint shards: 100%|██████████████████| 4/4 [00:27<00:00,  6.93s/it]\n",
      "{'trust_remote_code': False, 'device_map': 'auto'} = \n",
      "found 250 inputs\n",
      "  0%|                                                   | 0/250 [00:00<?, ?it/s]Total generation time: atcoder_AGC004_D 128.61911655700533\n",
      "  0%|▏                                       | 1/250 [02:08<8:53:53, 128.65s/it]Total generation time: atcoder_AGC014_D 140.34720766500686\n",
      "  1%|▎                                       | 2/250 [04:29<9:20:15, 135.55s/it]Total generation time: atcoder_ABC123_C 7.939815986901522e-07\n",
      "Total generation time: atcoder_ABC140_F 116.06138951997855\n",
      "  2%|▋                                        | 4/250 [06:25<5:56:33, 86.96s/it]Total generation time: codeforces_86_A 1.7400016076862812e-06\n",
      "  2%|▊                                        | 5/250 [06:25<4:05:29, 60.12s/it]Total generation time: codeforces_387_B 96.29095394900651\n",
      "  2%|▉                                        | 6/250 [08:01<4:49:36, 71.21s/it]Total generation time: codeforces_49_A 85.71796456599259\n",
      "  3%|█▏                                       | 7/250 [09:27<5:06:21, 75.64s/it]Total generation time: codeforces_110_B 1.1690135579556227e-06\n",
      "Total generation time: codeforces_629_B 113.53738965900266\n",
      "  4%|█▍                                       | 9/250 [11:21<4:28:40, 66.89s/it]Total generation time: codeforces_678_B 165.725437229994\n",
      "  4%|█▌                                      | 10/250 [14:06<6:06:13, 91.55s/it]Total generation time: codeforces_95_A 8.46019247546792e-07\n",
      "Total generation time: codeforces_459_B 1.2200034689158201e-06\n",
      "Total generation time: codeforces_609_B 9.47009539231658e-07\n",
      "  5%|██                                      | 13/250 [14:06<2:54:51, 44.27s/it]Total generation time: atcoder_ABC174_E 1.3929966371506453e-06\n",
      "  5%|██                                      | 13/250 [14:20<2:54:51, 44.27s/it]Total generation time: atcoder_ABC142_C 97.13943012899836\n",
      "  6%|██▍                                     | 15/250 [15:44<2:59:02, 45.71s/it]Total generation time: codeforces_462_B 94.56551955602481\n",
      "  6%|██▌                                     | 16/250 [17:18<3:34:38, 55.04s/it]Total generation time: atcoder_ABC109_B 9.270152077078819e-07\n",
      "Total generation time: codeforces_25_A 9.560026228427887e-07\n",
      "Total generation time: atcoder_AGC002_A 98.11673007099307\n",
      "  8%|███                                     | 19/250 [18:57<2:53:16, 45.00s/it]Total generation time: codeforces_581_B 91.85177809500601\n",
      "  8%|███▏                                    | 20/250 [20:28<3:24:13, 53.28s/it]Total generation time: atcoder_ABC143_A 1.1890078894793987e-06\n",
      "Total generation time: atcoder_ABC174_C 1.2929958757013083e-06\n",
      "Total generation time: atcoder_ABC171_E 1.2629898265004158e-06\n",
      "  9%|███▋                                    | 23/250 [20:40<1:54:52, 30.36s/it]Total generation time: atcoder_ABC110_C 105.36914348302525\n",
      " 10%|███▊                                    | 24/250 [22:14<2:42:28, 43.13s/it]Total generation time: codeforces_23_B 1.214008079841733e-06\n",
      "Total generation time: codeforces_59_A 85.10883269598708\n",
      " 10%|████▏                                   | 26/250 [23:39<2:40:23, 42.96s/it]Total generation time: codeforces_450_A 98.92829744899063\n",
      " 11%|████▎                                   | 27/250 [25:18<3:19:08, 53.58s/it]Total generation time: codeforces_333_B 1.2249802239239216e-06\n",
      "Total generation time: codeforces_340_A 89.73263832798693\n",
      " 12%|████▋                                   | 29/250 [26:48<3:06:08, 50.54s/it]Total generation time: atcoder_ARC086_B 6.839982233941555e-07\n",
      "Total generation time: codeforces_190_A 88.205094111996\n",
      " 12%|████▉                                   | 31/250 [28:16<2:56:40, 48.41s/it]Total generation time: atcoder_ABC164_D 145.86924371201894\n",
      " 13%|█████                                   | 32/250 [30:42<4:04:06, 67.19s/it]Total generation time: atcoder_ABC169_E 1.2500095181167126e-06\n",
      "Total generation time: codeforces_342_B 146.79313383999397\n",
      " 14%|█████▍                                  | 34/250 [33:09<4:09:52, 69.41s/it]Total generation time: atcoder_ABC127_F 1.354987034574151e-06\n",
      "Total generation time: atcoder_AGC046_B 120.92340606698417\n",
      " 14%|█████▊                                  | 36/250 [35:10<3:56:53, 66.42s/it]Total generation time: atcoder_ABC158_A 1.2950040400028229e-06\n",
      "Total generation time: codeforces_669_A 67.43067125600646\n",
      " 15%|██████                                  | 38/250 [36:18<3:17:11, 55.81s/it]Total generation time: codeforces_106_B 1.1279771570116282e-06\n",
      "Total generation time: atcoder_ABC153_A 79.02913539201836\n",
      " 16%|██████▍                                 | 40/250 [37:37<2:57:17, 50.66s/it]Total generation time: atcoder_ABC122_C 1.2329837772995234e-06\n",
      "Total generation time: atcoder_ABC146_D 119.82272008399013\n",
      " 17%|██████▋                                 | 42/250 [39:37<3:05:40, 53.56s/it]Total generation time: atcoder_AGC046_A 69.66153869501431\n",
      " 17%|██████▉                                 | 43/250 [40:46<3:14:54, 56.50s/it]Total generation time: atcoder_ABC149_C 95.1791554770025\n",
      " 18%|███████                                 | 44/250 [42:22<3:41:24, 64.49s/it]Total generation time: codeforces_651_A 76.55665000199224\n",
      " 18%|███████▏                                | 45/250 [43:38<3:49:46, 67.25s/it]Total generation time: codeforces_608_A 86.08821592800086\n",
      " 18%|███████▎                                | 46/250 [45:04<4:04:26, 71.89s/it]Total generation time: codeforces_58_B 1.4099932741373777e-06\n",
      "Total generation time: codeforces_274_A 89.90916465301416\n",
      " 19%|███████▋                                | 48/250 [46:34<3:24:43, 60.81s/it]Total generation time: atcoder_ABC172_D 1.1599913705140352e-06\n",
      "Total generation time: atcoder_ABC070_B 76.40269036599784\n",
      " 20%|████████                                | 50/250 [47:51<2:54:48, 52.44s/it]Total generation time: atcoder_AGC007_C 102.0022242149862\n",
      " 20%|████████▏                               | 51/250 [49:33<3:28:24, 62.84s/it]Total generation time: codeforces_242_B 95.25363251299132\n",
      " 21%|████████▎                               | 52/250 [51:08<3:52:01, 70.31s/it]Total generation time: atcoder_ABC051_A 62.74409719198593\n",
      " 21%|████████▍                               | 53/250 [52:11<3:44:43, 68.44s/it]Total generation time: codeforces_148_B 94.97206887498032\n",
      " 22%|████████▋                               | 54/250 [53:46<4:06:17, 75.40s/it]Total generation time: atcoder_ABC119_B 1.0069925338029861e-06\n",
      "Total generation time: atcoder_ABC124_C 93.2400713909883\n",
      " 22%|████████▉                               | 56/250 [55:19<3:24:03, 63.11s/it]Total generation time: atcoder_ABC139_B 81.33485370400012\n",
      " 23%|█████████                               | 57/250 [56:41<3:36:48, 67.40s/it]Total generation time: atcoder_ABC120_C 83.42840391700156\n",
      " 23%|█████████▎                              | 58/250 [58:04<3:48:37, 71.44s/it]Total generation time: codeforces_596_B 1.087988493964076e-06\n",
      "Total generation time: atcoder_ARC102_C 166.2261148399848\n",
      " 24%|█████████                             | 60/250 [1:00:51<4:01:40, 76.32s/it]Total generation time: codeforces_171_A 2.3980101104825735e-06\n",
      " 24%|█████████▎                            | 61/250 [1:00:51<3:05:23, 58.85s/it]Total generation time: atcoder_ABC126_E 3.349996404722333e-06\n",
      " 24%|█████████▎                            | 61/250 [1:01:02<3:05:23, 58.85s/it]Total generation time: codeforces_518_B 159.99387944000773\n",
      " 25%|█████████▌                            | 63/250 [1:03:31<3:29:38, 67.26s/it]Total generation time: codeforces_456_A 106.26431869799853\n",
      " 26%|█████████▋                            | 64/250 [1:05:18<3:55:20, 75.92s/it]Total generation time: codeforces_474_B 2.2060121409595013e-06\n",
      " 26%|█████████▉                            | 65/250 [1:05:18<2:58:05, 57.76s/it]Total generation time: atcoder_ABC170_A 2.1260057110339403e-06\n",
      "Total generation time: codeforces_445_A 3.7650170270353556e-06\n",
      " 27%|██████████▏                           | 67/250 [1:05:18<1:44:47, 34.36s/it]Total generation time: atcoder_AGC011_C 3.130000550299883e-06\n",
      "Total generation time: codeforces_581_A 3.892986569553614e-06\n",
      " 28%|██████████▍                           | 69/250 [1:05:19<1:06:06, 21.92s/it]Total generation time: atcoder_ABC125_C 132.5491071770084\n",
      " 28%|██████████▋                           | 70/250 [1:07:32<2:14:53, 44.96s/it]Total generation time: atcoder_ABC107_C 146.48880347498925\n",
      " 28%|██████████▊                           | 71/250 [1:09:59<3:23:38, 68.26s/it]Total generation time: atcoder_ABC178_A 93.92732444001012\n",
      " 29%|██████████▉                           | 72/250 [1:11:33<3:41:22, 74.62s/it]Total generation time: codeforces_369_B 3.609980922192335e-06\n",
      " 29%|███████████                           | 73/250 [1:11:33<2:43:00, 55.26s/it]Total generation time: atcoder_ABC140_D 3.590015694499016e-06\n",
      " 30%|███████████▏                          | 74/250 [1:11:33<1:58:24, 40.36s/it]Total generation time: atcoder_AGC012_A 101.69695648699417\n",
      " 30%|███████████▍                          | 75/250 [1:13:15<2:47:53, 57.56s/it]Total generation time: atcoder_AGC025_A 79.65152887799195\n",
      " 30%|███████████▌                          | 76/250 [1:14:35<3:05:19, 63.91s/it]Total generation time: codeforces_632_B 2.0789739210158587e-06\n",
      " 31%|███████████▋                          | 77/250 [1:14:35<2:11:04, 45.46s/it]Total generation time: codeforces_621_A 99.31237698500627\n",
      " 31%|███████████▊                          | 78/250 [1:16:15<2:55:47, 61.32s/it]Total generation time: atcoder_ABC145_B 76.42758719300036\n",
      " 32%|████████████                          | 79/250 [1:17:32<3:07:36, 65.83s/it]Total generation time: atcoder_ABC169_D 3.0800001695752144e-06\n",
      " 32%|████████████▏                         | 80/250 [1:17:32<2:11:33, 46.43s/it]Total generation time: codeforces_387_A 3.7269783206284046e-06\n",
      " 32%|████████████▎                         | 81/250 [1:17:32<1:32:17, 32.76s/it]Total generation time: codeforces_678_A 71.26839153299807\n",
      " 33%|████████████▍                         | 82/250 [1:18:44<2:04:11, 44.35s/it]Total generation time: codeforces_598_A 1.8900027498602867e-06\n",
      " 33%|████████████▌                         | 83/250 [1:18:44<1:26:42, 31.15s/it]Total generation time: atcoder_ABC114_C 105.31661617499776\n",
      " 34%|████████████▊                         | 84/250 [1:20:30<2:27:47, 53.42s/it]Total generation time: atcoder_ABC123_B 1.801992766559124e-06\n",
      " 34%|████████████▉                         | 85/250 [1:20:30<1:43:02, 37.47s/it]Total generation time: codeforces_629_A 3.5399862099438906e-06\n",
      " 34%|█████████████                         | 86/250 [1:20:30<1:11:57, 26.33s/it]Total generation time: atcoder_ABC150_C 102.21285259400611\n",
      " 35%|█████████████▏                        | 87/250 [1:22:13<2:13:28, 49.13s/it]Total generation time: codeforces_397_B 127.19900290499208\n",
      " 35%|█████████████▍                        | 88/250 [1:24:20<3:15:53, 72.55s/it]Total generation time: atcoder_ABC143_D 2.250977559015155e-06\n",
      " 36%|█████████████▌                        | 89/250 [1:24:20<2:16:28, 50.86s/it]Total generation time: codeforces_79_A 2.7900096029043198e-06\n",
      " 36%|█████████████▋                        | 90/250 [1:24:21<1:35:52, 35.95s/it]Total generation time: atcoder_ABC178_B 4.4140033423900604e-06\n",
      " 36%|█████████████▊                        | 91/250 [1:24:22<1:07:00, 25.29s/it]Total generation time: atcoder_ABC089_C 3.610010026022792e-06\n",
      " 37%|██████████████▋                         | 92/250 [1:24:22<46:49, 17.78s/it]Total generation time: atcoder_ABC147_D 123.02730974700535\n",
      " 37%|██████████████▏                       | 93/250 [1:26:25<2:09:31, 49.50s/it]Total generation time: atcoder_AGC006_B 1.6570265870541334e-06\n",
      "Total generation time: atcoder_ABC124_A 79.05977945998893\n",
      " 38%|██████████████▍                       | 95/250 [1:27:45<1:56:07, 44.95s/it]Total generation time: atcoder_ABC154_A 152.78428812898346\n",
      " 38%|██████████████▌                       | 96/250 [1:30:18<3:04:05, 71.72s/it]Total generation time: codeforces_544_B 3.5450211726129055e-06\n",
      " 39%|██████████████▋                       | 97/250 [1:30:18<2:15:18, 53.06s/it]Total generation time: codeforces_673_A 96.18379002201254\n",
      " 39%|██████████████▉                       | 98/250 [1:31:55<2:44:24, 64.90s/it]Total generation time: atcoder_ABC152_E 3.2789830584079027e-06\n",
      " 40%|███████████████                       | 99/250 [1:31:55<1:57:49, 46.82s/it]Total generation time: atcoder_AGC002_B 124.72743577498477\n",
      " 40%|██████████████▊                      | 100/250 [1:34:00<2:53:01, 69.21s/it]Total generation time: codeforces_306_A 2.8370122890919447e-06\n",
      " 40%|██████████████▉                      | 101/250 [1:34:00<2:02:15, 49.23s/it]Total generation time: atcoder_ABC169_C 95.71931491800933\n",
      " 41%|███████████████                      | 102/250 [1:35:36<2:35:13, 62.93s/it]Total generation time: atcoder_AGC029_C 172.01339425100014\n",
      " 41%|███████████████▏                     | 103/250 [1:38:29<3:53:23, 95.26s/it]Total generation time: atcoder_ABC106_C 107.9526507499977\n",
      " 42%|███████████████▍                     | 104/250 [1:40:17<4:01:10, 99.11s/it]Total generation time: codeforces_61_B 2.3669854272156954e-06\n",
      " 42%|███████████████▌                     | 105/250 [1:40:17<2:48:22, 69.67s/it]Total generation time: codeforces_154_A 90.80032681801822\n",
      " 42%|███████████████▋                     | 106/250 [1:41:48<3:02:28, 76.03s/it]Total generation time: atcoder_ABC125_B 100.85569141097949\n",
      " 43%|███████████████▊                     | 107/250 [1:43:29<3:19:01, 83.51s/it]Total generation time: atcoder_ABC150_E 3.084976924583316e-06\n",
      " 43%|███████████████▉                     | 108/250 [1:43:30<2:18:52, 58.68s/it]Total generation time: codeforces_672_A 178.76653158199042\n",
      " 44%|████████████████▏                    | 109/250 [1:46:29<3:42:47, 94.81s/it]Total generation time: atcoder_AGC028_B 156.29322329798015\n",
      " 44%|███████████████▊                    | 110/250 [1:49:06<4:24:24, 113.32s/it]Total generation time: atcoder_ABC043_B 92.30265705700731\n",
      " 44%|███████████████▉                    | 111/250 [1:50:38<4:08:02, 107.07s/it]Total generation time: atcoder_ABC133_B 2.500019036233425e-06\n",
      " 45%|████████████████▌                    | 112/250 [1:50:38<2:52:34, 75.03s/it]Total generation time: atcoder_AGC021_B 123.56584569599363\n",
      " 45%|████████████████▋                    | 113/250 [1:52:42<3:24:46, 89.68s/it]Total generation time: codeforces_265_B 1.480017090216279e-06\n",
      "Total generation time: codeforces_96_B 95.26520883699413\n",
      " 46%|█████████████████                    | 115/250 [1:54:18<2:38:31, 70.45s/it]Total generation time: codeforces_334_A 1.6380217857658863e-06\n",
      " 46%|█████████████████▏                   | 116/250 [1:54:18<1:58:23, 53.01s/it]Total generation time: codeforces_67_B 96.85623658800614\n",
      " 47%|█████████████████▎                   | 117/250 [1:55:56<2:23:05, 64.56s/it]Total generation time: codeforces_282_B 82.85171468000044\n",
      " 47%|█████████████████▍                   | 118/250 [1:57:19<2:33:03, 69.57s/it]Total generation time: atcoder_AGC043_B 3.4919939935207367e-06\n",
      " 48%|█████████████████▌                   | 119/250 [1:57:19<1:49:54, 50.34s/it]Total generation time: codeforces_400_B 3.7599820643663406e-06\n",
      " 48%|█████████████████▊                   | 120/250 [1:57:20<1:18:00, 36.01s/it]Total generation time: codeforces_31_A 93.09728164799162\n",
      " 48%|█████████████████▉                   | 121/250 [1:58:53<1:53:07, 52.62s/it]Total generation time: codeforces_653_A 86.40671781799756\n",
      " 49%|██████████████████                   | 122/250 [2:00:20<2:13:59, 62.81s/it]Total generation time: codeforces_32_B 216.66461935901316\n",
      " 49%|█████████████████▋                  | 123/250 [2:03:57<3:49:00, 108.19s/it]Total generation time: atcoder_ABC122_D 2.094981027767062e-06\n",
      " 50%|██████████████████▎                  | 124/250 [2:03:57<2:39:58, 76.18s/it]Total generation time: codeforces_583_B 106.31098198698601\n",
      " 50%|██████████████████▌                  | 125/250 [2:05:44<2:57:40, 85.28s/it]Total generation time: atcoder_ABC148_F 177.01980407600058\n",
      " 50%|██████████████████▏                 | 126/250 [2:08:42<3:53:06, 112.79s/it]Total generation time: codeforces_216_B 3.4249969758093357e-06\n",
      " 51%|██████████████████▊                  | 127/250 [2:08:42<2:42:28, 79.25s/it]Total generation time: atcoder_ABC165_C 185.5432995170122\n",
      " 51%|██████████████████▍                 | 128/250 [2:11:48<3:45:56, 111.12s/it]Total generation time: codeforces_242_A 2.8899812605232e-06\n",
      " 52%|███████████████████                  | 129/250 [2:11:48<2:37:09, 77.93s/it]Total generation time: atcoder_AGC017_A 142.49486259400146\n",
      " 52%|███████████████████▏                 | 130/250 [2:14:11<3:14:37, 97.31s/it]Total generation time: codeforces_607_A 1.6069971024990082e-06\n",
      " 52%|███████████████████▍                 | 131/250 [2:14:11<2:15:14, 68.19s/it]Total generation time: codeforces_287_A 125.62947877400438\n",
      " 53%|███████████████████▌                 | 132/250 [2:16:17<2:48:11, 85.52s/it]Total generation time: codeforces_356_A 101.23621804898721\n",
      " 53%|███████████████████▋                 | 133/250 [2:17:58<2:56:08, 90.33s/it]Total generation time: codeforces_534_B 3.1320087146013975e-06\n",
      " 54%|███████████████████▊                 | 134/250 [2:17:59<2:02:47, 63.51s/it]Total generation time: atcoder_ABC150_D 124.33927089802455\n",
      " 54%|███████████████████▉                 | 135/250 [2:20:05<2:37:24, 82.13s/it]Total generation time: codeforces_350_B 121.67640625601052\n",
      " 54%|████████████████████▏                | 136/250 [2:22:07<2:58:40, 94.04s/it]Total generation time: codeforces_268_A 3.509019734337926e-06\n",
      " 55%|████████████████████▎                | 137/250 [2:22:07<2:04:10, 65.94s/it]Total generation time: codeforces_302_A 86.77710447600111\n",
      " 55%|████████████████████▍                | 138/250 [2:23:34<2:14:52, 72.25s/it]Total generation time: codeforces_222_A 3.536988515406847e-06\n",
      " 56%|████████████████████▌                | 139/250 [2:23:34<1:33:43, 50.66s/it]Total generation time: atcoder_ABC167_D 122.86635188802029\n",
      " 56%|████████████████████▋                | 140/250 [2:25:38<2:13:11, 72.65s/it]Total generation time: codeforces_267_A 1.5179975889623165e-06\n",
      "Total generation time: atcoder_ABC112_C 146.0971837080142\n",
      " 57%|█████████████████████                | 142/250 [2:28:05<2:11:15, 72.93s/it]Total generation time: atcoder_AGC013_A 2.9650109354406595e-06\n",
      " 57%|█████████████████████▏               | 143/250 [2:28:05<1:37:55, 54.91s/it]Total generation time: codeforces_569_A 3.649998689070344e-06\n",
      " 58%|█████████████████████▎               | 144/250 [2:28:06<1:11:48, 40.65s/it]Total generation time: codeforces_296_A 86.53251981601352\n",
      " 58%|█████████████████████▍               | 145/250 [2:29:33<1:33:11, 53.25s/it]Total generation time: atcoder_ABC168_B 82.28820949801593\n",
      " 58%|█████████████████████▌               | 146/250 [2:30:55<1:46:30, 61.45s/it]Total generation time: codeforces_203_B 2.8650101739913225e-06\n",
      " 59%|█████████████████████▊               | 147/250 [2:30:55<1:15:28, 43.97s/it]Total generation time: codeforces_404_A 4.139990778639913e-06\n",
      " 59%|███████████████████████                | 148/250 [2:30:56<53:19, 31.37s/it]Total generation time: atcoder_ABC135_D 173.56998775000102\n",
      " 60%|██████████████████████               | 149/250 [2:33:50<2:03:03, 73.10s/it]Total generation time: atcoder_AGC035_B 1.6030098777264357e-06\n",
      "Total generation time: codeforces_147_A 3.174995072185993e-06\n",
      " 60%|██████████████████████▎              | 151/250 [2:33:51<1:06:00, 40.00s/it]Total generation time: atcoder_ABC145_C 187.86746873898664\n",
      " 61%|██████████████████████▍              | 152/250 [2:36:59<2:04:41, 76.34s/it]Total generation time: codeforces_637_A 3.2469979487359524e-06\n",
      " 61%|██████████████████████▋              | 153/250 [2:36:59<1:31:31, 56.61s/it]Total generation time: codeforces_146_A 3.4050026442855597e-06\n",
      " 62%|██████████████████████▊              | 154/250 [2:36:59<1:06:17, 41.43s/it]Total generation time: codeforces_299_A 3.84499435313046e-06\n",
      " 62%|████████████████████████▏              | 155/250 [2:37:00<47:23, 29.94s/it]Total generation time: codeforces_99_A 3.597990144044161e-06\n",
      " 62%|████████████████████████▎              | 156/250 [2:37:01<34:07, 21.78s/it]Total generation time: codeforces_546_A 3.4779950510710478e-06\n",
      " 63%|████████████████████████▍              | 157/250 [2:37:01<24:04, 15.53s/it]Total generation time: codeforces_354_A 4.330999217927456e-06\n",
      " 63%|████████████████████████▋              | 158/250 [2:37:01<16:55, 11.04s/it]Total generation time: codeforces_682_B 211.50966512598097\n",
      " 64%|███████████████████████▌             | 159/250 [2:40:34<1:46:41, 70.35s/it]Total generation time: atcoder_ABC167_C 3.155000740662217e-06\n",
      " 64%|███████████████████████▋             | 160/250 [2:40:34<1:14:24, 49.60s/it]Total generation time: atcoder_AGC033_B 3.4999975468963385e-06\n",
      " 64%|█████████████████████████              | 161/250 [2:40:34<51:54, 35.00s/it]Total generation time: atcoder_ABC171_B 3.3529940992593765e-06\n",
      " 65%|█████████████████████████▎             | 162/250 [2:40:35<36:07, 24.63s/it]Total generation time: codeforces_11_A 2.9049988370388746e-06\n",
      " 65%|█████████████████████████▍             | 163/250 [2:40:35<25:07, 17.33s/it]Total generation time: codeforces_131_B 94.20458132898784\n",
      " 66%|█████████████████████████▌             | 164/250 [2:42:09<57:54, 40.40s/it]Total generation time: codeforces_514_A 3.530003596097231e-06\n",
      " 66%|█████████████████████████▋             | 165/250 [2:42:10<40:19, 28.46s/it]Total generation time: atcoder_ABC125_A 3.5700213629752398e-06\n",
      " 66%|█████████████████████████▉             | 166/250 [2:42:10<27:59, 20.00s/it]Total generation time: codeforces_276_B 105.60943609999958\n",
      " 67%|████████████████████████▋            | 167/250 [2:43:56<1:03:16, 45.74s/it]Total generation time: codeforces_203_A 3.1579984351992607e-06\n",
      " 67%|██████████████████████████▏            | 168/250 [2:43:57<44:02, 32.23s/it]Total generation time: atcoder_ABC142_A 88.85817624698393\n",
      " 68%|█████████████████████████            | 169/250 [2:45:26<1:06:30, 49.27s/it]Total generation time: atcoder_ABC132_F 117.46051183500094\n",
      " 68%|█████████████████████████▏           | 170/250 [2:47:23<1:33:02, 69.78s/it]Total generation time: codeforces_231_A 84.28387020502123\n",
      " 68%|█████████████████████████▎           | 171/250 [2:48:48<1:37:39, 74.17s/it]Total generation time: atcoder_AGC034_B 3.764987923204899e-06\n",
      " 69%|█████████████████████████▍           | 172/250 [2:48:48<1:07:39, 52.04s/it]Total generation time: codeforces_8_B 133.51327647999278\n",
      " 69%|█████████████████████████▌           | 173/250 [2:51:02<1:38:24, 76.68s/it]Total generation time: atcoder_ABC042_A 95.31076993001625\n",
      " 70%|█████████████████████████▊           | 174/250 [2:52:38<1:44:14, 82.30s/it]Total generation time: atcoder_ABC152_C 3.4619879443198442e-06\n",
      " 70%|█████████████████████████▉           | 175/250 [2:52:38<1:12:09, 57.72s/it]Total generation time: atcoder_ABC151_A 197.77556100400398\n",
      " 70%|██████████████████████████           | 176/250 [2:55:56<2:03:03, 99.78s/it]Total generation time: atcoder_ABC111_C 162.80203325400362\n",
      " 71%|█████████████████████████▍          | 177/250 [2:58:39<2:24:33, 118.82s/it]Total generation time: codeforces_617_B 80.12758659399697\n",
      " 71%|█████████████████████████▋          | 178/250 [3:00:00<2:08:46, 107.31s/it]Total generation time: atcoder_ABC134_E 4.1339953895658255e-06\n",
      " 72%|██████████████████████████▍          | 179/250 [3:00:00<1:29:07, 75.32s/it]Total generation time: codeforces_7_B 4.060013452544808e-06\n",
      " 72%|██████████████████████████▋          | 180/250 [3:00:01<1:01:37, 52.83s/it]Total generation time: atcoder_ABC155_D 133.07760372100165\n",
      " 72%|██████████████████████████▊          | 181/250 [3:02:15<1:28:54, 77.31s/it]Total generation time: codeforces_272_B 1.9099970813840628e-06\n",
      " 73%|██████████████████████████▉          | 182/250 [3:02:15<1:01:23, 54.16s/it]Total generation time: codeforces_408_B 118.34733078800491\n",
      " 73%|███████████████████████████          | 183/250 [3:04:14<1:22:03, 73.48s/it]Total generation time: codeforces_624_B 88.13193279498955\n",
      " 74%|███████████████████████████▏         | 184/250 [3:05:43<1:25:54, 78.09s/it]Total generation time: codeforces_665_A 91.46295668199309\n",
      " 74%|███████████████████████████▍         | 185/250 [3:07:15<1:29:04, 82.22s/it]Total generation time: codeforces_469_A 101.14197557899752\n",
      " 74%|███████████████████████████▌         | 186/250 [3:08:56<1:33:52, 88.01s/it]Total generation time: codeforces_612_B 2.0040024537593126e-06\n",
      " 75%|███████████████████████████▋         | 187/250 [3:08:56<1:04:44, 61.66s/it]Total generation time: atcoder_ABC155_E 168.5192052400089\n",
      " 75%|███████████████████████████▊         | 188/250 [3:11:46<1:37:05, 93.96s/it]Total generation time: atcoder_AGC005_B 2.80898530036211e-06\n",
      " 76%|███████████████████████████▉         | 189/250 [3:11:46<1:06:56, 65.84s/it]Total generation time: codeforces_644_B 127.8527077260078\n",
      " 76%|████████████████████████████         | 190/250 [3:13:54<1:24:30, 84.51s/it]Total generation time: codeforces_421_A 92.80178544900264\n",
      " 76%|████████████████████████████▎        | 191/250 [3:15:27<1:25:38, 87.10s/it]Total generation time: codeforces_519_B 117.26720629600459\n",
      " 77%|████████████████████████████▍        | 192/250 [3:17:24<1:32:59, 96.20s/it]Total generation time: atcoder_AGC024_B 122.26923422698746\n",
      " 77%|███████████████████████████▊        | 193/250 [3:19:27<1:38:59, 104.19s/it]Total generation time: atcoder_ABC118_C 82.02241723402403\n",
      " 78%|████████████████████████████▋        | 194/250 [3:20:50<1:31:09, 97.66s/it]Total generation time: codeforces_30_A 3.4789845813065767e-06\n",
      " 78%|████████████████████████████▊        | 195/250 [3:20:51<1:02:53, 68.61s/it]Total generation time: codeforces_56_B 118.87989619400469\n",
      " 78%|█████████████████████████████        | 196/250 [3:22:50<1:15:22, 83.74s/it]Total generation time: codeforces_459_A 170.35690126998816\n",
      " 79%|████████████████████████████▎       | 197/250 [3:25:41<1:37:08, 109.97s/it]Total generation time: atcoder_ABC166_C 3.941997420042753e-06\n",
      " 79%|█████████████████████████████▎       | 198/250 [3:25:41<1:06:49, 77.11s/it]Total generation time: codeforces_622_A 3.2200186979025602e-06\n",
      " 80%|███████████████████████████████        | 199/250 [3:25:42<45:57, 54.08s/it]Total generation time: codeforces_373_B 137.8911698689917\n",
      " 80%|█████████████████████████████▌       | 200/250 [3:28:00<1:06:08, 79.36s/it]Total generation time: atcoder_ABC123_D 123.06691884802422\n",
      " 80%|█████████████████████████████▋       | 201/250 [3:30:03<1:15:37, 92.59s/it]Total generation time: codeforces_189_A 116.76220872899285\n",
      " 81%|█████████████████████████████       | 202/250 [3:32:01<1:20:02, 100.05s/it]Total generation time: atcoder_ABC136_B 98.4410748819937\n",
      " 81%|██████████████████████████████       | 203/250 [3:33:39<1:18:02, 99.62s/it]Total generation time: atcoder_AGC027_A 115.68968238198431\n",
      " 82%|█████████████████████████████▍      | 204/250 [3:35:35<1:20:06, 104.50s/it]Total generation time: codeforces_579_A 3.3809919841587543e-06\n",
      " 82%|███████████████████████████████▉       | 205/250 [3:35:36<54:57, 73.28s/it]Total generation time: atcoder_ABC126_D 3.5869888961315155e-06\n",
      "Total generation time: codeforces_500_A 86.69185822902364\n",
      " 83%|████████████████████████████████▎      | 207/250 [3:37:03<42:39, 59.53s/it]Total generation time: atcoder_AGC038_A 155.39115497499006\n",
      " 83%|████████████████████████████████▍      | 208/250 [3:39:38<58:20, 83.34s/it]Total generation time: atcoder_AGC027_B 135.1248919159989\n",
      " 84%|██████████████████████████████▉      | 209/250 [3:41:54<1:06:18, 97.05s/it]Total generation time: atcoder_ABC107_D 169.48457417302416\n",
      " 84%|██████████████████████████████▏     | 210/250 [3:44:44<1:17:54, 116.85s/it]Total generation time: atcoder_ABC168_C 3.704975824803114e-06\n",
      " 84%|████████████████████████████████▉      | 211/250 [3:44:44<54:46, 84.26s/it]Total generation time: atcoder_ABC104_C 120.58713349100435\n",
      " 85%|█████████████████████████████████      | 212/250 [3:46:45<59:59, 94.74s/it]Total generation time: codeforces_351_A 93.97298308298923\n",
      " 85%|█████████████████████████████████▏     | 213/250 [3:48:20<58:22, 94.65s/it]Total generation time: codeforces_55_A 74.35749951499747\n",
      " 86%|█████████████████████████████████▍     | 214/250 [3:49:35<53:24, 89.01s/it]Total generation time: atcoder_AGC037_E 152.03222022400587\n",
      " 86%|██████████████████████████████▉     | 215/250 [3:52:08<1:02:56, 107.89s/it]Total generation time: atcoder_AGC028_A 164.825469694013\n",
      " 86%|███████████████████████████████     | 216/250 [3:54:53<1:10:44, 124.85s/it]Total generation time: atcoder_AGC003_C 84.76001458099927\n",
      " 87%|███████████████████████████████▏    | 217/250 [3:56:18<1:02:10, 113.06s/it]Total generation time: atcoder_AGC033_A 135.06012253000517\n",
      " 87%|███████████████████████████████▍    | 218/250 [3:58:34<1:03:50, 119.69s/it]Total generation time: atcoder_ABC132_A 2.1439918782562017e-06\n",
      " 88%|██████████████████████████████████▏    | 219/250 [3:58:34<43:23, 83.98s/it]Total generation time: codeforces_327_A 154.70900125798653\n",
      " 88%|█████████████████████████████████▍    | 220/250 [4:01:09<52:36, 105.23s/it]Total generation time: atcoder_ABC129_E 4.191999323666096e-06\n",
      " 88%|██████████████████████████████████▍    | 221/250 [4:01:09<35:41, 73.83s/it]Total generation time: atcoder_ABC127_B 89.79118833201937\n",
      " 89%|██████████████████████████████████▋    | 222/250 [4:02:39<36:42, 78.65s/it]Total generation time: atcoder_AGC006_A 87.2155466049735\n",
      " 89%|██████████████████████████████████▊    | 223/250 [4:04:07<36:33, 81.26s/it]Total generation time: atcoder_AGC019_A 3.229011781513691e-06\n",
      " 90%|██████████████████████████████████▉    | 224/250 [4:04:07<24:41, 56.98s/it]Total generation time: atcoder_ABC128_C 157.48540784901707\n",
      " 90%|███████████████████████████████████    | 225/250 [4:06:45<36:21, 87.25s/it]Total generation time: codeforces_313_B 2.562010195106268e-06\n",
      " 90%|███████████████████████████████████▎   | 226/250 [4:06:45<24:27, 61.15s/it]Total generation time: atcoder_ABC108_B 3.7389982026070356e-06\n",
      " 91%|███████████████████████████████████▍   | 227/250 [4:06:45<16:25, 42.86s/it]Total generation time: codeforces_37_A 4.214991349726915e-06\n",
      " 91%|███████████████████████████████████▌   | 228/250 [4:06:45<11:01, 30.07s/it]Total generation time: codeforces_412_A 4.405999789014459e-06\n",
      " 92%|███████████████████████████████████▋   | 229/250 [4:06:46<07:23, 21.13s/it]Total generation time: codeforces_400_A 3.3600081223994493e-06\n",
      "Total generation time: codeforces_567_A 118.63407020500745\n",
      " 92%|████████████████████████████████████   | 231/250 [4:08:45<12:17, 38.81s/it]Total generation time: atcoder_AGC004_B 107.39817351699458\n",
      " 93%|████████████████████████████████████▏  | 232/250 [4:10:32<16:46, 55.90s/it]Total generation time: atcoder_ABC112_A 72.29530266101938\n",
      " 93%|████████████████████████████████████▎  | 233/250 [4:11:45<17:03, 60.22s/it]Total generation time: atcoder_ABC137_D 3.883003955706954e-06\n",
      " 94%|████████████████████████████████████▌  | 234/250 [4:11:45<11:43, 43.96s/it]Total generation time: codeforces_379_A 3.5729899536818266e-06\n",
      " 94%|████████████████████████████████████▋  | 235/250 [4:11:46<07:56, 31.77s/it]Total generation time: atcoder_ARC062_B 3.735010977834463e-06\n",
      "Total generation time: codeforces_108_B 3.515015123412013e-06\n",
      " 95%|████████████████████████████████████▉  | 237/250 [4:11:46<03:50, 17.72s/it]Total generation time: atcoder_ABC164_A 70.55423106899252\n",
      " 95%|█████████████████████████████████████▏ | 238/250 [4:12:57<06:05, 30.48s/it]Total generation time: codeforces_705_B 3.263994585722685e-06\n",
      " 96%|█████████████████████████████████████▎ | 239/250 [4:12:57<04:10, 22.76s/it]Total generation time: atcoder_ABC105_D 138.70924153199303\n",
      " 96%|█████████████████████████████████████▍ | 240/250 [4:15:16<08:59, 53.93s/it]Total generation time: codeforces_70_B 3.222987288609147e-06\n",
      " 96%|█████████████████████████████████████▌ | 241/250 [4:15:16<05:52, 39.13s/it]Total generation time: atcoder_ABC158_B 3.5199918784201145e-06\n",
      " 97%|█████████████████████████████████████▊ | 242/250 [4:15:17<03:45, 28.17s/it]Total generation time: codeforces_134_A 3.630004357546568e-06\n",
      " 97%|█████████████████████████████████████▉ | 243/250 [4:15:17<02:21, 20.18s/it]Total generation time: atcoder_ABC133_E 4.425004590302706e-06\n",
      " 98%|██████████████████████████████████████ | 244/250 [4:15:18<01:27, 14.54s/it]Total generation time: codeforces_55_B 121.34063308199984\n",
      " 98%|██████████████████████████████████████▏| 245/250 [4:17:20<03:50, 46.14s/it]Total generation time: atcoder_AGC010_B 96.32580626301933\n",
      " 98%|██████████████████████████████████████▍| 246/250 [4:18:57<04:04, 61.14s/it]Total generation time: atcoder_ABC149_B 94.29310167298536\n",
      " 99%|██████████████████████████████████████▌| 247/250 [4:20:32<03:33, 71.06s/it]Total generation time: codeforces_92_A 3.269000444561243e-06\n",
      " 99%|██████████████████████████████████████▋| 248/250 [4:20:32<01:39, 49.99s/it]Total generation time: atcoder_ABC145_E 162.57077544298954\n",
      "100%|██████████████████████████████████████▊| 249/250 [4:23:15<01:23, 83.73s/it]Total generation time: atcoder_ABC162_D 110.4590606210113\n",
      "100%|███████████████████████████████████████| 250/250 [4:25:06<00:00, 63.62s/it]\n",
      "Avg generation time of run : 63.34177389109961\n"
     ]
    }
   ],
   "source": [
    "!python3 /home/cse/dual/cs5190439/MTP1/codetlingua/translate/translate.py --model=granite-8b-code-instruct --dataset=avatar --source_lang=Python --target_lang=Java --prompt_type=autocot2d --temperature=0.2 --n_samples=10 --batch_size=10 --max_length=4090 --ngpus=1 --resume \n"
   ]
  },
  {
   "cell_type": "code",
   "execution_count": 4,
   "id": "59310f2b-c8b9-4f44-934d-31fe131bd3e9",
   "metadata": {
    "scrolled": true
   },
   "outputs": [
    {
     "name": "stdout",
     "output_type": "stream",
     "text": [
      "/home/cse/dual/cs5190439/.conda/envs/pl_codelingua/lib/python3.10/site-packages/transformers/utils/hub.py:124: FutureWarning: Using `TRANSFORMERS_CACHE` is deprecated and will be removed in v5 of Transformers. Use `HF_HOME` instead.\n",
      "  warnings.warn(\n",
      "Initializing a decoder model: granite-20b-code-instruct ...\n",
      "/home/cse/dual/cs5190439/.conda/envs/pl_codelingua/lib/python3.10/site-packages/transformers/models/auto/tokenization_auto.py:767: FutureWarning: The `use_auth_token` argument is deprecated and will be removed in v5 of Transformers. Please use `token` instead.\n",
      "  warnings.warn(\n",
      "/home/cse/dual/cs5190439/.conda/envs/pl_codelingua/lib/python3.10/site-packages/transformers/models/auto/auto_factory.py:468: FutureWarning: The `use_auth_token` argument is deprecated and will be removed in v5 of Transformers. Please use `token` instead.\n",
      "  warnings.warn(\n",
      "Loading checkpoint shards: 100%|██████████████████| 9/9 [00:53<00:00,  5.91s/it]\n",
      "{'trust_remote_code': False, 'torch_dtype': torch.bfloat16, 'device_map': 'auto'} = \n",
      "found 250 inputs\n",
      "  0%|                                                   | 0/250 [00:00<?, ?it/s]Total generation time: atcoder_AGC004_D 113.18182593997335\n",
      "  0%|▏                                       | 1/250 [02:02<8:28:04, 122.43s/it]\n",
      "Traceback (most recent call last):\n",
      "  File \"/home/cse/dual/cs5190439/MTP1/codetlingua/translate/translate.py\", line 256, in <module>\n",
      "    main()\n",
      "  File \"/home/cse/dual/cs5190439/MTP1/codetlingua/translate/translate.py\", line 247, in main\n",
      "    translate(args, workdir=workdir, model=model)\n",
      "  File \"/home/cse/dual/cs5190439/MTP1/codetlingua/translate/translate.py\", line 122, in translate\n",
      "    outputs = model.codegen(prompt,\n",
      "  File \"/home/cse/dual/cs5190439/.conda/envs/pl_codelingua/lib/python3.10/site-packages/torch/utils/_contextlib.py\", line 115, in decorate_context\n",
      "    return func(*args, **kwargs)\n",
      "  File \"/home/cse/dual/cs5190439/MTP1/codetlingua/translate/model.py\", line 1606, in codegen\n",
      "    raw_outputs = self.model.generate(\n",
      "  File \"/home/cse/dual/cs5190439/.conda/envs/pl_codelingua/lib/python3.10/site-packages/torch/utils/_contextlib.py\", line 115, in decorate_context\n",
      "    return func(*args, **kwargs)\n",
      "  File \"/home/cse/dual/cs5190439/.conda/envs/pl_codelingua/lib/python3.10/site-packages/transformers/generation/utils.py\", line 1731, in generate\n",
      "    result = self._sample(\n",
      "  File \"/home/cse/dual/cs5190439/.conda/envs/pl_codelingua/lib/python3.10/site-packages/transformers/generation/utils.py\", line 2370, in _sample\n",
      "    outputs = self(\n",
      "  File \"/home/cse/dual/cs5190439/.conda/envs/pl_codelingua/lib/python3.10/site-packages/torch/nn/modules/module.py\", line 1501, in _call_impl\n",
      "    return forward_call(*args, **kwargs)\n",
      "  File \"/home/cse/dual/cs5190439/.conda/envs/pl_codelingua/lib/python3.10/site-packages/transformers/models/gpt_bigcode/modeling_gpt_bigcode.py\", line 1258, in forward\n",
      "    transformer_outputs = self.transformer(\n",
      "  File \"/home/cse/dual/cs5190439/.conda/envs/pl_codelingua/lib/python3.10/site-packages/torch/nn/modules/module.py\", line 1501, in _call_impl\n",
      "    return forward_call(*args, **kwargs)\n",
      "  File \"/home/cse/dual/cs5190439/.conda/envs/pl_codelingua/lib/python3.10/site-packages/transformers/models/gpt_bigcode/modeling_gpt_bigcode.py\", line 1093, in forward\n",
      "    outputs = block(\n",
      "  File \"/home/cse/dual/cs5190439/.conda/envs/pl_codelingua/lib/python3.10/site-packages/torch/nn/modules/module.py\", line 1501, in _call_impl\n",
      "    return forward_call(*args, **kwargs)\n",
      "  File \"/home/cse/dual/cs5190439/.conda/envs/pl_codelingua/lib/python3.10/site-packages/transformers/models/gpt_bigcode/modeling_gpt_bigcode.py\", line 708, in forward\n",
      "    attn_outputs = self.attn(\n",
      "  File \"/home/cse/dual/cs5190439/.conda/envs/pl_codelingua/lib/python3.10/site-packages/torch/nn/modules/module.py\", line 1501, in _call_impl\n",
      "    return forward_call(*args, **kwargs)\n",
      "  File \"/home/cse/dual/cs5190439/.conda/envs/pl_codelingua/lib/python3.10/site-packages/transformers/models/gpt_bigcode/modeling_gpt_bigcode.py\", line 270, in forward\n",
      "    attn_output, attn_weights = self._attn(query, key.transpose(-1, -2), value, attention_mask, head_mask)\n",
      "  File \"/home/cse/dual/cs5190439/.conda/envs/pl_codelingua/lib/python3.10/site-packages/transformers/models/gpt_bigcode/modeling_gpt_bigcode.py\", line 193, in _attn\n",
      "    attn_weights = torch.baddbmm(attn_weights, query, key, beta=beta, alpha=scale_factor).view(attn_shape)\n",
      "torch.cuda.OutOfMemoryError: CUDA out of memory. Tried to allocate 8.05 GiB (GPU 0; 79.15 GiB total capacity; 58.80 GiB already allocated; 2.85 GiB free; 75.79 GiB reserved in total by PyTorch) If reserved memory is >> allocated memory try setting max_split_size_mb to avoid fragmentation.  See documentation for Memory Management and PYTORCH_CUDA_ALLOC_CONF\n"
     ]
    }
   ],
   "source": [
    "!python3 /home/cse/dual/cs5190439/MTP1/codetlingua/translate/translate.py --model=granite-20b-code-instruct --dataset=avatar --source_lang=Python --target_lang=Java --prompt_type=autocot2d --temperature=0.2 --n_samples=10 --batch_size=10 --max_length=4090 --ngpus=1  --resume \n"
   ]
  },
  {
   "cell_type": "code",
   "execution_count": null,
   "id": "8d0ded7f-e9ff-4011-a4fe-2951c0f93bc3",
   "metadata": {},
   "outputs": [],
   "source": []
  }
 ],
 "metadata": {
  "kernelspec": {
   "display_name": "Python 3 (ipykernel)",
   "language": "python",
   "name": "python3"
  },
  "language_info": {
   "codemirror_mode": {
    "name": "ipython",
    "version": 3
   },
   "file_extension": ".py",
   "mimetype": "text/x-python",
   "name": "python",
   "nbconvert_exporter": "python",
   "pygments_lexer": "ipython3",
   "version": "3.10.13"
  }
 },
 "nbformat": 4,
 "nbformat_minor": 5
}
